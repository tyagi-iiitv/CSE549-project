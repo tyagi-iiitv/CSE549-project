{
 "cells": [
  {
   "cell_type": "markdown",
   "metadata": {},
   "source": [
    "# Uncertainty Quantification \n",
    "\n",
    "### Team: \n",
    "\n",
    "##### 111742914 (Syed Fahad Sultan)\n",
    "##### 111482304 (Anjul Kumar Tyagi)\n",
    "##### 111753053 (Arjun Krishna)\n",
    "##### 111447392 (Rohit Rao P)"
   ]
  },
  {
   "cell_type": "markdown",
   "metadata": {},
   "source": [
    "# 1. Data Preparation"
   ]
  },
  {
   "cell_type": "markdown",
   "metadata": {},
   "source": [
    "Reading the data "
   ]
  },
  {
   "cell_type": "code",
   "execution_count": 2,
   "metadata": {
    "collapsed": true
   },
   "outputs": [],
   "source": [
    "import warnings; warnings.simplefilter('ignore')\n",
    "import pandas as pd\n",
    "import numpy as np \n",
    "import math\n",
    "\n",
    "data = pd.read_csv('data/poly_mo/quant_bootstraps.tsv', header=0, sep='\\t')\n",
    "\n",
    "truth = pd.read_csv('data/poly_mo/poly_truth.tsv', header=0, index_col=0, sep='\\t')\n",
    "\n",
    "quant = pd.read_csv('data/poly_mo/quant.sf', header=0, index_col=0, sep='\\t')"
   ]
  },
  {
   "cell_type": "markdown",
   "metadata": {},
   "source": [
    "Computing basic statistics for each transcript"
   ]
  },
  {
   "cell_type": "code",
   "execution_count": 3,
   "metadata": {
    "collapsed": true
   },
   "outputs": [],
   "source": [
    "data = data.apply(lambda x: np.sort(x.values))\n",
    "\n",
    "lower_bounds = data.apply(lambda values: values[int(math.ceil(0.025*len(values)))])\n",
    "upper_bounds = data.apply(lambda values: values[int(math.floor(0.975*len(values)))])\n",
    "\n",
    "data_mins = data.min()\n",
    "data_maxs = data.max()\n",
    "data_means = data.mean()\n",
    "data_std = data.std()\n",
    "\n",
    "data = data.transpose()\n",
    "\n",
    "data['lower_bound'] = lower_bounds\n",
    "data['upper_bound'] = upper_bounds\n",
    "data['min'] = data_mins\n",
    "data['max'] = data_maxs\n",
    "data['mean'] = data_means\n",
    "data['std'] = data_std"
   ]
  },
  {
   "cell_type": "markdown",
   "metadata": {},
   "source": [
    "Merging with ground truth"
   ]
  },
  {
   "cell_type": "code",
   "execution_count": 4,
   "metadata": {
    "collapsed": true
   },
   "outputs": [],
   "source": [
    "data['truth'] = truth\n",
    "\n",
    "data = data[~data['truth'].isnull()]"
   ]
  },
  {
   "cell_type": "markdown",
   "metadata": {},
   "source": [
    "Filtering out invalid transcripts"
   ]
  },
  {
   "cell_type": "code",
   "execution_count": 5,
   "metadata": {
    "collapsed": true
   },
   "outputs": [],
   "source": [
    "# data['invalid'] = data.apply(\n",
    "#     lambda x: (x['truth'] < x['min']) or (x['max'] < x['truth']), axis=1)\n",
    "\n",
    "\n",
    "# data['invalid'] = data.apply(\n",
    "#     lambda x: ((x['mean']-(2*x['std'])) < x['truth'] ) and (x['truth'] < (x['mean']+(2*x['std']))), axis=1)\n",
    "\n",
    "\n",
    "data['invalid'] = data.apply(\n",
    "    lambda x: (x['truth'] < x['lower_bound']) or (x['upper_bound'] < x['truth']), axis=1)\n"
   ]
  },
  {
   "cell_type": "markdown",
   "metadata": {},
   "source": [
    "Using mean error as a continuous variable for the quality of the predictions:"
   ]
  },
  {
   "cell_type": "code",
   "execution_count": 6,
   "metadata": {
    "collapsed": true
   },
   "outputs": [],
   "source": [
    "BOOTSTRAP_RUNS = 200\n",
    "\n",
    "def get_mean_absolute_percentage_error(row):\n",
    "    truth = row['truth']\n",
    "    errors = [(truth-a_count)/truth for a_count in row[:BOOTSTRAP_RUNS]]\n",
    "#     errors_percentage = np.mean(np.abs(errors))*100\n",
    "    errors_percentage = np.mean((errors))*100\n",
    "    return errors_percentage\n",
    "\n",
    "data['mape'] = data.apply(get_mean_absolute_percentage_error, axis=1)"
   ]
  },
  {
   "cell_type": "markdown",
   "metadata": {},
   "source": [
    "Computing normalized version of the mean error:"
   ]
  },
  {
   "cell_type": "code",
   "execution_count": 7,
   "metadata": {
    "collapsed": true
   },
   "outputs": [],
   "source": [
    "data['mae_n'] = data.apply(lambda x: (x['truth']-np.mean(x[:BOOTSTRAP_RUNS]))/(x['max']-x['min']+1) ,axis=1)"
   ]
  },
  {
   "cell_type": "markdown",
   "metadata": {},
   "source": [
    "Merging with attributes available in quant.sf:"
   ]
  },
  {
   "cell_type": "code",
   "execution_count": 8,
   "metadata": {
    "collapsed": true
   },
   "outputs": [],
   "source": [
    "data['Length'] = quant['Length']\n",
    "data['EffectiveLength'] = quant['EffectiveLength']\n",
    "data['TPM'] = quant['TPM']\n",
    "data['NumReads'] = quant['NumReads']"
   ]
  },
  {
   "cell_type": "markdown",
   "metadata": {},
   "source": [
    "Reading equivalence class file:"
   ]
  },
  {
   "cell_type": "code",
   "execution_count": 9,
   "metadata": {
    "collapsed": true
   },
   "outputs": [],
   "source": [
    "lines = []\n",
    "with open('data/poly_mo/eq_classes.txt') as f:\n",
    "    lines = f.readlines()\n",
    "\n",
    "lines = [line.replace('\\n', '') for line in lines]\n",
    "\n",
    "transcripts_count = int(lines[0])\n",
    "\n",
    "transcripts = lines[2:transcripts_count+2]\n",
    "classes = lines[transcripts_count+2:]\n",
    "\n",
    "classes = [datum.split('\\t') for datum in classes]"
   ]
  },
  {
   "cell_type": "markdown",
   "metadata": {},
   "source": [
    "Creating a dataframe for Equivalence classes:"
   ]
  },
  {
   "cell_type": "code",
   "execution_count": 67,
   "metadata": {},
   "outputs": [],
   "source": [
    "unraveled = []\n",
    "\n",
    "for i, eclass in enumerate(classes):\n",
    "    for ts_idx in eclass[1:-1]:\n",
    "        unraveled.append((i, int(eclass[0]), transcripts[int(ts_idx)], int(eclass[-1])))\n",
    "        \n",
    "eq_df = pd.DataFrame().from_dict(unraveled)\n",
    "eq_df.columns=['eclass_id', 'eclass_size', 'transcript', 'numreads']"
   ]
  },
  {
   "cell_type": "markdown",
   "metadata": {},
   "source": [
    "Merging equivalent classes dataframe with the other dataframe:"
   ]
  },
  {
   "cell_type": "code",
   "execution_count": 68,
   "metadata": {
    "collapsed": true
   },
   "outputs": [],
   "source": [
    "merged = pd.merge(eq_df, data[['invalid', 'min', 'max', 'std', 'truth', 'mape']].drop_duplicates(), left_on='transcript', right_index=True)"
   ]
  },
  {
   "cell_type": "markdown",
   "metadata": {},
   "source": [
    "# 2. Observations"
   ]
  },
  {
   "cell_type": "code",
   "execution_count": 12,
   "metadata": {
    "collapsed": true
   },
   "outputs": [],
   "source": [
    "from math import log\n",
    "\n",
    "from matplotlib import pyplot as plt, rc\n",
    "\n",
    "plt.rcParams['figure.figsize'] = (15, 6) \n",
    "# fig.set_size_inches(15,10)\n",
    "\n",
    "%matplotlib inline"
   ]
  },
  {
   "cell_type": "code",
   "execution_count": 177,
   "metadata": {
    "scrolled": true
   },
   "outputs": [
    {
     "name": "stdout",
     "output_type": "stream",
     "text": [
      "Percentage of invalid rows: 50.2547510134\n"
     ]
    }
   ],
   "source": [
    "print \"Percentage of invalid rows: %s\" % \\\n",
    "    (float(sum(data['invalid'])*100)/data.shape[0])"
   ]
  },
  {
   "cell_type": "markdown",
   "metadata": {},
   "source": [
    "### 1. Interestingly, valid transcripts tend to have smaller truth values"
   ]
  },
  {
   "cell_type": "code",
   "execution_count": 187,
   "metadata": {},
   "outputs": [
    {
     "data": {
      "text/plain": [
       "<matplotlib.legend.Legend at 0x134b9bb90>"
      ]
     },
     "execution_count": 187,
     "metadata": {},
     "output_type": "execute_result"
    },
    {
     "data": {
      "image/png": "[encoded data removed]",
      "text/plain": [
       "<matplotlib.figure.Figure at 0x12e0b5e50>"
      ]
     },
     "metadata": {},
     "output_type": "display_data"
    }
   ],
   "source": [
    "plt.rcParams['figure.figsize'] = (15, 6) \n",
    "\n",
    "data[data['invalid']]['truth'].apply(lambda x: log(x+1)).hist(alpha=0.6, bins=50, color='darkred')\n",
    "data[~data['invalid']]['truth'].apply(lambda x: log(x+1)).hist(alpha=0.6, bins=50, color='darkgreen')\n",
    "plt.xlabel('Log of truth value')\n",
    "plt.ylabel('Number of transcripts')\n",
    "plt.legend(['Invalid transcripts', 'Valid transcripts'])"
   ]
  },
  {
   "cell_type": "markdown",
   "metadata": {},
   "source": [
    "### 2. Valid and Invalid transcripts show little variance w.r.t 'Length' and 'Effective Length' features"
   ]
  },
  {
   "cell_type": "code",
   "execution_count": 185,
   "metadata": {},
   "outputs": [
    {
     "data": {
      "image/png": "[encoded data removed]",
      "text/plain": [
       "<matplotlib.figure.Figure at 0x12a1ed290>"
      ]
     },
     "metadata": {},
     "output_type": "display_data"
    }
   ],
   "source": [
    "fig, axs = plt.subplots(2,1, sharey=True, sharex=True)\n",
    "fig.set_size_inches(15,10)\n",
    "\n",
    "properties = ['Length', 'EffectiveLength']\n",
    "\n",
    "for i, prop in enumerate(properties):\n",
    "    ax = data[data['invalid']][prop].apply(lambda x: log(x+1)).hist(ax=axs[i], alpha=0.5, color='darkred')\n",
    "    ax = data[~data['invalid']][prop].apply(lambda x: log(x+1)).hist(ax=axs[i], alpha=0.5, color='darkgreen')\n",
    "    ax.legend(['Log of %s of invalid transcripts' % prop, 'Log of %s of valid transcripts' % prop])"
   ]
  },
  {
   "cell_type": "markdown",
   "metadata": {},
   "source": [
    "### 3. Valid and Invalid transcripts do exhibit variance w.r.t 'TPM' and 'NumReads'"
   ]
  },
  {
   "cell_type": "code",
   "execution_count": 179,
   "metadata": {},
   "outputs": [
    {
     "data": {
      "image/png": "[encoded data removed]",
      "text/plain": [
       "<matplotlib.figure.Figure at 0x12ebbdb10>"
      ]
     },
     "metadata": {},
     "output_type": "display_data"
    }
   ],
   "source": [
    "fig, axs = plt.subplots(2,1, sharey=True, sharex=True)\n",
    "fig.set_size_inches(15,10)\n",
    "\n",
    "properties = ['TPM', 'NumReads']\n",
    "\n",
    "for i, prop in enumerate(properties):\n",
    "    ax = data[data['invalid']][prop].apply(lambda x: log(x+1)).hist(ax=axs[i], alpha=0.6, color='darkred')\n",
    "    ax = data[~data['invalid']][prop].apply(lambda x: log(x+1)).hist(ax=axs[i], alpha=0.6, color='darkgreen')\n",
    "    ax.legend(['Log of %s of invalid transcripts' % prop, 'Log of %s of valid transcripts' % prop])"
   ]
  },
  {
   "cell_type": "markdown",
   "metadata": {
    "collapsed": true
   },
   "source": [
    "### Salmon generally underestimates the count, but when it overestimates, it really really overestimates!"
   ]
  },
  {
   "cell_type": "code",
   "execution_count": 192,
   "metadata": {},
   "outputs": [
    {
     "data": {
      "text/plain": [
       "<matplotlib.axes._subplots.AxesSubplot at 0x135a685d0>"
      ]
     },
     "execution_count": 192,
     "metadata": {},
     "output_type": "execute_result"
    },
    {
     "data": {
      "image/png": "[encoded data removed]",
      "text/plain": [
       "<matplotlib.figure.Figure at 0x1347d1150>"
      ]
     },
     "metadata": {},
     "output_type": "display_data"
    }
   ],
   "source": [
    "plt.rcParams['figure.figsize'] = (15, 6) \n",
    "fig.set_size_inches(15,10)\n",
    "\n",
    "data['mape'].hist(log=True, bins=200)"
   ]
  },
  {
   "cell_type": "code",
   "execution_count": 16,
   "metadata": {},
   "outputs": [
    {
     "data": {
      "text/plain": [
       "True     23920\n",
       "False     2969\n",
       "Name: mape, dtype: int64"
      ]
     },
     "execution_count": 16,
     "metadata": {},
     "output_type": "execute_result"
    }
   ],
   "source": [
    "(data['mape']>0).value_counts()"
   ]
  },
  {
   "cell_type": "markdown",
   "metadata": {},
   "source": [
    "### Mean Error as it relates to valid/invalid"
   ]
  },
  {
   "cell_type": "code",
   "execution_count": 19,
   "metadata": {},
   "outputs": [
    {
     "data": {
      "text/plain": [
       "<matplotlib.legend.Legend at 0x12b486190>"
      ]
     },
     "execution_count": 19,
     "metadata": {},
     "output_type": "execute_result"
    },
    {
     "data": {
      "image/png": "[encoded data removed]",
      "text/plain": [
       "<matplotlib.figure.Figure at 0x12b486890>"
      ]
     },
     "metadata": {},
     "output_type": "display_data"
    }
   ],
   "source": [
    "from matplotlib import pyplot as plt\n",
    "plt.rcParams['figure.figsize'] = (15, 6) \n",
    "data[data['invalid']]['mape'].hist(log=True, alpha=0.5, bins=100, color='darkred')\n",
    "data[~data['invalid']]['mape'].hist(log=True, alpha=0.5, bins=100, color='darkgreen')\n",
    "plt.legend(['invalid', 'valid'])"
   ]
  },
  {
   "cell_type": "markdown",
   "metadata": {},
   "source": [
    "### Normalized mean error with respect to valid invalid transcripts"
   ]
  },
  {
   "cell_type": "code",
   "execution_count": 36,
   "metadata": {},
   "outputs": [
    {
     "data": {
      "image/png": "[encoded data removed]",
      "text/plain": [
       "<matplotlib.figure.Figure at 0x12e7d5390>"
      ]
     },
     "metadata": {},
     "output_type": "display_data"
    }
   ],
   "source": [
    "from matplotlib import pyplot as plt\n",
    "plt.rcParams['figure.figsize'] = (15, 6) \n",
    "data[data['invalid']]['mae_n'].hist(log=True, alpha=0.5, bins=100, color='yellow')\n",
    "data[~data['invalid']]['mae_n'].hist(log=True, alpha=0.5, bins=100, color='blue')\n",
    "plt.legend(['invalid', 'valid'])\n",
    "plt.grid(False)"
   ]
  },
  {
   "cell_type": "markdown",
   "metadata": {},
   "source": [
    "### Relationship between mean error normalized and attributes from quant.sf"
   ]
  },
  {
   "cell_type": "code",
   "execution_count": 55,
   "metadata": {},
   "outputs": [
    {
     "data": {
      "image/png": "[encoded data removed]",
      "text/plain": [
       "<matplotlib.figure.Figure at 0x12db89a90>"
      ]
     },
     "metadata": {},
     "output_type": "display_data"
    }
   ],
   "source": [
    "fig, axs = plt.subplots(4,1)#, sharey=True, sharex=True)\n",
    "fig.set_size_inches(15,10)\n",
    "\n",
    "properties = ['Length', 'EffectiveLength', 'TPM', 'NumReads']\n",
    "\n",
    "for i, prop in enumerate(properties):\n",
    "#     ax = data[data['invalid']][prop].apply(lambda x: log(x+1)).hist(ax=axs[i], alpha=0.5, color='darkred')\n",
    "#     ax = data[~data['invalid']][prop].apply(lambda x: log(x+1)).hist(ax=axs[i], alpha=0.5, color='darkgreen')\n",
    "#     axs[i].scatter(data['mae_n'].apply(lambda x: log(abs(x)) if abs(x)!=0 else log(0.001)), data[prop])\n",
    "    axs[i].scatter(data['mae_n'], data[prop])\n",
    "#     plt.legend(['Log of %s of invalid transcripts' % prop, 'Log of %s of valid transcripts' % prop])\n",
    "\n"
   ]
  },
  {
   "cell_type": "markdown",
   "metadata": {},
   "source": [
    "Zooming into the region with the .. density of points"
   ]
  },
  {
   "cell_type": "code",
   "execution_count": 53,
   "metadata": {},
   "outputs": [
    {
     "data": {
      "image/png": "[encoded data removed]",
      "text/plain": [
       "<matplotlib.figure.Figure at 0x12da5eb90>"
      ]
     },
     "metadata": {},
     "output_type": "display_data"
    }
   ],
   "source": [
    "fig, axs = plt.subplots(4,1)#, sharey=True, sharex=True)\n",
    "fig.set_size_inches(15,10)\n",
    "\n",
    "properties = ['Length', 'EffectiveLength', 'TPM', 'NumReads']\n",
    "\n",
    "filtered = data[np.abs(data['mae_n']) < 5]\n",
    "\n",
    "for i, prop in enumerate(properties):\n",
    "#     ax = data[data['invalid']][prop].apply(lambda x: log(x+1)).hist(ax=axs[i], alpha=0.5, color='darkred')\n",
    "#     ax = data[~data['invalid']][prop].apply(lambda x: log(x+1)).hist(ax=axs[i], alpha=0.5, color='darkgreen')\n",
    "#     axs[i].scatter(data['mae_n'].apply(lambda x: log(abs(x)) if abs(x)!=0 else log(0.001)), data[prop])\n",
    "    axs[i].scatter(filtered['mae_n'], filtered[prop])\n",
    "#     plt.legend(['Log of %s of invalid transcripts' % prop, 'Log of %s of valid transcripts' % prop])\n",
    "\n"
   ]
  },
  {
   "cell_type": "code",
   "execution_count": 83,
   "metadata": {},
   "outputs": [
    {
     "data": {
      "text/plain": [
       "<matplotlib.axes._subplots.AxesSubplot at 0x11ba16ed0>"
      ]
     },
     "execution_count": 83,
     "metadata": {},
     "output_type": "execute_result"
    },
    {
     "data": {
      "image/png": "[encoded data removed]",
      "text/plain": [
       "<matplotlib.figure.Figure at 0x11ba02290>"
      ]
     },
     "metadata": {},
     "output_type": "display_data"
    }
   ],
   "source": [
    "from matplotlib import pyplot as plt\n",
    "plt.rcParams['figure.figsize'] = (15, 6) \n",
    "filtered = data[data.apply(lambda x: x['invalid'] and (np.abs(x['mape']) < 500), axis=1)]\n",
    "filtered['mape'].hist(log=True, alpha=0.5, bins=600)\n",
    "# plt.legend(['invalid', 'valid'])"
   ]
  },
  {
   "cell_type": "code",
   "execution_count": 19,
   "metadata": {},
   "outputs": [
    {
     "data": {
      "text/plain": [
       "<matplotlib.axes._subplots.AxesSubplot at 0x11d37de10>"
      ]
     },
     "execution_count": 19,
     "metadata": {},
     "output_type": "execute_result"
    },
    {
     "data": {
      "image/png": "[encoded data removed]",
      "text/plain": [
       "<matplotlib.figure.Figure at 0x103e293d0>"
      ]
     },
     "metadata": {},
     "output_type": "display_data"
    }
   ],
   "source": [
    "data[data['invalid']]['mape'].hist(log=True, alpha=0.5, bins=100)\n",
    "data[~data['invalid']]['mape'].hist(log=True, alpha=0.5, bins=10)"
   ]
  },
  {
   "cell_type": "code",
   "execution_count": null,
   "metadata": {
    "collapsed": true
   },
   "outputs": [],
   "source": [
    "\n",
    "    sum(data['mape'] < 5)\n",
    "data['mape'].describe()sum(data['mape'] < 5)\n",
    "data['mape'].describe()sum(data['mape'] < 5)\n",
    "data['mape'].describe()\n"
   ]
  },
  {
   "cell_type": "code",
   "execution_count": 98,
   "metadata": {},
   "outputs": [
    {
     "data": {
      "text/plain": [
       "<matplotlib.legend.Legend at 0x131ab8890>"
      ]
     },
     "execution_count": 98,
     "metadata": {},
     "output_type": "execute_result"
    },
    {
     "data": {
      "image/png": "[encoded data removed]",
      "text/plain": [
       "<matplotlib.figure.Figure at 0x131ab8990>"
      ]
     },
     "metadata": {},
     "output_type": "display_data"
    }
   ],
   "source": [
    "data[data['invalid']]['std'].hist(log=True, alpha=0.5)\n",
    "data[~data['invalid']]['std'].hist(log=True, alpha=0.5)\n",
    "plt.legend(['invalid', 'valid'])"
   ]
  },
  {
   "cell_type": "code",
   "execution_count": 57,
   "metadata": {},
   "outputs": [
    {
     "data": {
      "text/plain": [
       "count    26889.000000\n",
       "mean        17.155695\n",
       "std         70.396304\n",
       "min      -4731.840136\n",
       "25%          8.627180\n",
       "50%         17.934069\n",
       "75%         27.386641\n",
       "max        100.000000\n",
       "Name: mape, dtype: float64"
      ]
     },
     "execution_count": 57,
     "metadata": {},
     "output_type": "execute_result"
    }
   ],
   "source": [
    "sum(data['mape'] < 5)\n",
    "data['mape'].describe()"
   ]
  },
  {
   "cell_type": "markdown",
   "metadata": {},
   "source": [
    "### Most transcripts that have a small error are valid"
   ]
  },
  {
   "cell_type": "code",
   "execution_count": 94,
   "metadata": {},
   "outputs": [
    {
     "data": {
      "text/plain": [
       "False    258\n",
       "True      57\n",
       "Name: invalid, dtype: int64"
      ]
     },
     "execution_count": 94,
     "metadata": {},
     "output_type": "execute_result"
    }
   ],
   "source": [
    "data[np.abs(data['mape']) < 5]['invalid'].value_counts()"
   ]
  },
  {
   "cell_type": "code",
   "execution_count": 80,
   "metadata": {},
   "outputs": [
    {
     "data": {
      "text/plain": [
       "-890.35660504348004"
      ]
     },
     "execution_count": 80,
     "metadata": {},
     "output_type": "execute_result"
    }
   ],
   "source": [
    "data['mape'].min()"
   ]
  },
  {
   "cell_type": "code",
   "execution_count": 87,
   "metadata": {
    "collapsed": true
   },
   "outputs": [],
   "source": [
    "from scipy.stats import pearsonr"
   ]
  },
  {
   "cell_type": "code",
   "execution_count": 93,
   "metadata": {},
   "outputs": [
    {
     "data": {
      "text/plain": [
       "(-0.044077154642581606, 4.9040522374147277e-13)"
      ]
     },
     "execution_count": 93,
     "metadata": {},
     "output_type": "execute_result"
    }
   ],
   "source": [
    "pearsonr(data['mape'], data['NumReads'])"
   ]
  },
  {
   "cell_type": "code",
   "execution_count": 55,
   "metadata": {},
   "outputs": [
    {
     "data": {
      "text/plain": [
       "<matplotlib.collections.PathCollection at 0x12ca84fd0>"
      ]
     },
     "execution_count": 55,
     "metadata": {},
     "output_type": "execute_result"
    },
    {
     "data": {
      "image/png": "[encoded data removed]",
      "text/plain": [
       "<matplotlib.figure.Figure at 0x12c720290>"
      ]
     },
     "metadata": {},
     "output_type": "display_data"
    }
   ],
   "source": [
    "# fig, axs = plt.subplots(2,1, sharey=True, sharex=True)\n",
    "# fig.set_size_inches(15,10)\n",
    "\n",
    "properties = ['TPM', 'NumReads']\n",
    "\n",
    "# plt.scatter(mape_logged, data['NumReads'], alpha=0.5)\n",
    "\n",
    "plt.scatter(data['mape'].apply(lambda x: np.abs(x)), data['NumReads'], alpha=0.5)\n",
    "\n",
    "# for i, prop in enumerate(properties):\n",
    "#     ax = data[data['invalid']][prop].apply(lambda x: log(x+1)).hist(ax=axs[i], alpha=0.6, color='darkred')\n",
    "#     ax = data[~data['invalid']][prop].apply(lambda x: log(x+1)).hist(ax=axs[i], alpha=0.6, color='darkgreen')\n",
    "#     ax.legend(['Log of %s of invalid transcripts' % prop, 'Log of %s of valid transcripts' % prop])"
   ]
  },
  {
   "cell_type": "code",
   "execution_count": 71,
   "metadata": {},
   "outputs": [
    {
     "data": {
      "text/plain": [
       "<matplotlib.axes._subplots.AxesSubplot at 0x11fe15750>"
      ]
     },
     "execution_count": 71,
     "metadata": {},
     "output_type": "execute_result"
    },
    {
     "data": {
      "image/png": "[encoded data removed]",
      "text/plain": [
       "<matplotlib.figure.Figure at 0x11fb77390>"
      ]
     },
     "metadata": {},
     "output_type": "display_data"
    }
   ],
   "source": [
    "data['truth'].hist(log=True, alpha=0.5, bins=100)\n",
    "data['mean'].hist(log=True, alpha=0.5, bins=100)"
   ]
  },
  {
   "cell_type": "markdown",
   "metadata": {},
   "source": [
    "### 4. Valid and invalid transcripts are often found together in equivalent classes"
   ]
  },
  {
   "cell_type": "markdown",
   "metadata": {},
   "source": [
    "#### 4.1. Approach 1"
   ]
  },
  {
   "cell_type": "code",
   "execution_count": 260,
   "metadata": {},
   "outputs": [
    {
     "data": {
      "text/plain": [
       "<matplotlib.axes._subplots.AxesSubplot at 0x151b91f90>"
      ]
     },
     "execution_count": 260,
     "metadata": {},
     "output_type": "execute_result"
    },
    {
     "data": {
      "image/png": "[encoded data removed]",
      "text/plain": [
       "<matplotlib.figure.Figure at 0x1486fced0>"
      ]
     },
     "metadata": {},
     "output_type": "display_data"
    }
   ],
   "source": [
    "merged.groupby('eclass_id').apply(lambda x: (sum(x['invalid'])*100)/float(len(x))).hist(bins=100)"
   ]
  },
  {
   "cell_type": "markdown",
   "metadata": {},
   "source": [
    "#### 4.1. Approach 2"
   ]
  },
  {
   "cell_type": "markdown",
   "metadata": {},
   "source": [
    "Trying to look at the makeup of the equivalence classes in terms of percentage of valid and invalid transcripts:"
   ]
  },
  {
   "cell_type": "code",
   "execution_count": 72,
   "metadata": {
    "collapsed": true
   },
   "outputs": [],
   "source": [
    "percentages_invalid = []\n",
    "\n",
    "for eclass in classes:\n",
    "    invalid_count = 0\n",
    "    for transcript_idx in eclass[1:-1]:\n",
    "        if transcripts[int(transcript_idx)] in invalid_ts:\n",
    "            invalid_count += 1\n",
    "    percentage_invalid = (invalid_count*100)/float(eclass[0])\n",
    "    percentages_invalid.append(percentage_invalid)\n",
    "        "
   ]
  },
  {
   "cell_type": "code",
   "execution_count": 88,
   "metadata": {
    "collapsed": true
   },
   "outputs": [],
   "source": [
    "percentages_valid = [100-element for element in percentages_invalid]"
   ]
  },
  {
   "cell_type": "code",
   "execution_count": 123,
   "metadata": {},
   "outputs": [
    {
     "data": {
      "text/plain": [
       "<matplotlib.text.Text at 0x111ddd7d0>"
      ]
     },
     "execution_count": 123,
     "metadata": {},
     "output_type": "execute_result"
    },
    {
     "data": {
      "image/png": "[encoded data removed]",
      "text/plain": [
       "<matplotlib.figure.Figure at 0x1129eddd0>"
      ]
     },
     "metadata": {},
     "output_type": "display_data"
    }
   ],
   "source": [
    "plt.rcParams['figure.figsize'] = (15, 6)\n",
    "plt.grid()\n",
    "pd.Series(percentages_invalid).hist(bins=100)\n",
    "plt.title('Distribution of percentage of invalid transcripts for all equivalence classes')"
   ]
  },
  {
   "cell_type": "markdown",
   "metadata": {},
   "source": [
    "### 5. Number of classes valid and invalid transcripts belong to "
   ]
  },
  {
   "cell_type": "markdown",
   "metadata": {},
   "source": [
    "#### 5.1. Approach 1\n",
    "Creating a new property for each transcript: the number of equivalence classes it belongs to."
   ]
  },
  {
   "cell_type": "code",
   "execution_count": 149,
   "metadata": {
    "collapsed": true
   },
   "outputs": [],
   "source": [
    "all_ts = [int(transcript_idx) for eclass in classes for transcript_idx in eclass[1:-1]]\n",
    "ts_eclass_counts = pd.DataFrame(pd.Series(all_ts).value_counts(), columns=['eclass_cnt'])"
   ]
  },
  {
   "cell_type": "code",
   "execution_count": 151,
   "metadata": {
    "collapsed": true
   },
   "outputs": [],
   "source": [
    "transcripts = pd.DataFrame(transcripts, columns=['transcript'])\n",
    "merged = pd.merge(ts_eclass_counts, transcripts, left_index=True, right_index=True)"
   ]
  },
  {
   "cell_type": "code",
   "execution_count": 158,
   "metadata": {
    "collapsed": true
   },
   "outputs": [],
   "source": [
    "merged.index = merged['transcript']; del merged['transcript']"
   ]
  },
  {
   "cell_type": "code",
   "execution_count": 160,
   "metadata": {
    "collapsed": true
   },
   "outputs": [],
   "source": [
    "data['eclass_cnt'] = merged['eclass_cnt']"
   ]
  },
  {
   "cell_type": "code",
   "execution_count": 166,
   "metadata": {
    "collapsed": true
   },
   "outputs": [],
   "source": [
    "data['eclass_cnt'] = data['eclass_cnt'].fillna(0)"
   ]
  },
  {
   "cell_type": "code",
   "execution_count": 177,
   "metadata": {},
   "outputs": [
    {
     "data": {
      "text/plain": [
       "<matplotlib.legend.Legend at 0x1093027d0>"
      ]
     },
     "execution_count": 177,
     "metadata": {},
     "output_type": "execute_result"
    },
    {
     "data": {
      "image/png": "[encoded data removed]",
      "text/plain": [
       "<matplotlib.figure.Figure at 0x122ac8ad0>"
      ]
     },
     "metadata": {},
     "output_type": "display_data"
    }
   ],
   "source": [
    "fig, axs = plt.subplots(1,2, sharey=True, sharex=True)\n",
    "# fig.set_size_inches(15,15)\n",
    "\n",
    "prop = 'eclass_cnt'\n",
    "\n",
    "ax1 = data[data['invalid']][prop].hist(ax=axs[0], log=True, color='darkred')#.apply(lambda x: log(x+1))\n",
    "ax1.legend(['Log count of equivalence classes, for invalid transcripts'])\n",
    "\n",
    "ax = data[~data['invalid']][prop].hist(ax=axs[1], log=True, color='darkgreen')\n",
    "ax.legend(['Log count of equivalence classes, for valid transcripts'])"
   ]
  },
  {
   "cell_type": "markdown",
   "metadata": {},
   "source": [
    "#### 5.2. Approach 2"
   ]
  },
  {
   "cell_type": "code",
   "execution_count": 256,
   "metadata": {},
   "outputs": [
    {
     "data": {
      "text/html": [
       "<div style=\"max-height:1000px;max-width:1500px;overflow:auto;\">\n",
       "<table border=\"1\" class=\"dataframe\">\n",
       "  <thead>\n",
       "    <tr style=\"text-align: right;\">\n",
       "      <th></th>\n",
       "      <th>eclass_id</th>\n",
       "      <th>eclass_size</th>\n",
       "      <th>transcript</th>\n",
       "      <th>overlap</th>\n",
       "    </tr>\n",
       "  </thead>\n",
       "  <tbody>\n",
       "    <tr>\n",
       "      <th>0</th>\n",
       "      <td>0</td>\n",
       "      <td>1</td>\n",
       "      <td>ENST00000375898</td>\n",
       "      <td>385</td>\n",
       "    </tr>\n",
       "    <tr>\n",
       "      <th>1</th>\n",
       "      <td>1</td>\n",
       "      <td>4</td>\n",
       "      <td>ENST00000198767</td>\n",
       "      <td>47</td>\n",
       "    </tr>\n",
       "    <tr>\n",
       "      <th>2</th>\n",
       "      <td>1</td>\n",
       "      <td>4</td>\n",
       "      <td>ENST00000563559</td>\n",
       "      <td>47</td>\n",
       "    </tr>\n",
       "    <tr>\n",
       "      <th>3</th>\n",
       "      <td>1</td>\n",
       "      <td>4</td>\n",
       "      <td>ENST00000429751</td>\n",
       "      <td>47</td>\n",
       "    </tr>\n",
       "    <tr>\n",
       "      <th>4</th>\n",
       "      <td>1</td>\n",
       "      <td>4</td>\n",
       "      <td>ENST00000564131</td>\n",
       "      <td>47</td>\n",
       "    </tr>\n",
       "  </tbody>\n",
       "</table>\n",
       "</div>"
      ],
      "text/plain": [
       "   eclass_id  eclass_size       transcript  overlap\n",
       "0          0            1  ENST00000375898      385\n",
       "1          1            4  ENST00000198767       47\n",
       "2          1            4  ENST00000563559       47\n",
       "3          1            4  ENST00000429751       47\n",
       "4          1            4  ENST00000564131       47"
      ]
     },
     "execution_count": 256,
     "metadata": {},
     "output_type": "execute_result"
    }
   ],
   "source": [
    "eq_df.head()"
   ]
  },
  {
   "cell_type": "code",
   "execution_count": null,
   "metadata": {
    "collapsed": true
   },
   "outputs": [],
   "source": [
    "eq_df.groupby('transcript').apply(lambda x: )"
   ]
  },
  {
   "cell_type": "code",
   "execution_count": 261,
   "metadata": {},
   "outputs": [
    {
     "data": {
      "text/plain": [
       "<matplotlib.axes._subplots.AxesSubplot at 0x151b72190>"
      ]
     },
     "execution_count": 261,
     "metadata": {},
     "output_type": "execute_result"
    },
    {
     "data": {
      "image/png": "[encoded data removed]",
      "text/plain": [
       "<matplotlib.figure.Figure at 0x14f27b750>"
      ]
     },
     "metadata": {},
     "output_type": "display_data"
    }
   ],
   "source": [
    "merged.groupby('transcript').apply(lambda x: x[x['invalid']]['eclass_id'].unique().shape[0]).apply(lambda x: log(x+1)).hist(alpha=0.6, color='darkred')\n",
    "merged.groupby('transcript').apply(lambda x: x[~x['invalid']]['eclass_id'].unique().shape[0]).apply(lambda x: log(x+1)).hist(alpha=0.6, color='darkgreen')"
   ]
  },
  {
   "cell_type": "markdown",
   "metadata": {
    "collapsed": true
   },
   "source": [
    "### Sum of numreads weighted by size of equivalent classes it belongs to"
   ]
  },
  {
   "cell_type": "code",
   "execution_count": 82,
   "metadata": {},
   "outputs": [
    {
     "data": {
      "text/html": [
       "<div>\n",
       "<style>\n",
       "    .dataframe thead tr:only-child th {\n",
       "        text-align: right;\n",
       "    }\n",
       "\n",
       "    .dataframe thead th {\n",
       "        text-align: left;\n",
       "    }\n",
       "\n",
       "    .dataframe tbody tr th {\n",
       "        vertical-align: top;\n",
       "    }\n",
       "</style>\n",
       "<table border=\"1\" class=\"dataframe\">\n",
       "  <thead>\n",
       "    <tr style=\"text-align: right;\">\n",
       "      <th></th>\n",
       "      <th>0</th>\n",
       "      <th>1</th>\n",
       "      <th>2</th>\n",
       "      <th>3</th>\n",
       "      <th>4</th>\n",
       "      <th>5</th>\n",
       "      <th>6</th>\n",
       "      <th>7</th>\n",
       "      <th>8</th>\n",
       "      <th>9</th>\n",
       "      <th>...</th>\n",
       "      <th>mean</th>\n",
       "      <th>std</th>\n",
       "      <th>truth</th>\n",
       "      <th>invalid</th>\n",
       "      <th>mape</th>\n",
       "      <th>mae_n</th>\n",
       "      <th>Length</th>\n",
       "      <th>EffectiveLength</th>\n",
       "      <th>TPM</th>\n",
       "      <th>NumReads</th>\n",
       "    </tr>\n",
       "  </thead>\n",
       "  <tbody>\n",
       "    <tr>\n",
       "      <th>ENST00000608495</th>\n",
       "      <td>0.000000</td>\n",
       "      <td>0.000000</td>\n",
       "      <td>0.000000</td>\n",
       "      <td>0.000000</td>\n",
       "      <td>0.000000</td>\n",
       "      <td>0.000000</td>\n",
       "      <td>0.000000</td>\n",
       "      <td>0.000000</td>\n",
       "      <td>0.000000</td>\n",
       "      <td>0.000000</td>\n",
       "      <td>...</td>\n",
       "      <td>0.000000</td>\n",
       "      <td>0.000000</td>\n",
       "      <td>1.0</td>\n",
       "      <td>True</td>\n",
       "      <td>100.000000</td>\n",
       "      <td>1.000000</td>\n",
       "      <td>1672</td>\n",
       "      <td>1472.991</td>\n",
       "      <td>0.000000</td>\n",
       "      <td>0.000000</td>\n",
       "    </tr>\n",
       "    <tr>\n",
       "      <th>ENST00000382369</th>\n",
       "      <td>19.272902</td>\n",
       "      <td>21.122520</td>\n",
       "      <td>21.754805</td>\n",
       "      <td>22.437591</td>\n",
       "      <td>22.674037</td>\n",
       "      <td>23.822094</td>\n",
       "      <td>24.348252</td>\n",
       "      <td>24.387028</td>\n",
       "      <td>25.785329</td>\n",
       "      <td>26.017682</td>\n",
       "      <td>...</td>\n",
       "      <td>45.651584</td>\n",
       "      <td>12.636180</td>\n",
       "      <td>55.0</td>\n",
       "      <td>False</td>\n",
       "      <td>16.997120</td>\n",
       "      <td>0.145752</td>\n",
       "      <td>1420</td>\n",
       "      <td>1220.991</td>\n",
       "      <td>1.180968</td>\n",
       "      <td>46.855146</td>\n",
       "    </tr>\n",
       "    <tr>\n",
       "      <th>ENST00000360321</th>\n",
       "      <td>13.465284</td>\n",
       "      <td>15.456381</td>\n",
       "      <td>16.625515</td>\n",
       "      <td>17.269747</td>\n",
       "      <td>19.044385</td>\n",
       "      <td>19.792498</td>\n",
       "      <td>20.374741</td>\n",
       "      <td>20.605138</td>\n",
       "      <td>20.910507</td>\n",
       "      <td>21.264112</td>\n",
       "      <td>...</td>\n",
       "      <td>41.580917</td>\n",
       "      <td>11.378288</td>\n",
       "      <td>54.0</td>\n",
       "      <td>False</td>\n",
       "      <td>22.998302</td>\n",
       "      <td>0.203210</td>\n",
       "      <td>1575</td>\n",
       "      <td>1375.991</td>\n",
       "      <td>0.912080</td>\n",
       "      <td>40.780781</td>\n",
       "    </tr>\n",
       "    <tr>\n",
       "      <th>ENST00000400269</th>\n",
       "      <td>40.970483</td>\n",
       "      <td>45.874537</td>\n",
       "      <td>46.154529</td>\n",
       "      <td>46.272003</td>\n",
       "      <td>47.886339</td>\n",
       "      <td>48.150061</td>\n",
       "      <td>48.583841</td>\n",
       "      <td>50.326164</td>\n",
       "      <td>52.084900</td>\n",
       "      <td>53.358409</td>\n",
       "      <td>...</td>\n",
       "      <td>70.977499</td>\n",
       "      <td>10.912630</td>\n",
       "      <td>92.0</td>\n",
       "      <td>False</td>\n",
       "      <td>22.850545</td>\n",
       "      <td>0.330594</td>\n",
       "      <td>1022</td>\n",
       "      <td>822.991</td>\n",
       "      <td>2.705958</td>\n",
       "      <td>72.364073</td>\n",
       "    </tr>\n",
       "    <tr>\n",
       "      <th>ENST00000382352</th>\n",
       "      <td>1921.000000</td>\n",
       "      <td>1928.000000</td>\n",
       "      <td>1932.000000</td>\n",
       "      <td>1940.000000</td>\n",
       "      <td>1940.000000</td>\n",
       "      <td>1943.000000</td>\n",
       "      <td>1943.000000</td>\n",
       "      <td>1950.000000</td>\n",
       "      <td>1953.000000</td>\n",
       "      <td>1961.000000</td>\n",
       "      <td>...</td>\n",
       "      <td>2035.750000</td>\n",
       "      <td>45.244811</td>\n",
       "      <td>2653.0</td>\n",
       "      <td>True</td>\n",
       "      <td>23.266114</td>\n",
       "      <td>2.550620</td>\n",
       "      <td>3229</td>\n",
       "      <td>3029.991</td>\n",
       "      <td>20.638372</td>\n",
       "      <td>2032.000000</td>\n",
       "    </tr>\n",
       "  </tbody>\n",
       "</table>\n",
       "<p>5 rows × 214 columns</p>\n",
       "</div>"
      ],
      "text/plain": [
       "                           0            1            2            3  \\\n",
       "ENST00000608495     0.000000     0.000000     0.000000     0.000000   \n",
       "ENST00000382369    19.272902    21.122520    21.754805    22.437591   \n",
       "ENST00000360321    13.465284    15.456381    16.625515    17.269747   \n",
       "ENST00000400269    40.970483    45.874537    46.154529    46.272003   \n",
       "ENST00000382352  1921.000000  1928.000000  1932.000000  1940.000000   \n",
       "\n",
       "                           4            5            6            7  \\\n",
       "ENST00000608495     0.000000     0.000000     0.000000     0.000000   \n",
       "ENST00000382369    22.674037    23.822094    24.348252    24.387028   \n",
       "ENST00000360321    19.044385    19.792498    20.374741    20.605138   \n",
       "ENST00000400269    47.886339    48.150061    48.583841    50.326164   \n",
       "ENST00000382352  1940.000000  1943.000000  1943.000000  1950.000000   \n",
       "\n",
       "                           8            9     ...              mean  \\\n",
       "ENST00000608495     0.000000     0.000000     ...          0.000000   \n",
       "ENST00000382369    25.785329    26.017682     ...         45.651584   \n",
       "ENST00000360321    20.910507    21.264112     ...         41.580917   \n",
       "ENST00000400269    52.084900    53.358409     ...         70.977499   \n",
       "ENST00000382352  1953.000000  1961.000000     ...       2035.750000   \n",
       "\n",
       "                       std   truth  invalid        mape     mae_n  Length  \\\n",
       "ENST00000608495   0.000000     1.0     True  100.000000  1.000000    1672   \n",
       "ENST00000382369  12.636180    55.0    False   16.997120  0.145752    1420   \n",
       "ENST00000360321  11.378288    54.0    False   22.998302  0.203210    1575   \n",
       "ENST00000400269  10.912630    92.0    False   22.850545  0.330594    1022   \n",
       "ENST00000382352  45.244811  2653.0     True   23.266114  2.550620    3229   \n",
       "\n",
       "                 EffectiveLength        TPM     NumReads  \n",
       "ENST00000608495         1472.991   0.000000     0.000000  \n",
       "ENST00000382369         1220.991   1.180968    46.855146  \n",
       "ENST00000360321         1375.991   0.912080    40.780781  \n",
       "ENST00000400269          822.991   2.705958    72.364073  \n",
       "ENST00000382352         3029.991  20.638372  2032.000000  \n",
       "\n",
       "[5 rows x 214 columns]"
      ]
     },
     "execution_count": 82,
     "metadata": {},
     "output_type": "execute_result"
    }
   ],
   "source": [
    "data.head()"
   ]
  },
  {
   "cell_type": "code",
   "execution_count": 90,
   "metadata": {},
   "outputs": [],
   "source": [
    "weightedreads = merged.groupby('transcript').apply(lambda x: sum(x['numreads'])).reset_index()\n",
    "# plt.scatter(weightedreads, ['NumReads'])\n"
   ]
  },
  {
   "cell_type": "code",
   "execution_count": 93,
   "metadata": {},
   "outputs": [
    {
     "data": {
      "text/html": [
       "<div>\n",
       "<style>\n",
       "    .dataframe thead tr:only-child th {\n",
       "        text-align: right;\n",
       "    }\n",
       "\n",
       "    .dataframe thead th {\n",
       "        text-align: left;\n",
       "    }\n",
       "\n",
       "    .dataframe tbody tr th {\n",
       "        vertical-align: top;\n",
       "    }\n",
       "</style>\n",
       "<table border=\"1\" class=\"dataframe\">\n",
       "  <thead>\n",
       "    <tr style=\"text-align: right;\">\n",
       "      <th></th>\n",
       "      <th>0</th>\n",
       "      <th>1</th>\n",
       "      <th>2</th>\n",
       "      <th>3</th>\n",
       "      <th>4</th>\n",
       "      <th>5</th>\n",
       "      <th>6</th>\n",
       "      <th>7</th>\n",
       "      <th>8</th>\n",
       "      <th>9</th>\n",
       "      <th>...</th>\n",
       "      <th>mean</th>\n",
       "      <th>std</th>\n",
       "      <th>truth</th>\n",
       "      <th>invalid</th>\n",
       "      <th>mape</th>\n",
       "      <th>mae_n</th>\n",
       "      <th>Length</th>\n",
       "      <th>EffectiveLength</th>\n",
       "      <th>TPM</th>\n",
       "      <th>NumReads</th>\n",
       "    </tr>\n",
       "  </thead>\n",
       "  <tbody>\n",
       "    <tr>\n",
       "      <th>ENST00000608495</th>\n",
       "      <td>0.000000</td>\n",
       "      <td>0.000000</td>\n",
       "      <td>0.000000</td>\n",
       "      <td>0.000000</td>\n",
       "      <td>0.000000</td>\n",
       "      <td>0.000000</td>\n",
       "      <td>0.000000</td>\n",
       "      <td>0.000000</td>\n",
       "      <td>0.000000</td>\n",
       "      <td>0.000000</td>\n",
       "      <td>...</td>\n",
       "      <td>0.000000</td>\n",
       "      <td>0.000000</td>\n",
       "      <td>1.0</td>\n",
       "      <td>True</td>\n",
       "      <td>100.000000</td>\n",
       "      <td>1.000000</td>\n",
       "      <td>1672</td>\n",
       "      <td>1472.991</td>\n",
       "      <td>0.000000</td>\n",
       "      <td>0.000000</td>\n",
       "    </tr>\n",
       "    <tr>\n",
       "      <th>ENST00000382369</th>\n",
       "      <td>19.272902</td>\n",
       "      <td>21.122520</td>\n",
       "      <td>21.754805</td>\n",
       "      <td>22.437591</td>\n",
       "      <td>22.674037</td>\n",
       "      <td>23.822094</td>\n",
       "      <td>24.348252</td>\n",
       "      <td>24.387028</td>\n",
       "      <td>25.785329</td>\n",
       "      <td>26.017682</td>\n",
       "      <td>...</td>\n",
       "      <td>45.651584</td>\n",
       "      <td>12.636180</td>\n",
       "      <td>55.0</td>\n",
       "      <td>False</td>\n",
       "      <td>16.997120</td>\n",
       "      <td>0.145752</td>\n",
       "      <td>1420</td>\n",
       "      <td>1220.991</td>\n",
       "      <td>1.180968</td>\n",
       "      <td>46.855146</td>\n",
       "    </tr>\n",
       "    <tr>\n",
       "      <th>ENST00000360321</th>\n",
       "      <td>13.465284</td>\n",
       "      <td>15.456381</td>\n",
       "      <td>16.625515</td>\n",
       "      <td>17.269747</td>\n",
       "      <td>19.044385</td>\n",
       "      <td>19.792498</td>\n",
       "      <td>20.374741</td>\n",
       "      <td>20.605138</td>\n",
       "      <td>20.910507</td>\n",
       "      <td>21.264112</td>\n",
       "      <td>...</td>\n",
       "      <td>41.580917</td>\n",
       "      <td>11.378288</td>\n",
       "      <td>54.0</td>\n",
       "      <td>False</td>\n",
       "      <td>22.998302</td>\n",
       "      <td>0.203210</td>\n",
       "      <td>1575</td>\n",
       "      <td>1375.991</td>\n",
       "      <td>0.912080</td>\n",
       "      <td>40.780781</td>\n",
       "    </tr>\n",
       "    <tr>\n",
       "      <th>ENST00000400269</th>\n",
       "      <td>40.970483</td>\n",
       "      <td>45.874537</td>\n",
       "      <td>46.154529</td>\n",
       "      <td>46.272003</td>\n",
       "      <td>47.886339</td>\n",
       "      <td>48.150061</td>\n",
       "      <td>48.583841</td>\n",
       "      <td>50.326164</td>\n",
       "      <td>52.084900</td>\n",
       "      <td>53.358409</td>\n",
       "      <td>...</td>\n",
       "      <td>70.977499</td>\n",
       "      <td>10.912630</td>\n",
       "      <td>92.0</td>\n",
       "      <td>False</td>\n",
       "      <td>22.850545</td>\n",
       "      <td>0.330594</td>\n",
       "      <td>1022</td>\n",
       "      <td>822.991</td>\n",
       "      <td>2.705958</td>\n",
       "      <td>72.364073</td>\n",
       "    </tr>\n",
       "    <tr>\n",
       "      <th>ENST00000382352</th>\n",
       "      <td>1921.000000</td>\n",
       "      <td>1928.000000</td>\n",
       "      <td>1932.000000</td>\n",
       "      <td>1940.000000</td>\n",
       "      <td>1940.000000</td>\n",
       "      <td>1943.000000</td>\n",
       "      <td>1943.000000</td>\n",
       "      <td>1950.000000</td>\n",
       "      <td>1953.000000</td>\n",
       "      <td>1961.000000</td>\n",
       "      <td>...</td>\n",
       "      <td>2035.750000</td>\n",
       "      <td>45.244811</td>\n",
       "      <td>2653.0</td>\n",
       "      <td>True</td>\n",
       "      <td>23.266114</td>\n",
       "      <td>2.550620</td>\n",
       "      <td>3229</td>\n",
       "      <td>3029.991</td>\n",
       "      <td>20.638372</td>\n",
       "      <td>2032.000000</td>\n",
       "    </tr>\n",
       "  </tbody>\n",
       "</table>\n",
       "<p>5 rows × 214 columns</p>\n",
       "</div>"
      ],
      "text/plain": [
       "                           0            1            2            3  \\\n",
       "ENST00000608495     0.000000     0.000000     0.000000     0.000000   \n",
       "ENST00000382369    19.272902    21.122520    21.754805    22.437591   \n",
       "ENST00000360321    13.465284    15.456381    16.625515    17.269747   \n",
       "ENST00000400269    40.970483    45.874537    46.154529    46.272003   \n",
       "ENST00000382352  1921.000000  1928.000000  1932.000000  1940.000000   \n",
       "\n",
       "                           4            5            6            7  \\\n",
       "ENST00000608495     0.000000     0.000000     0.000000     0.000000   \n",
       "ENST00000382369    22.674037    23.822094    24.348252    24.387028   \n",
       "ENST00000360321    19.044385    19.792498    20.374741    20.605138   \n",
       "ENST00000400269    47.886339    48.150061    48.583841    50.326164   \n",
       "ENST00000382352  1940.000000  1943.000000  1943.000000  1950.000000   \n",
       "\n",
       "                           8            9     ...              mean  \\\n",
       "ENST00000608495     0.000000     0.000000     ...          0.000000   \n",
       "ENST00000382369    25.785329    26.017682     ...         45.651584   \n",
       "ENST00000360321    20.910507    21.264112     ...         41.580917   \n",
       "ENST00000400269    52.084900    53.358409     ...         70.977499   \n",
       "ENST00000382352  1953.000000  1961.000000     ...       2035.750000   \n",
       "\n",
       "                       std   truth  invalid        mape     mae_n  Length  \\\n",
       "ENST00000608495   0.000000     1.0     True  100.000000  1.000000    1672   \n",
       "ENST00000382369  12.636180    55.0    False   16.997120  0.145752    1420   \n",
       "ENST00000360321  11.378288    54.0    False   22.998302  0.203210    1575   \n",
       "ENST00000400269  10.912630    92.0    False   22.850545  0.330594    1022   \n",
       "ENST00000382352  45.244811  2653.0     True   23.266114  2.550620    3229   \n",
       "\n",
       "                 EffectiveLength        TPM     NumReads  \n",
       "ENST00000608495         1472.991   0.000000     0.000000  \n",
       "ENST00000382369         1220.991   1.180968    46.855146  \n",
       "ENST00000360321         1375.991   0.912080    40.780781  \n",
       "ENST00000400269          822.991   2.705958    72.364073  \n",
       "ENST00000382352         3029.991  20.638372  2032.000000  \n",
       "\n",
       "[5 rows x 214 columns]"
      ]
     },
     "execution_count": 93,
     "metadata": {},
     "output_type": "execute_result"
    }
   ],
   "source": [
    "data.head()"
   ]
  },
  {
   "cell_type": "code",
   "execution_count": 98,
   "metadata": {},
   "outputs": [],
   "source": [
    "weightedreads.columns = ['transcript', 'wreads']"
   ]
  },
  {
   "cell_type": "code",
   "execution_count": 99,
   "metadata": {},
   "outputs": [],
   "source": [
    "wr_merged = pd.merge(data, weightedreads, left_index=True, right_on=['transcript'])"
   ]
  },
  {
   "cell_type": "code",
   "execution_count": 105,
   "metadata": {},
   "outputs": [
    {
     "data": {
      "text/plain": [
       "<matplotlib.collections.PathCollection at 0x1171dda50>"
      ]
     },
     "execution_count": 105,
     "metadata": {},
     "output_type": "execute_result"
    },
    {
     "data": {
      "image/png": "[encoded data removed]",
      "text/plain": [
       "<matplotlib.figure.Figure at 0x12e8dcb10>"
      ]
     },
     "metadata": {},
     "output_type": "display_data"
    }
   ],
   "source": [
    "plt.scatter(wr_merged['NumReads'], wr_merged['wreads'])"
   ]
  },
  {
   "cell_type": "code",
   "execution_count": 107,
   "metadata": {},
   "outputs": [
    {
     "data": {
      "text/plain": [
       "<matplotlib.collections.PathCollection at 0x1166c38d0>"
      ]
     },
     "execution_count": 107,
     "metadata": {},
     "output_type": "execute_result"
    },
    {
     "data": {
      "image/png": "[encoded data removed]",
      "text/plain": [
       "<matplotlib.figure.Figure at 0x12dd9aed0>"
      ]
     },
     "metadata": {},
     "output_type": "display_data"
    }
   ],
   "source": [
    "plt.scatter(wr_merged['NumReads'].apply(lambda x: log(x) if x!=0 else log(0.001)), wr_merged['wreads'].apply(lambda x: log(x) if x!=0 else log(0.001)))"
   ]
  },
  {
   "cell_type": "code",
   "execution_count": 184,
   "metadata": {
    "collapsed": true
   },
   "outputs": [],
   "source": [
    "invalid = merged[merged['invalid']]\n",
    "valid = merged[~merged['invalid']]"
   ]
  },
  {
   "cell_type": "code",
   "execution_count": 185,
   "metadata": {},
   "outputs": [
    {
     "data": {
      "text/plain": [
       "<matplotlib.axes._subplots.AxesSubplot at 0x147e45350>"
      ]
     },
     "execution_count": 185,
     "metadata": {},
     "output_type": "execute_result"
    },
    {
     "data": {
      "image/png": "[encoded data removed]",
      "text/plain": [
       "<matplotlib.figure.Figure at 0x147e0fed0>"
      ]
     },
     "metadata": {},
     "output_type": "display_data"
    }
   ],
   "source": [
    "valid.groupby('transcript').apply(lambda x: sum(x['overlap'])/len(x)).apply(log).hist(alpha=0.5, bins=50, color='darkgreen')\n",
    "invalid.groupby('transcript').apply(lambda x: sum(x['overlap'])/len(x)).apply(log).hist(alpha=0.5, bins=50, color='darkred')"
   ]
  },
  {
   "cell_type": "code",
   "execution_count": 158,
   "metadata": {},
   "outputs": [
    {
     "data": {
      "text/plain": [
       "<matplotlib.axes._subplots.AxesSubplot at 0x134db4690>"
      ]
     },
     "execution_count": 158,
     "metadata": {},
     "output_type": "execute_result"
    },
    {
     "data": {
      "image/png": "[encoded data removed]",
      "text/plain": [
       "<matplotlib.figure.Figure at 0x134d67390>"
      ]
     },
     "metadata": {},
     "output_type": "display_data"
    }
   ],
   "source": [
    "valid.groupby('transcript').apply(lambda x: sum(x['eclass_size'])/len(x)).apply(log).hist(alpha=0.5, bins=100)\n",
    "invalid.groupby('transcript').apply(lambda x: sum(x['eclass_size'])/len(x)).apply(log).hist(alpha=0.5, bins=100)"
   ]
  },
  {
   "cell_type": "code",
   "execution_count": 172,
   "metadata": {},
   "outputs": [
    {
     "data": {
      "text/plain": [
       "<matplotlib.axes._subplots.AxesSubplot at 0x142109090>"
      ]
     },
     "execution_count": 172,
     "metadata": {},
     "output_type": "execute_result"
    },
    {
     "data": {
      "image/png": "[encoded data removed]",
      "text/plain": [
       "<matplotlib.figure.Figure at 0x141beec50>"
      ]
     },
     "metadata": {},
     "output_type": "display_data"
    }
   ],
   "source": [
    "data['truth'].apply(lambda x: log(x+1)).hist(alpha=0.5, bins=100)\n",
    "data['max'].apply(lambda x: log(x+1)).hist(alpha=0.5, bins=100)"
   ]
  },
  {
   "cell_type": "code",
   "execution_count": null,
   "metadata": {
    "collapsed": true
   },
   "outputs": [],
   "source": [
    "eq_df_uniques = eq_df[['eclass_id', 'eclass_len', 'overlap']].drop_duplicates()\n",
    "\n",
    "from math import log \n",
    "\n",
    "plt.rcParams['figure.figsize'] = (15, 6)\n",
    "plt.scatter(eq_df_uniques['eclass_len'], eq_df_uniques['overlap'].apply(lambda x: log(x+1)), alpha=1, s=30)\n",
    "plt.grid()\n",
    "plt.xlabel('Length of equivalent classes')\n",
    "plt.ylabel('Overlap of equivalent classes')\n",
    "plt.title(\"Relationship between length and overlap of equivalent classes\")\n",
    "plt.show()"
   ]
  },
  {
   "cell_type": "code",
   "execution_count": null,
   "metadata": {
    "collapsed": true
   },
   "outputs": [],
   "source": [
    "eq_df[eq_df['eclass_len'] == 1]['overlap'].apply(log).hist()"
   ]
  },
  {
   "cell_type": "code",
   "execution_count": 157,
   "metadata": {},
   "outputs": [
    {
     "data": {
      "text/plain": [
       "<matplotlib.axes._subplots.AxesSubplot at 0x12a646150>"
      ]
     },
     "execution_count": 157,
     "metadata": {},
     "output_type": "execute_result"
    },
    {
     "data": {
      "image/png": "[encoded data removed]",
      "text/plain": [
       "<matplotlib.figure.Figure at 0x12673d250>"
      ]
     },
     "metadata": {},
     "output_type": "display_data"
    }
   ],
   "source": [
    "data[data['invalid']]['quality'].apply(lambda x: log(x+1)).hist(alpha=0.5, bins=100)\n",
    "data[~data['invalid']]['quality'].apply(lambda x: log(x+1)).hist(alpha=0.5, bins=100)"
   ]
  },
  {
   "cell_type": "code",
   "execution_count": 55,
   "metadata": {
    "scrolled": true
   },
   "outputs": [
    {
     "data": {
      "text/html": [
       "<div style=\"max-height:1000px;max-width:1500px;overflow:auto;\">\n",
       "<table border=\"1\" class=\"dataframe\">\n",
       "  <thead>\n",
       "    <tr style=\"text-align: right;\">\n",
       "      <th></th>\n",
       "      <th>erroneous</th>\n",
       "      <th>truth</th>\n",
       "      <th>quality</th>\n",
       "      <th>quality2</th>\n",
       "    </tr>\n",
       "  </thead>\n",
       "  <tbody>\n",
       "    <tr>\n",
       "      <th>ENST00000608495</th>\n",
       "      <td>True</td>\n",
       "      <td>1</td>\n",
       "      <td>20000.000000</td>\n",
       "      <td>100.000000</td>\n",
       "    </tr>\n",
       "    <tr>\n",
       "      <th>ENST00000382369</th>\n",
       "      <td>False</td>\n",
       "      <td>55</td>\n",
       "      <td>4732.443537</td>\n",
       "      <td>16.997120</td>\n",
       "    </tr>\n",
       "    <tr>\n",
       "      <th>ENST00000360321</th>\n",
       "      <td>False</td>\n",
       "      <td>54</td>\n",
       "      <td>5150.160300</td>\n",
       "      <td>22.998302</td>\n",
       "    </tr>\n",
       "    <tr>\n",
       "      <th>ENST00000400269</th>\n",
       "      <td>False</td>\n",
       "      <td>92</td>\n",
       "      <td>4639.511821</td>\n",
       "      <td>22.850545</td>\n",
       "    </tr>\n",
       "    <tr>\n",
       "      <th>ENST00000382352</th>\n",
       "      <td>True</td>\n",
       "      <td>2653</td>\n",
       "      <td>4653.222767</td>\n",
       "      <td>23.266114</td>\n",
       "    </tr>\n",
       "    <tr>\n",
       "      <th>ENST00000342665</th>\n",
       "      <td>True</td>\n",
       "      <td>2804</td>\n",
       "      <td>5757.382311</td>\n",
       "      <td>28.786912</td>\n",
       "    </tr>\n",
       "    <tr>\n",
       "      <th>ENST00000609179</th>\n",
       "      <td>True</td>\n",
       "      <td>261</td>\n",
       "      <td>5947.126437</td>\n",
       "      <td>29.735632</td>\n",
       "    </tr>\n",
       "    <tr>\n",
       "      <th>ENST00000217233</th>\n",
       "      <td>True</td>\n",
       "      <td>382</td>\n",
       "      <td>5935.956118</td>\n",
       "      <td>29.679781</td>\n",
       "    </tr>\n",
       "    <tr>\n",
       "      <th>ENST00000449710</th>\n",
       "      <td>True</td>\n",
       "      <td>350</td>\n",
       "      <td>6630.657128</td>\n",
       "      <td>33.153286</td>\n",
       "    </tr>\n",
       "    <tr>\n",
       "      <th>ENST00000422053</th>\n",
       "      <td>True</td>\n",
       "      <td>259</td>\n",
       "      <td>4691.683835</td>\n",
       "      <td>23.435034</td>\n",
       "    </tr>\n",
       "    <tr>\n",
       "      <th>ENST00000411647</th>\n",
       "      <td>True</td>\n",
       "      <td>892</td>\n",
       "      <td>4693.193238</td>\n",
       "      <td>23.465966</td>\n",
       "    </tr>\n",
       "    <tr>\n",
       "      <th>ENST00000354200</th>\n",
       "      <td>True</td>\n",
       "      <td>945</td>\n",
       "      <td>4234.603175</td>\n",
       "      <td>21.173016</td>\n",
       "    </tr>\n",
       "    <tr>\n",
       "      <th>ENST00000217244</th>\n",
       "      <td>True</td>\n",
       "      <td>3857</td>\n",
       "      <td>1555.105538</td>\n",
       "      <td>7.775528</td>\n",
       "    </tr>\n",
       "    <tr>\n",
       "      <th>ENST00000460062</th>\n",
       "      <td>False</td>\n",
       "      <td>186</td>\n",
       "      <td>1613.881338</td>\n",
       "      <td>6.414593</td>\n",
       "    </tr>\n",
       "    <tr>\n",
       "      <th>ENST00000608066</th>\n",
       "      <td>False</td>\n",
       "      <td>49</td>\n",
       "      <td>3914.537641</td>\n",
       "      <td>16.393486</td>\n",
       "    </tr>\n",
       "    <tr>\n",
       "      <th>ENST00000381962</th>\n",
       "      <td>True</td>\n",
       "      <td>730</td>\n",
       "      <td>3604.109589</td>\n",
       "      <td>18.020548</td>\n",
       "    </tr>\n",
       "    <tr>\n",
       "      <th>ENST00000246104</th>\n",
       "      <td>False</td>\n",
       "      <td>6</td>\n",
       "      <td>8583.333333</td>\n",
       "      <td>35.750000</td>\n",
       "    </tr>\n",
       "    <tr>\n",
       "      <th>ENST00000541082</th>\n",
       "      <td>False</td>\n",
       "      <td>72</td>\n",
       "      <td>10622.124099</td>\n",
       "      <td>50.549204</td>\n",
       "    </tr>\n",
       "    <tr>\n",
       "      <th>ENST00000381939</th>\n",
       "      <td>False</td>\n",
       "      <td>49</td>\n",
       "      <td>11114.206450</td>\n",
       "      <td>53.248831</td>\n",
       "    </tr>\n",
       "    <tr>\n",
       "      <th>ENST00000505691</th>\n",
       "      <td>False</td>\n",
       "      <td>61</td>\n",
       "      <td>3441.998744</td>\n",
       "      <td>15.321793</td>\n",
       "    </tr>\n",
       "    <tr>\n",
       "      <th>ENST00000381899</th>\n",
       "      <td>True</td>\n",
       "      <td>972</td>\n",
       "      <td>4811.173323</td>\n",
       "      <td>24.055867</td>\n",
       "    </tr>\n",
       "    <tr>\n",
       "      <th>ENST00000435720</th>\n",
       "      <td>True</td>\n",
       "      <td>28</td>\n",
       "      <td>6545.499038</td>\n",
       "      <td>32.369714</td>\n",
       "    </tr>\n",
       "    <tr>\n",
       "      <th>ENST00000381898</th>\n",
       "      <td>True</td>\n",
       "      <td>826</td>\n",
       "      <td>4526.112751</td>\n",
       "      <td>22.630564</td>\n",
       "    </tr>\n",
       "    <tr>\n",
       "      <th>ENST00000381894</th>\n",
       "      <td>False</td>\n",
       "      <td>2</td>\n",
       "      <td>12300.000000</td>\n",
       "      <td>51.000000</td>\n",
       "    </tr>\n",
       "    <tr>\n",
       "      <th>ENST00000381873</th>\n",
       "      <td>False</td>\n",
       "      <td>13</td>\n",
       "      <td>19627.843418</td>\n",
       "      <td>46.493690</td>\n",
       "    </tr>\n",
       "    <tr>\n",
       "      <th>ENST00000381867</th>\n",
       "      <td>False</td>\n",
       "      <td>79</td>\n",
       "      <td>6648.681276</td>\n",
       "      <td>32.264784</td>\n",
       "    </tr>\n",
       "    <tr>\n",
       "      <th>ENST00000381808</th>\n",
       "      <td>True</td>\n",
       "      <td>44</td>\n",
       "      <td>5843.181818</td>\n",
       "      <td>29.147727</td>\n",
       "    </tr>\n",
       "    <tr>\n",
       "      <th>ENST00000537552</th>\n",
       "      <td>True</td>\n",
       "      <td>1</td>\n",
       "      <td>20000.000000</td>\n",
       "      <td>100.000000</td>\n",
       "    </tr>\n",
       "    <tr>\n",
       "      <th>ENST00000381715</th>\n",
       "      <td>True</td>\n",
       "      <td>1217</td>\n",
       "      <td>3221.059037</td>\n",
       "      <td>16.102204</td>\n",
       "    </tr>\n",
       "    <tr>\n",
       "      <th>ENST00000400137</th>\n",
       "      <td>True</td>\n",
       "      <td>7745</td>\n",
       "      <td>2789.926243</td>\n",
       "      <td>13.949631</td>\n",
       "    </tr>\n",
       "    <tr>\n",
       "      <th>...</th>\n",
       "      <td>...</td>\n",
       "      <td>...</td>\n",
       "      <td>...</td>\n",
       "      <td>...</td>\n",
       "    </tr>\n",
       "    <tr>\n",
       "      <th>ENST00000299543</th>\n",
       "      <td>False</td>\n",
       "      <td>44</td>\n",
       "      <td>9752.450716</td>\n",
       "      <td>0.454351</td>\n",
       "    </tr>\n",
       "    <tr>\n",
       "      <th>ENST00000075430</th>\n",
       "      <td>True</td>\n",
       "      <td>647</td>\n",
       "      <td>7084.479172</td>\n",
       "      <td>35.422396</td>\n",
       "    </tr>\n",
       "    <tr>\n",
       "      <th>ENST00000590381</th>\n",
       "      <td>True</td>\n",
       "      <td>1137</td>\n",
       "      <td>6604.590345</td>\n",
       "      <td>33.022952</td>\n",
       "    </tr>\n",
       "    <tr>\n",
       "      <th>ENST00000451882</th>\n",
       "      <td>True</td>\n",
       "      <td>99</td>\n",
       "      <td>4667.676768</td>\n",
       "      <td>23.287879</td>\n",
       "    </tr>\n",
       "    <tr>\n",
       "      <th>ENST00000269601</th>\n",
       "      <td>True</td>\n",
       "      <td>2655</td>\n",
       "      <td>3341.786020</td>\n",
       "      <td>16.708930</td>\n",
       "    </tr>\n",
       "    <tr>\n",
       "      <th>ENST00000588162</th>\n",
       "      <td>True</td>\n",
       "      <td>556</td>\n",
       "      <td>4785.335520</td>\n",
       "      <td>23.926678</td>\n",
       "    </tr>\n",
       "    <tr>\n",
       "      <th>ENST00000592957</th>\n",
       "      <td>True</td>\n",
       "      <td>415</td>\n",
       "      <td>4532.660818</td>\n",
       "      <td>22.663304</td>\n",
       "    </tr>\n",
       "    <tr>\n",
       "      <th>ENST00000306735</th>\n",
       "      <td>True</td>\n",
       "      <td>719</td>\n",
       "      <td>3037.254958</td>\n",
       "      <td>15.171235</td>\n",
       "    </tr>\n",
       "    <tr>\n",
       "      <th>ENST00000262197</th>\n",
       "      <td>True</td>\n",
       "      <td>579</td>\n",
       "      <td>5531.220111</td>\n",
       "      <td>27.656101</td>\n",
       "    </tr>\n",
       "    <tr>\n",
       "      <th>ENST00000568911</th>\n",
       "      <td>False</td>\n",
       "      <td>68</td>\n",
       "      <td>3148.714997</td>\n",
       "      <td>14.923514</td>\n",
       "    </tr>\n",
       "    <tr>\n",
       "      <th>ENST00000566810</th>\n",
       "      <td>False</td>\n",
       "      <td>1</td>\n",
       "      <td>18359.795438</td>\n",
       "      <td>23.798977</td>\n",
       "    </tr>\n",
       "    <tr>\n",
       "      <th>ENST00000564686</th>\n",
       "      <td>False</td>\n",
       "      <td>1</td>\n",
       "      <td>14700.000000</td>\n",
       "      <td>1.500000</td>\n",
       "    </tr>\n",
       "    <tr>\n",
       "      <th>ENST00000561195</th>\n",
       "      <td>False</td>\n",
       "      <td>1</td>\n",
       "      <td>15200.000000</td>\n",
       "      <td>13.000000</td>\n",
       "    </tr>\n",
       "    <tr>\n",
       "      <th>ENST00000586421</th>\n",
       "      <td>False</td>\n",
       "      <td>43</td>\n",
       "      <td>3493.251850</td>\n",
       "      <td>15.780108</td>\n",
       "    </tr>\n",
       "    <tr>\n",
       "      <th>ENST00000585422</th>\n",
       "      <td>False</td>\n",
       "      <td>2</td>\n",
       "      <td>13726.548694</td>\n",
       "      <td>27.536443</td>\n",
       "    </tr>\n",
       "    <tr>\n",
       "      <th>ENST00000589574</th>\n",
       "      <td>False</td>\n",
       "      <td>52</td>\n",
       "      <td>3302.524051</td>\n",
       "      <td>15.093894</td>\n",
       "    </tr>\n",
       "    <tr>\n",
       "      <th>ENST00000463384</th>\n",
       "      <td>True</td>\n",
       "      <td>120</td>\n",
       "      <td>4248.333333</td>\n",
       "      <td>21.166667</td>\n",
       "    </tr>\n",
       "    <tr>\n",
       "      <th>ENST00000361390</th>\n",
       "      <td>True</td>\n",
       "      <td>131391</td>\n",
       "      <td>2823.336454</td>\n",
       "      <td>14.116682</td>\n",
       "    </tr>\n",
       "    <tr>\n",
       "      <th>ENST00000361453</th>\n",
       "      <td>True</td>\n",
       "      <td>149407</td>\n",
       "      <td>1177.163051</td>\n",
       "      <td>5.885815</td>\n",
       "    </tr>\n",
       "    <tr>\n",
       "      <th>ENST00000361624</th>\n",
       "      <td>True</td>\n",
       "      <td>1149163</td>\n",
       "      <td>2261.838921</td>\n",
       "      <td>11.309195</td>\n",
       "    </tr>\n",
       "    <tr>\n",
       "      <th>ENST00000361739</th>\n",
       "      <td>True</td>\n",
       "      <td>390303</td>\n",
       "      <td>2565.354097</td>\n",
       "      <td>12.826770</td>\n",
       "    </tr>\n",
       "    <tr>\n",
       "      <th>ENST00000361851</th>\n",
       "      <td>False</td>\n",
       "      <td>8208</td>\n",
       "      <td>190.728558</td>\n",
       "      <td>0.417459</td>\n",
       "    </tr>\n",
       "    <tr>\n",
       "      <th>ENST00000361899</th>\n",
       "      <td>True</td>\n",
       "      <td>245189</td>\n",
       "      <td>1573.498811</td>\n",
       "      <td>7.867494</td>\n",
       "    </tr>\n",
       "    <tr>\n",
       "      <th>ENST00000362079</th>\n",
       "      <td>True</td>\n",
       "      <td>396553</td>\n",
       "      <td>2310.489897</td>\n",
       "      <td>11.552449</td>\n",
       "    </tr>\n",
       "    <tr>\n",
       "      <th>ENST00000361227</th>\n",
       "      <td>True</td>\n",
       "      <td>32006</td>\n",
       "      <td>712.844467</td>\n",
       "      <td>3.564222</td>\n",
       "    </tr>\n",
       "    <tr>\n",
       "      <th>ENST00000361335</th>\n",
       "      <td>True</td>\n",
       "      <td>24918</td>\n",
       "      <td>1908.210932</td>\n",
       "      <td>9.541055</td>\n",
       "    </tr>\n",
       "    <tr>\n",
       "      <th>ENST00000361381</th>\n",
       "      <td>True</td>\n",
       "      <td>455346</td>\n",
       "      <td>1697.397364</td>\n",
       "      <td>8.486987</td>\n",
       "    </tr>\n",
       "    <tr>\n",
       "      <th>ENST00000361567</th>\n",
       "      <td>True</td>\n",
       "      <td>231952</td>\n",
       "      <td>1909.382976</td>\n",
       "      <td>9.546915</td>\n",
       "    </tr>\n",
       "    <tr>\n",
       "      <th>ENST00000361681</th>\n",
       "      <td>True</td>\n",
       "      <td>78271</td>\n",
       "      <td>1472.662928</td>\n",
       "      <td>7.363315</td>\n",
       "    </tr>\n",
       "    <tr>\n",
       "      <th>ENST00000361789</th>\n",
       "      <td>True</td>\n",
       "      <td>177731</td>\n",
       "      <td>2518.165655</td>\n",
       "      <td>12.590828</td>\n",
       "    </tr>\n",
       "  </tbody>\n",
       "</table>\n",
       "<p>26889 rows × 4 columns</p>\n",
       "</div>"
      ],
      "text/plain": [
       "                erroneous    truth       quality    quality2\n",
       "ENST00000608495      True        1  20000.000000  100.000000\n",
       "ENST00000382369     False       55   4732.443537   16.997120\n",
       "ENST00000360321     False       54   5150.160300   22.998302\n",
       "ENST00000400269     False       92   4639.511821   22.850545\n",
       "ENST00000382352      True     2653   4653.222767   23.266114\n",
       "ENST00000342665      True     2804   5757.382311   28.786912\n",
       "ENST00000609179      True      261   5947.126437   29.735632\n",
       "ENST00000217233      True      382   5935.956118   29.679781\n",
       "ENST00000449710      True      350   6630.657128   33.153286\n",
       "ENST00000422053      True      259   4691.683835   23.435034\n",
       "ENST00000411647      True      892   4693.193238   23.465966\n",
       "ENST00000354200      True      945   4234.603175   21.173016\n",
       "ENST00000217244      True     3857   1555.105538    7.775528\n",
       "ENST00000460062     False      186   1613.881338    6.414593\n",
       "ENST00000608066     False       49   3914.537641   16.393486\n",
       "ENST00000381962      True      730   3604.109589   18.020548\n",
       "ENST00000246104     False        6   8583.333333   35.750000\n",
       "ENST00000541082     False       72  10622.124099   50.549204\n",
       "ENST00000381939     False       49  11114.206450   53.248831\n",
       "ENST00000505691     False       61   3441.998744   15.321793\n",
       "ENST00000381899      True      972   4811.173323   24.055867\n",
       "ENST00000435720      True       28   6545.499038   32.369714\n",
       "ENST00000381898      True      826   4526.112751   22.630564\n",
       "ENST00000381894     False        2  12300.000000   51.000000\n",
       "ENST00000381873     False       13  19627.843418   46.493690\n",
       "ENST00000381867     False       79   6648.681276   32.264784\n",
       "ENST00000381808      True       44   5843.181818   29.147727\n",
       "ENST00000537552      True        1  20000.000000  100.000000\n",
       "ENST00000381715      True     1217   3221.059037   16.102204\n",
       "ENST00000400137      True     7745   2789.926243   13.949631\n",
       "...                   ...      ...           ...         ...\n",
       "ENST00000299543     False       44   9752.450716    0.454351\n",
       "ENST00000075430      True      647   7084.479172   35.422396\n",
       "ENST00000590381      True     1137   6604.590345   33.022952\n",
       "ENST00000451882      True       99   4667.676768   23.287879\n",
       "ENST00000269601      True     2655   3341.786020   16.708930\n",
       "ENST00000588162      True      556   4785.335520   23.926678\n",
       "ENST00000592957      True      415   4532.660818   22.663304\n",
       "ENST00000306735      True      719   3037.254958   15.171235\n",
       "ENST00000262197      True      579   5531.220111   27.656101\n",
       "ENST00000568911     False       68   3148.714997   14.923514\n",
       "ENST00000566810     False        1  18359.795438   23.798977\n",
       "ENST00000564686     False        1  14700.000000    1.500000\n",
       "ENST00000561195     False        1  15200.000000   13.000000\n",
       "ENST00000586421     False       43   3493.251850   15.780108\n",
       "ENST00000585422     False        2  13726.548694   27.536443\n",
       "ENST00000589574     False       52   3302.524051   15.093894\n",
       "ENST00000463384      True      120   4248.333333   21.166667\n",
       "ENST00000361390      True   131391   2823.336454   14.116682\n",
       "ENST00000361453      True   149407   1177.163051    5.885815\n",
       "ENST00000361624      True  1149163   2261.838921   11.309195\n",
       "ENST00000361739      True   390303   2565.354097   12.826770\n",
       "ENST00000361851     False     8208    190.728558    0.417459\n",
       "ENST00000361899      True   245189   1573.498811    7.867494\n",
       "ENST00000362079      True   396553   2310.489897   11.552449\n",
       "ENST00000361227      True    32006    712.844467    3.564222\n",
       "ENST00000361335      True    24918   1908.210932    9.541055\n",
       "ENST00000361381      True   455346   1697.397364    8.486987\n",
       "ENST00000361567      True   231952   1909.382976    9.546915\n",
       "ENST00000361681      True    78271   1472.662928    7.363315\n",
       "ENST00000361789      True   177731   2518.165655   12.590828\n",
       "\n",
       "[26889 rows x 4 columns]"
      ]
     },
     "execution_count": 55,
     "metadata": {},
     "output_type": "execute_result"
    }
   ],
   "source": [
    "data[['invalid', 'truth', 'quality', 'quality2']]"
   ]
  },
  {
   "cell_type": "code",
   "execution_count": 58,
   "metadata": {
    "scrolled": true
   },
   "outputs": [
    {
     "data": {
      "text/plain": [
       "'Minimum/Maximum error: -4731.84013587/100.0'"
      ]
     },
     "execution_count": 58,
     "metadata": {},
     "output_type": "execute_result"
    }
   ],
   "source": [
    "\"Minimum/Maximum error: %s/%s\" % (data['mape'].min(), data['mape'].max())"
   ]
  },
  {
   "cell_type": "code",
   "execution_count": null,
   "metadata": {
    "collapsed": true
   },
   "outputs": [],
   "source": []
  },
  {
   "cell_type": "code",
   "execution_count": 67,
   "metadata": {},
   "outputs": [
    {
     "data": {
      "text/plain": [
       "<matplotlib.collections.PathCollection at 0x11efc9190>"
      ]
     },
     "execution_count": 67,
     "metadata": {},
     "output_type": "execute_result"
    },
    {
     "data": {
      "image/png": "[encoded data removed]",
      "text/plain": [
       "<matplotlib.figure.Figure at 0x10cf320d0>"
      ]
     },
     "metadata": {},
     "output_type": "display_data"
    }
   ],
   "source": [
    "plt.scatter(data['truth'].apply(log), data['mape'].apply(log))"
   ]
  },
  {
   "cell_type": "code",
   "execution_count": 60,
   "metadata": {
    "collapsed": true
   },
   "outputs": [],
   "source": [
    "plt.scatter?"
   ]
  },
  {
   "cell_type": "code",
   "execution_count": 65,
   "metadata": {},
   "outputs": [],
   "source": [
    "eq_classes_count = eq_df.groupby('transcript').apply(lambda x: x['eclass_id'].unique().shape[0])"
   ]
  },
  {
   "cell_type": "code",
   "execution_count": 66,
   "metadata": {},
   "outputs": [
    {
     "data": {
      "text/plain": [
       "transcript\n",
       "ENST00000000233     2\n",
       "ENST00000000412     3\n",
       "ENST00000000442     8\n",
       "ENST00000001008     2\n",
       "ENST00000002125     9\n",
       "ENST00000002165     3\n",
       "ENST00000002501     3\n",
       "ENST00000002596     2\n",
       "ENST00000003084     1\n",
       "ENST00000003100     2\n",
       "ENST00000003302    14\n",
       "ENST00000003583     2\n",
       "ENST00000003912     1\n",
       "ENST00000004103     5\n",
       "ENST00000004980     9\n",
       "ENST00000004982     2\n",
       "ENST00000005082    12\n",
       "ENST00000005178     1\n",
       "ENST00000005257     2\n",
       "ENST00000005259     1\n",
       "ENST00000005260     2\n",
       "ENST00000005284     1\n",
       "ENST00000005286     9\n",
       "ENST00000005340     4\n",
       "ENST00000005374     5\n",
       "ENST00000005386     4\n",
       "ENST00000005558     1\n",
       "ENST00000006053     4\n",
       "ENST00000006251     7\n",
       "ENST00000006275     5\n",
       "                   ..\n",
       "ENST00000610127     2\n",
       "ENST00000610128     1\n",
       "ENST00000610130     1\n",
       "ENST00000610139     2\n",
       "ENST00000610140     6\n",
       "ENST00000610144     8\n",
       "ENST00000610153     5\n",
       "ENST00000610154     3\n",
       "ENST00000610158     1\n",
       "ENST00000610162     1\n",
       "ENST00000610171     1\n",
       "ENST00000610177     1\n",
       "ENST00000610179     3\n",
       "ENST00000610180    41\n",
       "ENST00000610185     1\n",
       "ENST00000610186     5\n",
       "ENST00000610189    10\n",
       "ENST00000610196     3\n",
       "ENST00000610202     1\n",
       "ENST00000610220     1\n",
       "ENST00000610223     3\n",
       "ENST00000610245     3\n",
       "ENST00000610247    30\n",
       "ENST00000610252     1\n",
       "ENST00000610270     1\n",
       "ENST00000610272     4\n",
       "ENST00000610273     1\n",
       "ENST00000610276     1\n",
       "ENST00000610278     1\n",
       "ENST00000610279     1\n",
       "Length: 65711, dtype: int64"
      ]
     },
     "execution_count": 66,
     "metadata": {},
     "output_type": "execute_result"
    }
   ],
   "source": [
    "eq_classes_count"
   ]
  },
  {
   "cell_type": "markdown",
   "metadata": {},
   "source": [
    "## Classification"
   ]
  },
  {
   "cell_type": "code",
   "execution_count": 60,
   "metadata": {},
   "outputs": [
    {
     "data": {
      "text/html": [
       "<div>\n",
       "<style>\n",
       "    .dataframe thead tr:only-child th {\n",
       "        text-align: right;\n",
       "    }\n",
       "\n",
       "    .dataframe thead th {\n",
       "        text-align: left;\n",
       "    }\n",
       "\n",
       "    .dataframe tbody tr th {\n",
       "        vertical-align: top;\n",
       "    }\n",
       "</style>\n",
       "<table border=\"1\" class=\"dataframe\">\n",
       "  <thead>\n",
       "    <tr style=\"text-align: right;\">\n",
       "      <th></th>\n",
       "      <th>lower_bound</th>\n",
       "      <th>upper_bound</th>\n",
       "      <th>min</th>\n",
       "      <th>max</th>\n",
       "      <th>mean</th>\n",
       "      <th>std</th>\n",
       "      <th>truth</th>\n",
       "      <th>invalid</th>\n",
       "      <th>mape</th>\n",
       "      <th>mae_n</th>\n",
       "      <th>Length</th>\n",
       "      <th>EffectiveLength</th>\n",
       "      <th>TPM</th>\n",
       "      <th>NumReads</th>\n",
       "    </tr>\n",
       "  </thead>\n",
       "  <tbody>\n",
       "    <tr>\n",
       "      <th>ENST00000608495</th>\n",
       "      <td>0.000000</td>\n",
       "      <td>0.000000</td>\n",
       "      <td>0.000000</td>\n",
       "      <td>0.000000</td>\n",
       "      <td>0.000000</td>\n",
       "      <td>0.000000</td>\n",
       "      <td>1.0</td>\n",
       "      <td>True</td>\n",
       "      <td>100.000000</td>\n",
       "      <td>1.000000</td>\n",
       "      <td>1672</td>\n",
       "      <td>1472.991</td>\n",
       "      <td>0.000000</td>\n",
       "      <td>0.000000</td>\n",
       "    </tr>\n",
       "    <tr>\n",
       "      <th>ENST00000382369</th>\n",
       "      <td>23.822094</td>\n",
       "      <td>72.156339</td>\n",
       "      <td>19.272902</td>\n",
       "      <td>82.412001</td>\n",
       "      <td>45.651584</td>\n",
       "      <td>12.636180</td>\n",
       "      <td>55.0</td>\n",
       "      <td>False</td>\n",
       "      <td>16.997120</td>\n",
       "      <td>0.145752</td>\n",
       "      <td>1420</td>\n",
       "      <td>1220.991</td>\n",
       "      <td>1.180968</td>\n",
       "      <td>46.855146</td>\n",
       "    </tr>\n",
       "    <tr>\n",
       "      <th>ENST00000360321</th>\n",
       "      <td>19.792498</td>\n",
       "      <td>65.783722</td>\n",
       "      <td>13.465284</td>\n",
       "      <td>73.579817</td>\n",
       "      <td>41.580917</td>\n",
       "      <td>11.378288</td>\n",
       "      <td>54.0</td>\n",
       "      <td>False</td>\n",
       "      <td>22.998302</td>\n",
       "      <td>0.203210</td>\n",
       "      <td>1575</td>\n",
       "      <td>1375.991</td>\n",
       "      <td>0.912080</td>\n",
       "      <td>40.780781</td>\n",
       "    </tr>\n",
       "    <tr>\n",
       "      <th>ENST00000400269</th>\n",
       "      <td>48.150061</td>\n",
       "      <td>92.132202</td>\n",
       "      <td>40.970483</td>\n",
       "      <td>103.560523</td>\n",
       "      <td>70.977499</td>\n",
       "      <td>10.912630</td>\n",
       "      <td>92.0</td>\n",
       "      <td>False</td>\n",
       "      <td>22.850545</td>\n",
       "      <td>0.330594</td>\n",
       "      <td>1022</td>\n",
       "      <td>822.991</td>\n",
       "      <td>2.705958</td>\n",
       "      <td>72.364073</td>\n",
       "    </tr>\n",
       "    <tr>\n",
       "      <th>ENST00000382352</th>\n",
       "      <td>1943.000000</td>\n",
       "      <td>2116.000000</td>\n",
       "      <td>1921.000000</td>\n",
       "      <td>2162.000000</td>\n",
       "      <td>2035.750000</td>\n",
       "      <td>45.244811</td>\n",
       "      <td>2653.0</td>\n",
       "      <td>True</td>\n",
       "      <td>23.266114</td>\n",
       "      <td>2.550620</td>\n",
       "      <td>3229</td>\n",
       "      <td>3029.991</td>\n",
       "      <td>20.638372</td>\n",
       "      <td>2032.000000</td>\n",
       "    </tr>\n",
       "  </tbody>\n",
       "</table>\n",
       "</div>"
      ],
      "text/plain": [
       "                 lower_bound  upper_bound          min          max  \\\n",
       "ENST00000608495     0.000000     0.000000     0.000000     0.000000   \n",
       "ENST00000382369    23.822094    72.156339    19.272902    82.412001   \n",
       "ENST00000360321    19.792498    65.783722    13.465284    73.579817   \n",
       "ENST00000400269    48.150061    92.132202    40.970483   103.560523   \n",
       "ENST00000382352  1943.000000  2116.000000  1921.000000  2162.000000   \n",
       "\n",
       "                        mean        std   truth  invalid        mape  \\\n",
       "ENST00000608495     0.000000   0.000000     1.0     True  100.000000   \n",
       "ENST00000382369    45.651584  12.636180    55.0    False   16.997120   \n",
       "ENST00000360321    41.580917  11.378288    54.0    False   22.998302   \n",
       "ENST00000400269    70.977499  10.912630    92.0    False   22.850545   \n",
       "ENST00000382352  2035.750000  45.244811  2653.0     True   23.266114   \n",
       "\n",
       "                    mae_n  Length  EffectiveLength        TPM     NumReads  \n",
       "ENST00000608495  1.000000    1672         1472.991   0.000000     0.000000  \n",
       "ENST00000382369  0.145752    1420         1220.991   1.180968    46.855146  \n",
       "ENST00000360321  0.203210    1575         1375.991   0.912080    40.780781  \n",
       "ENST00000400269  0.330594    1022          822.991   2.705958    72.364073  \n",
       "ENST00000382352  2.550620    3229         3029.991  20.638372  2032.000000  "
      ]
     },
     "execution_count": 60,
     "metadata": {},
     "output_type": "execute_result"
    }
   ],
   "source": [
    "data[data.columns[200:]].head()"
   ]
  },
  {
   "cell_type": "code",
   "execution_count": null,
   "metadata": {
    "collapsed": true
   },
   "outputs": [],
   "source": [
    "from sklearn.linear_model import LinearRegression\n",
    "\n",
    "features = ['min', 'max', 'std', 'mean', 'Length', 'EffectiveLength', 'TPM', 'NumReads']\n",
    "ys = [data['truth'], data['invalid'], data['mape'], data['mae_n']]\n",
    "reg = LinearRegression()\n",
    "reg.fit(data)"
   ]
  }
 ],
 "metadata": {
  "kernelspec": {
   "display_name": "Python 2",
   "language": "python",
   "name": "python2"
  },
  "language_info": {
   "codemirror_mode": {
    "name": "ipython",
    "version": 2
   },
   "file_extension": ".py",
   "mimetype": "text/x-python",
   "name": "python",
   "nbconvert_exporter": "python",
   "pygments_lexer": "ipython2",
   "version": "2.7.14"
  }
 },
 "nbformat": 4,
 "nbformat_minor": 1
}
