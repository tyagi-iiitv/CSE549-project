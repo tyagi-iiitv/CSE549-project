{
 "cells": [
  {
   "cell_type": "markdown",
   "metadata": {},
   "source": [
    "##  CSE 549 Project: Uncertainty Quantification \n",
    "\n",
    "### Team: \n",
    "\n",
    "##### 111742914 (Syed Fahad Sultan)\n",
    "##### 111482304 (Anjul Kumar Tyagi)\n",
    "##### 111753053 (Arjun Krishna)\n",
    "##### 111447392 (Rohit Rao P)"
   ]
  },
  {
   "cell_type": "markdown",
   "metadata": {},
   "source": [
    "## 1. Data Preparation\n",
    "\n",
    "Python has **Pandas** library for effectively dealing with data. We'll use Pandas for working with the given data and **Numpy** for data manipulations. For plotting graphics, we've used **Matplotlib** library. \n",
    "\n",
    "The first step is to create get the data from all the files in a single data frame."
   ]
  },
  {
   "cell_type": "markdown",
   "metadata": {},
   "source": [
    "Reading the data "
   ]
  },
  {
   "cell_type": "code",
   "execution_count": 1,
   "metadata": {
    "collapsed": true
   },
   "outputs": [],
   "source": [
    "import warnings; warnings.simplefilter('ignore')\n",
    "import pandas as pd\n",
    "import numpy as np \n",
    "import math\n",
    "\n",
    "# Read the Bootstrap samples\n",
    "data = pd.read_csv('data/poly_mo/quant_bootstraps.tsv', header=0, sep='\\t')\n",
    "# Read the truth values for each transcript\n",
    "truth = pd.read_csv('data/poly_mo/poly_truth.tsv', header=0, index_col=0, sep='\\t')\n",
    "# Read the properties file for each transcript\n",
    "quant = pd.read_csv('data/poly_mo/quant.sf', header=0, index_col=0, sep='\\t')"
   ]
  },
  {
   "cell_type": "markdown",
   "metadata": {},
   "source": [
    "Computing the **95% confidence interval** for each transcript from the given bootstrap samples. For this operation, the bootstrap samples are sorted for each transcript and then the lower and upper quartiles are computed. \n",
    "\n",
    "All the computer lower and upper bounds are stored in the data frame."
   ]
  },
  {
   "cell_type": "code",
   "execution_count": 2,
   "metadata": {
    "collapsed": true
   },
   "outputs": [],
   "source": [
    "data = data.apply(lambda x: np.sort(x.values))\n",
    "\n",
    "lower_bounds = data.apply(lambda values: values[int(math.ceil(0.025*len(values)))])\n",
    "upper_bounds = data.apply(lambda values: values[int(math.floor(0.975*len(values)))])\n",
    "\n",
    "data_mins = data.min()\n",
    "data_maxs = data.max()\n",
    "data_means = data.mean()\n",
    "data_std = data.std()\n",
    "\n",
    "data = data.transpose()\n",
    "\n",
    "data['lower_bound'] = lower_bounds\n",
    "data['upper_bound'] = upper_bounds\n",
    "data['min'] = data_mins\n",
    "data['max'] = data_maxs\n",
    "data['mean'] = data_means\n",
    "data['std'] = data_std"
   ]
  },
  {
   "cell_type": "markdown",
   "metadata": {},
   "source": [
    "Merging with ground truth values to the original dataframe."
   ]
  },
  {
   "cell_type": "code",
   "execution_count": 3,
   "metadata": {
    "collapsed": true
   },
   "outputs": [],
   "source": [
    "data['truth'] = truth\n",
    "\n",
    "data = data[~data['truth'].isnull()]"
   ]
  },
  {
   "cell_type": "markdown",
   "metadata": {},
   "source": [
    "Filtering out invalid transcripts i.e. for which the truth value isn't between the 95% confidence interval."
   ]
  },
  {
   "cell_type": "code",
   "execution_count": 4,
   "metadata": {
    "collapsed": true
   },
   "outputs": [],
   "source": [
    "data['invalid'] = data.apply(\n",
    "    lambda x: (x['truth'] < x['lower_bound']) or (x['upper_bound'] < x['truth']), axis=1)\n"
   ]
  },
  {
   "cell_type": "markdown",
   "metadata": {},
   "source": [
    "As shown in the **Observations** section, the classification based on the confidence interval classifies around **50%** of the transcripts as invalid, which is a very big number. This results clearly shows that this classification isn't good. \n",
    "An alternative to binary classification is the **continuous classification** with **normalized Mean absolute error** as a measure of goodness of a transcript.\n",
    "\n",
    "In the step below, the error of each boostrap prediction is calculated by measuring it's distance from the truth value and taking the arithmetic mean of the distance."
   ]
  },
  {
   "cell_type": "code",
   "execution_count": 5,
   "metadata": {
    "collapsed": true
   },
   "outputs": [],
   "source": [
    "BOOTSTRAP_RUNS = 200\n",
    "\n",
    "def get_mean_absolute_percentage_error(row):\n",
    "    truth = row['truth']\n",
    "    errors = [(truth-a_count)/truth for a_count in row[:BOOTSTRAP_RUNS]]\n",
    "#     errors_percentage = np.mean(np.abs(errors))*100\n",
    "    errors_percentage = np.mean((errors))*100\n",
    "    return errors_percentage\n",
    "\n",
    "data['mape'] = data.apply(get_mean_absolute_percentage_error, axis=1)"
   ]
  },
  {
   "cell_type": "markdown",
   "metadata": {},
   "source": [
    "Normalizing the mean error with the range of the confidence interval for each transcript."
   ]
  },
  {
   "cell_type": "code",
   "execution_count": 6,
   "metadata": {
    "collapsed": true
   },
   "outputs": [],
   "source": [
    "data['mae_n'] = data.apply(lambda x: (x['truth']-np.mean(x[:BOOTSTRAP_RUNS]))/(x['max']-x['min']+1) ,axis=1)"
   ]
  },
  {
   "cell_type": "markdown",
   "metadata": {},
   "source": [
    "Merging the attributes with the data"
   ]
  },
  {
   "cell_type": "code",
   "execution_count": 7,
   "metadata": {
    "collapsed": true
   },
   "outputs": [],
   "source": [
    "data['Length'] = quant['Length']\n",
    "data['EffectiveLength'] = quant['EffectiveLength']\n",
    "data['TPM'] = quant['TPM']\n",
    "data['NumReads'] = quant['NumReads']"
   ]
  },
  {
   "cell_type": "markdown",
   "metadata": {},
   "source": [
    "Reading **equivalence class** file:"
   ]
  },
  {
   "cell_type": "code",
   "execution_count": 8,
   "metadata": {
    "collapsed": true
   },
   "outputs": [],
   "source": [
    "lines = []\n",
    "with open('data/poly_mo/eq_classes.txt') as f:\n",
    "    lines = f.readlines()\n",
    "\n",
    "lines = [line.replace('\\n', '') for line in lines]\n",
    "\n",
    "transcripts_count = int(lines[0])\n",
    "\n",
    "transcripts = lines[2:transcripts_count+2]\n",
    "classes = lines[transcripts_count+2:]\n",
    "\n",
    "classes = [datum.split('\\t') for datum in classes]"
   ]
  },
  {
   "cell_type": "markdown",
   "metadata": {},
   "source": [
    "Creating a dataframe for Equivalence classes:"
   ]
  },
  {
   "cell_type": "code",
   "execution_count": 9,
   "metadata": {},
   "outputs": [],
   "source": [
    "unraveled = []\n",
    "\n",
    "for i, eclass in enumerate(classes):\n",
    "    for ts_idx in eclass[1:-1]:\n",
    "        unraveled.append((i, int(eclass[0]), transcripts[int(ts_idx)], int(eclass[-1])))\n",
    "        \n",
    "eq_df = pd.DataFrame().from_dict(unraveled)\n",
    "eq_df.columns=['eclass_id', 'eclass_size', 'transcript', 'numreads']"
   ]
  },
  {
   "cell_type": "markdown",
   "metadata": {},
   "source": [
    "Merging equivalent classes dataframe with the data:"
   ]
  },
  {
   "cell_type": "code",
   "execution_count": 44,
   "metadata": {
    "collapsed": true
   },
   "outputs": [],
   "source": [
    "merged = pd.merge(eq_df, data[['invalid', 'min', 'max', 'std', 'truth', 'mape']].drop_duplicates(), left_on='transcript', right_index=True)"
   ]
  },
  {
   "cell_type": "markdown",
   "metadata": {},
   "source": [
    "## 2. Observations\n",
    "In this section, all the interesting observations are discussed"
   ]
  },
  {
   "cell_type": "code",
   "execution_count": 11,
   "metadata": {
    "collapsed": true
   },
   "outputs": [],
   "source": [
    "from math import log\n",
    "\n",
    "from matplotlib import pyplot as plt, rc\n",
    "\n",
    "plt.rcParams['figure.figsize'] = (15, 6) \n",
    "# fig.set_size_inches(15,10)\n",
    "\n",
    "%matplotlib inline"
   ]
  },
  {
   "cell_type": "markdown",
   "metadata": {},
   "source": [
    "#### Percentage of Invalid transcripts in the dataset."
   ]
  },
  {
   "cell_type": "code",
   "execution_count": 12,
   "metadata": {
    "scrolled": true
   },
   "outputs": [
    {
     "name": "stdout",
     "output_type": "stream",
     "text": [
      "Percentage of invalid rows: 50.2547510134\n"
     ]
    }
   ],
   "source": [
    "print \"Percentage of invalid rows: %s\" % \\\n",
    "    (float(sum(data['invalid'])*100)/data.shape[0])"
   ]
  },
  {
   "cell_type": "markdown",
   "metadata": {},
   "source": [
    "#### Valid transcripts tend to have smaller truth values."
   ]
  },
  {
   "cell_type": "code",
   "execution_count": 13,
   "metadata": {},
   "outputs": [
    {
     "data": {
      "text/plain": [
       "<matplotlib.legend.Legend at 0x7fe6a9ecd990>"
      ]
     },
     "execution_count": 13,
     "metadata": {},
     "output_type": "execute_result"
    },
    {
     "data": {
      "image/png": "[encoded data removed]",
      "text/plain": [
       "<matplotlib.figure.Figure at 0x7fe6a9ecd890>"
      ]
     },
     "metadata": {},
     "output_type": "display_data"
    }
   ],
   "source": [
    "plt.rcParams['figure.figsize'] = (15, 6) \n",
    "\n",
    "data[data['invalid']]['truth'].apply(lambda x: log(x+1)).hist(alpha=0.6, bins=50, color='darkred')\n",
    "data[~data['invalid']]['truth'].apply(lambda x: log(x+1)).hist(alpha=0.6, bins=50, color='darkgreen')\n",
    "plt.xlabel('Log of truth value')\n",
    "plt.ylabel('Number of transcripts')\n",
    "plt.legend(['Invalid transcripts', 'Valid transcripts'])"
   ]
  },
  {
   "cell_type": "markdown",
   "metadata": {},
   "source": [
    "#### Valid and Invalid transcripts show little variance w.r.t 'Length' and 'Effective Length' features"
   ]
  },
  {
   "cell_type": "code",
   "execution_count": 14,
   "metadata": {},
   "outputs": [
    {
     "data": {
      "image/png": "[encoded data removed]",
      "text/plain": [
       "<matplotlib.figure.Figure at 0x7fe6a9abc750>"
      ]
     },
     "metadata": {},
     "output_type": "display_data"
    }
   ],
   "source": [
    "fig, axs = plt.subplots(2,1, sharey=True, sharex=True)\n",
    "fig.set_size_inches(15,10)\n",
    "\n",
    "properties = ['Length', 'EffectiveLength']\n",
    "\n",
    "for i, prop in enumerate(properties):\n",
    "    ax = data[data['invalid']][prop].apply(lambda x: log(x+1)).hist(ax=axs[i], alpha=0.5, color='darkred')\n",
    "    ax = data[~data['invalid']][prop].apply(lambda x: log(x+1)).hist(ax=axs[i], alpha=0.5, color='darkgreen')\n",
    "    ax.legend(['Log of %s of invalid transcripts' % prop, 'Log of %s of valid transcripts' % prop])"
   ]
  },
  {
   "cell_type": "markdown",
   "metadata": {},
   "source": [
    "#### Valid and Invalid transcripts exhibit variance w.r.t 'TPM' and 'NumReads'."
   ]
  },
  {
   "cell_type": "code",
   "execution_count": 15,
   "metadata": {},
   "outputs": [
    {
     "data": {
      "image/png": "[encoded data removed]",
      "text/plain": [
       "<matplotlib.figure.Figure at 0x7fe6a97b2310>"
      ]
     },
     "metadata": {},
     "output_type": "display_data"
    }
   ],
   "source": [
    "fig, axs = plt.subplots(2,1, sharey=True, sharex=True)\n",
    "fig.set_size_inches(15,10)\n",
    "\n",
    "properties = ['TPM', 'NumReads']\n",
    "\n",
    "for i, prop in enumerate(properties):\n",
    "    ax = data[data['invalid']][prop].apply(lambda x: log(x+1)).hist(ax=axs[i], alpha=0.6, color='darkred')\n",
    "    ax = data[~data['invalid']][prop].apply(lambda x: log(x+1)).hist(ax=axs[i], alpha=0.6, color='darkgreen')\n",
    "    ax.legend(['Log of %s of invalid transcripts' % prop, 'Log of %s of valid transcripts' % prop])"
   ]
  },
  {
   "cell_type": "markdown",
   "metadata": {
    "collapsed": true
   },
   "source": [
    "#### Bootstrapping generally underestimates the count, but when it overestimates, there are some transcripts that are very highly overestimated.\n",
    "\n",
    "The graph below shows that most estimations are close to **0**, i.e. the estimates have some error. However, there are some outliers so far away from origin showing that they're so highly overestimated."
   ]
  },
  {
   "cell_type": "code",
   "execution_count": 16,
   "metadata": {},
   "outputs": [
    {
     "data": {
      "text/plain": [
       "<matplotlib.axes._subplots.AxesSubplot at 0x7fe6a9ecd6d0>"
      ]
     },
     "execution_count": 16,
     "metadata": {},
     "output_type": "execute_result"
    },
    {
     "data": {
      "image/png": "[encoded data removed]",
      "text/plain": [
       "<matplotlib.figure.Figure at 0x7fe6a9a3dfd0>"
      ]
     },
     "metadata": {},
     "output_type": "display_data"
    }
   ],
   "source": [
    "plt.rcParams['figure.figsize'] = (15, 6) \n",
    "fig.set_size_inches(15,10)\n",
    "\n",
    "data['mape'].hist(log=True, bins=200)"
   ]
  },
  {
   "cell_type": "code",
   "execution_count": 17,
   "metadata": {},
   "outputs": [
    {
     "data": {
      "text/plain": [
       "True     23920\n",
       "False     2969\n",
       "Name: mape, dtype: int64"
      ]
     },
     "execution_count": 17,
     "metadata": {},
     "output_type": "execute_result"
    }
   ],
   "source": [
    "(data['mape']>0).value_counts()"
   ]
  },
  {
   "cell_type": "markdown",
   "metadata": {},
   "source": [
    "#### Mean Absolute percentage Error as it relates to valid/invalid (Not normalized)"
   ]
  },
  {
   "cell_type": "code",
   "execution_count": 18,
   "metadata": {},
   "outputs": [
    {
     "data": {
      "text/plain": [
       "<matplotlib.legend.Legend at 0x7fe6a60f2310>"
      ]
     },
     "execution_count": 18,
     "metadata": {},
     "output_type": "execute_result"
    },
    {
     "data": {
      "image/png": "[encoded data removed]",
      "text/plain": [
       "<matplotlib.figure.Figure at 0x7fe6a60f2810>"
      ]
     },
     "metadata": {},
     "output_type": "display_data"
    }
   ],
   "source": [
    "from matplotlib import pyplot as plt\n",
    "plt.rcParams['figure.figsize'] = (15, 6) \n",
    "data[data['invalid']]['mape'].hist(log=True, alpha=0.5, bins=100, color='darkred')\n",
    "data[~data['invalid']]['mape'].hist(log=True, alpha=0.5, bins=100, color='darkgreen')\n",
    "plt.legend(['invalid', 'valid'])"
   ]
  },
  {
   "cell_type": "markdown",
   "metadata": {},
   "source": [
    "#### Normalized mean error with respect to valid invalid transcripts\n",
    "After normalization, there's a clear distinction between the valid and invalid transcripts. Valid ones are almost very close to zero but invalid are scattered in a big range."
   ]
  },
  {
   "cell_type": "code",
   "execution_count": 19,
   "metadata": {
    "scrolled": true
   },
   "outputs": [
    {
     "data": {
      "image/png": "[encoded data removed]",
      "text/plain": [
       "<matplotlib.figure.Figure at 0x7fe6a99c3150>"
      ]
     },
     "metadata": {},
     "output_type": "display_data"
    }
   ],
   "source": [
    "from matplotlib import pyplot as plt\n",
    "plt.rcParams['figure.figsize'] = (15, 6) \n",
    "data[data['invalid']]['mae_n'].hist(log=True, alpha=0.5, bins=100, color='yellow')\n",
    "data[~data['invalid']]['mae_n'].hist(log=True, alpha=0.5, bins=100, color='blue')\n",
    "plt.legend(['invalid', 'valid'])\n",
    "plt.grid(False)"
   ]
  },
  {
   "cell_type": "markdown",
   "metadata": {},
   "source": [
    "#### Most transcripts that have a small error are valid\n",
    "The code below shows the count of **valid** and **invalid** transcripts for **Mean Absolute percentage error** of **<5**"
   ]
  },
  {
   "cell_type": "code",
   "execution_count": 20,
   "metadata": {
    "scrolled": false
   },
   "outputs": [
    {
     "data": {
      "text/plain": [
       "False    2714\n",
       "True       57\n",
       "Name: invalid, dtype: int64"
      ]
     },
     "execution_count": 20,
     "metadata": {},
     "output_type": "execute_result"
    }
   ],
   "source": [
    "data[np.abs(data['mape']) < 5]['invalid'].value_counts()"
   ]
  },
  {
   "cell_type": "markdown",
   "metadata": {},
   "source": [
    "### Relationship between mean error normalized and (Length, Effective Length, TPM and NumReads)"
   ]
  },
  {
   "cell_type": "code",
   "execution_count": 21,
   "metadata": {},
   "outputs": [
    {
     "data": {
      "image/png": "[encoded data removed]",
      "text/plain": [
       "<matplotlib.figure.Figure at 0x7fe6a691e390>"
      ]
     },
     "metadata": {},
     "output_type": "display_data"
    }
   ],
   "source": [
    "fig, axs = plt.subplots(4,1)#, sharey=True, sharex=True)\n",
    "fig.set_size_inches(15,10)\n",
    "\n",
    "properties = ['Length', 'EffectiveLength', 'TPM', 'NumReads']\n",
    "\n",
    "for i, prop in enumerate(properties):\n",
    "    axs[i].scatter(data['mae_n'], data[prop])"
   ]
  },
  {
   "cell_type": "markdown",
   "metadata": {},
   "source": [
    "Zooming into above graphs."
   ]
  },
  {
   "cell_type": "code",
   "execution_count": 23,
   "metadata": {},
   "outputs": [
    {
     "data": {
      "image/png": "[encoded data removed]",
      "text/plain": [
       "<matplotlib.figure.Figure at 0x7fe6a4df7b10>"
      ]
     },
     "metadata": {},
     "output_type": "display_data"
    }
   ],
   "source": [
    "fig, axs = plt.subplots(4,1)#, sharey=True, sharex=True)\n",
    "fig.set_size_inches(15,10)\n",
    "\n",
    "properties = ['Length', 'EffectiveLength', 'TPM', 'NumReads']\n",
    "\n",
    "filtered = data[np.abs(data['mae_n']) < 5]\n",
    "\n",
    "for i, prop in enumerate(properties):\n",
    "    axs[i].scatter(filtered['mae_n'], filtered[prop])\n"
   ]
  },
  {
   "cell_type": "markdown",
   "metadata": {},
   "source": [
    "#### Looking into the error in continuous domain\n",
    "We had **valid** and **invalid** transcripts in the discrete domain calculated based on the confidence intervals from the bootstrap samples. Because the results weren't that convincing, the idea of **continuous error** measure seems like a valid idea. \n",
    "The plot below shows the evaluation of the **mean absolute percentage error** of both **valid and invalid** transcripts."
   ]
  },
  {
   "cell_type": "code",
   "execution_count": 24,
   "metadata": {},
   "outputs": [
    {
     "data": {
      "text/plain": [
       "<matplotlib.text.Text at 0x7fe6a5a2f590>"
      ]
     },
     "execution_count": 24,
     "metadata": {},
     "output_type": "execute_result"
    },
    {
     "data": {
      "image/png": "[encoded data removed]",
      "text/plain": [
       "<matplotlib.figure.Figure at 0x7fe6a62e22d0>"
      ]
     },
     "metadata": {},
     "output_type": "display_data"
    }
   ],
   "source": [
    "data[data['invalid']]['mape'].hist(log=True, alpha=0.5, bins=100)\n",
    "data[~data['invalid']]['mape'].hist(log=True, alpha=0.5, bins=100)\n",
    "plt.legend(['invalid','valid'])\n",
    "plt.xlabel('log of mean percentage error')\n",
    "plt.ylabel('Number of transcripts')"
   ]
  },
  {
   "cell_type": "markdown",
   "metadata": {},
   "source": [
    "Plot for the distribution of **standard deviation** for valid and invalid transcripts."
   ]
  },
  {
   "cell_type": "code",
   "execution_count": 26,
   "metadata": {},
   "outputs": [
    {
     "data": {
      "text/plain": [
       "<matplotlib.text.Text at 0x7fe6a576c090>"
      ]
     },
     "execution_count": 26,
     "metadata": {},
     "output_type": "execute_result"
    },
    {
     "data": {
      "image/png": "[encoded data removed]",
      "text/plain": [
       "<matplotlib.figure.Figure at 0x7fe6a5d5b410>"
      ]
     },
     "metadata": {},
     "output_type": "display_data"
    }
   ],
   "source": [
    "data[data['invalid']]['std'].hist(log=True, alpha=0.5)\n",
    "data[~data['invalid']]['std'].hist(log=True, alpha=0.5)\n",
    "plt.legend(['invalid', 'valid'])\n",
    "plt.xlabel('log of standard deviation')\n",
    "plt.ylabel('Number of transcripts')"
   ]
  },
  {
   "cell_type": "markdown",
   "metadata": {},
   "source": [
    "As observed from the data, **Num Reads** acts as an important predictor for **valid** and **invalid** transcripts. It'll be interesting to know the **correlation** between the **Mean percentage error** and **Num Reads**."
   ]
  },
  {
   "cell_type": "code",
   "execution_count": 27,
   "metadata": {},
   "outputs": [
    {
     "data": {
      "text/plain": [
       "-4731.8401358695382"
      ]
     },
     "execution_count": 27,
     "metadata": {},
     "output_type": "execute_result"
    }
   ],
   "source": [
    "data['mape'].min()"
   ]
  },
  {
   "cell_type": "code",
   "execution_count": 28,
   "metadata": {
    "collapsed": true
   },
   "outputs": [],
   "source": [
    "from scipy.stats import pearsonr"
   ]
  },
  {
   "cell_type": "code",
   "execution_count": 29,
   "metadata": {},
   "outputs": [
    {
     "data": {
      "text/plain": [
       "(-0.016308857737198885, 0.0074872451768554678)"
      ]
     },
     "execution_count": 29,
     "metadata": {},
     "output_type": "execute_result"
    }
   ],
   "source": [
    "pearsonr(abs(data['mape']), data['NumReads'])"
   ]
  },
  {
   "cell_type": "markdown",
   "metadata": {},
   "source": [
    "The correlation value of **-0.0025** shows that Num Reads and Mean Absolute percentage error are very slightly correlated if at all.\n",
    "The plot below shows the **Mean absolute percentage error** for **Num Reads**."
   ]
  },
  {
   "cell_type": "code",
   "execution_count": 30,
   "metadata": {},
   "outputs": [
    {
     "data": {
      "text/plain": [
       "<matplotlib.text.Text at 0x7fe6a1def610>"
      ]
     },
     "execution_count": 30,
     "metadata": {},
     "output_type": "execute_result"
    },
    {
     "data": {
      "image/png": "[encoded data removed]",
      "text/plain": [
       "<matplotlib.figure.Figure at 0x7fe6a1e47650>"
      ]
     },
     "metadata": {},
     "output_type": "display_data"
    }
   ],
   "source": [
    "properties = ['TPM', 'NumReads']\n",
    "plt.scatter(data['mape'].apply(lambda x: np.abs(x)), data['NumReads'], alpha=0.5)\n",
    "plt.xlabel('Mean absolute percentage error of the transcript')\n",
    "plt.ylabel('Num Reads of the transcript')"
   ]
  },
  {
   "cell_type": "markdown",
   "metadata": {},
   "source": [
    "Most number of Transcripts have a very small mean absolute percentage error as shows in above figure."
   ]
  },
  {
   "cell_type": "markdown",
   "metadata": {},
   "source": [
    "#### Relation between the truth values and the mean\n",
    "The **mean** has the same distribution as the **truth values** but is slightly shifted to the left."
   ]
  },
  {
   "cell_type": "code",
   "execution_count": 31,
   "metadata": {},
   "outputs": [
    {
     "data": {
      "text/plain": [
       "<matplotlib.text.Text at 0x7fe697bb1510>"
      ]
     },
     "execution_count": 31,
     "metadata": {},
     "output_type": "execute_result"
    },
    {
     "data": {
      "image/png": "[encoded data removed]",
      "text/plain": [
       "<matplotlib.figure.Figure at 0x7fe6a1df9dd0>"
      ]
     },
     "metadata": {},
     "output_type": "display_data"
    }
   ],
   "source": [
    "data['truth'].hist(log=True, alpha=0.5, bins=100)\n",
    "data['mean'].hist(log=True, alpha=0.5, bins=100)\n",
    "plt.legend(['truth','mean'])\n",
    "plt.xlabel('log of truth value')\n",
    "plt.ylabel('Number of transcritps')"
   ]
  },
  {
   "cell_type": "markdown",
   "metadata": {},
   "source": [
    "### 4. Valid and invalid transcripts are often found together in equivalent classes"
   ]
  },
  {
   "cell_type": "markdown",
   "metadata": {},
   "source": [
    "We tried to find out how the **invalid** transcripts are distributed in the **equivalence classes**. More importantly, do all the invalid transcripts are grouped in same equivalence classes?\n",
    "The plot below shows that the **invalid** equivalence classes occur even with valid transcripts in equivalence classes."
   ]
  },
  {
   "cell_type": "code",
   "execution_count": 40,
   "metadata": {
    "scrolled": true
   },
   "outputs": [
    {
     "ename": "KeyError",
     "evalue": "61539",
     "output_type": "error",
     "traceback": [
      "\u001b[0;31m---------------------------------------------------------------------------\u001b[0m",
      "\u001b[0;31mKeyError\u001b[0m                                  Traceback (most recent call last)",
      "\u001b[0;32m<ipython-input-40-e25a5de3050c>\u001b[0m in \u001b[0;36m<module>\u001b[0;34m()\u001b[0m\n\u001b[1;32m      4\u001b[0m     \u001b[0minvalid_count\u001b[0m \u001b[0;34m=\u001b[0m \u001b[0;36m0\u001b[0m\u001b[0;34m\u001b[0m\u001b[0m\n\u001b[1;32m      5\u001b[0m     \u001b[0;32mfor\u001b[0m \u001b[0mtranscript_idx\u001b[0m \u001b[0;32min\u001b[0m \u001b[0meclass\u001b[0m\u001b[0;34m[\u001b[0m\u001b[0;36m1\u001b[0m\u001b[0;34m:\u001b[0m\u001b[0;34m-\u001b[0m\u001b[0;36m1\u001b[0m\u001b[0;34m]\u001b[0m\u001b[0;34m:\u001b[0m\u001b[0;34m\u001b[0m\u001b[0m\n\u001b[0;32m----> 6\u001b[0;31m         \u001b[0;32mif\u001b[0m \u001b[0mtranscripts\u001b[0m\u001b[0;34m[\u001b[0m\u001b[0mint\u001b[0m\u001b[0;34m(\u001b[0m\u001b[0mtranscript_idx\u001b[0m\u001b[0;34m)\u001b[0m\u001b[0;34m]\u001b[0m \u001b[0;32min\u001b[0m \u001b[0minvalid_ts\u001b[0m\u001b[0;34m:\u001b[0m\u001b[0;34m\u001b[0m\u001b[0m\n\u001b[0m\u001b[1;32m      7\u001b[0m             \u001b[0minvalid_count\u001b[0m \u001b[0;34m+=\u001b[0m \u001b[0;36m1\u001b[0m\u001b[0;34m\u001b[0m\u001b[0m\n\u001b[1;32m      8\u001b[0m     \u001b[0mpercentage_invalid\u001b[0m \u001b[0;34m=\u001b[0m \u001b[0;34m(\u001b[0m\u001b[0minvalid_count\u001b[0m\u001b[0;34m*\u001b[0m\u001b[0;36m100\u001b[0m\u001b[0;34m)\u001b[0m\u001b[0;34m/\u001b[0m\u001b[0mfloat\u001b[0m\u001b[0;34m(\u001b[0m\u001b[0meclass\u001b[0m\u001b[0;34m[\u001b[0m\u001b[0;36m0\u001b[0m\u001b[0;34m]\u001b[0m\u001b[0;34m)\u001b[0m\u001b[0;34m\u001b[0m\u001b[0m\n",
      "\u001b[0;32m/home/tyagi/anaconda/lib/python2.7/site-packages/pandas/core/frame.pyc\u001b[0m in \u001b[0;36m__getitem__\u001b[0;34m(self, key)\u001b[0m\n\u001b[1;32m   2060\u001b[0m             \u001b[0;32mreturn\u001b[0m \u001b[0mself\u001b[0m\u001b[0;34m.\u001b[0m\u001b[0m_getitem_multilevel\u001b[0m\u001b[0;34m(\u001b[0m\u001b[0mkey\u001b[0m\u001b[0;34m)\u001b[0m\u001b[0;34m\u001b[0m\u001b[0m\n\u001b[1;32m   2061\u001b[0m         \u001b[0;32melse\u001b[0m\u001b[0;34m:\u001b[0m\u001b[0;34m\u001b[0m\u001b[0m\n\u001b[0;32m-> 2062\u001b[0;31m             \u001b[0;32mreturn\u001b[0m \u001b[0mself\u001b[0m\u001b[0;34m.\u001b[0m\u001b[0m_getitem_column\u001b[0m\u001b[0;34m(\u001b[0m\u001b[0mkey\u001b[0m\u001b[0;34m)\u001b[0m\u001b[0;34m\u001b[0m\u001b[0m\n\u001b[0m\u001b[1;32m   2063\u001b[0m \u001b[0;34m\u001b[0m\u001b[0m\n\u001b[1;32m   2064\u001b[0m     \u001b[0;32mdef\u001b[0m \u001b[0m_getitem_column\u001b[0m\u001b[0;34m(\u001b[0m\u001b[0mself\u001b[0m\u001b[0;34m,\u001b[0m \u001b[0mkey\u001b[0m\u001b[0;34m)\u001b[0m\u001b[0;34m:\u001b[0m\u001b[0;34m\u001b[0m\u001b[0m\n",
      "\u001b[0;32m/home/tyagi/anaconda/lib/python2.7/site-packages/pandas/core/frame.pyc\u001b[0m in \u001b[0;36m_getitem_column\u001b[0;34m(self, key)\u001b[0m\n\u001b[1;32m   2067\u001b[0m         \u001b[0;31m# get column\u001b[0m\u001b[0;34m\u001b[0m\u001b[0;34m\u001b[0m\u001b[0m\n\u001b[1;32m   2068\u001b[0m         \u001b[0;32mif\u001b[0m \u001b[0mself\u001b[0m\u001b[0;34m.\u001b[0m\u001b[0mcolumns\u001b[0m\u001b[0;34m.\u001b[0m\u001b[0mis_unique\u001b[0m\u001b[0;34m:\u001b[0m\u001b[0;34m\u001b[0m\u001b[0m\n\u001b[0;32m-> 2069\u001b[0;31m             \u001b[0;32mreturn\u001b[0m \u001b[0mself\u001b[0m\u001b[0;34m.\u001b[0m\u001b[0m_get_item_cache\u001b[0m\u001b[0;34m(\u001b[0m\u001b[0mkey\u001b[0m\u001b[0;34m)\u001b[0m\u001b[0;34m\u001b[0m\u001b[0m\n\u001b[0m\u001b[1;32m   2070\u001b[0m \u001b[0;34m\u001b[0m\u001b[0m\n\u001b[1;32m   2071\u001b[0m         \u001b[0;31m# duplicate columns & possible reduce dimensionality\u001b[0m\u001b[0;34m\u001b[0m\u001b[0;34m\u001b[0m\u001b[0m\n",
      "\u001b[0;32m/home/tyagi/anaconda/lib/python2.7/site-packages/pandas/core/generic.pyc\u001b[0m in \u001b[0;36m_get_item_cache\u001b[0;34m(self, item)\u001b[0m\n\u001b[1;32m   1532\u001b[0m         \u001b[0mres\u001b[0m \u001b[0;34m=\u001b[0m \u001b[0mcache\u001b[0m\u001b[0;34m.\u001b[0m\u001b[0mget\u001b[0m\u001b[0;34m(\u001b[0m\u001b[0mitem\u001b[0m\u001b[0;34m)\u001b[0m\u001b[0;34m\u001b[0m\u001b[0m\n\u001b[1;32m   1533\u001b[0m         \u001b[0;32mif\u001b[0m \u001b[0mres\u001b[0m \u001b[0;32mis\u001b[0m \u001b[0mNone\u001b[0m\u001b[0;34m:\u001b[0m\u001b[0;34m\u001b[0m\u001b[0m\n\u001b[0;32m-> 1534\u001b[0;31m             \u001b[0mvalues\u001b[0m \u001b[0;34m=\u001b[0m \u001b[0mself\u001b[0m\u001b[0;34m.\u001b[0m\u001b[0m_data\u001b[0m\u001b[0;34m.\u001b[0m\u001b[0mget\u001b[0m\u001b[0;34m(\u001b[0m\u001b[0mitem\u001b[0m\u001b[0;34m)\u001b[0m\u001b[0;34m\u001b[0m\u001b[0m\n\u001b[0m\u001b[1;32m   1535\u001b[0m             \u001b[0mres\u001b[0m \u001b[0;34m=\u001b[0m \u001b[0mself\u001b[0m\u001b[0;34m.\u001b[0m\u001b[0m_box_item_values\u001b[0m\u001b[0;34m(\u001b[0m\u001b[0mitem\u001b[0m\u001b[0;34m,\u001b[0m \u001b[0mvalues\u001b[0m\u001b[0;34m)\u001b[0m\u001b[0;34m\u001b[0m\u001b[0m\n\u001b[1;32m   1536\u001b[0m             \u001b[0mcache\u001b[0m\u001b[0;34m[\u001b[0m\u001b[0mitem\u001b[0m\u001b[0;34m]\u001b[0m \u001b[0;34m=\u001b[0m \u001b[0mres\u001b[0m\u001b[0;34m\u001b[0m\u001b[0m\n",
      "\u001b[0;32m/home/tyagi/anaconda/lib/python2.7/site-packages/pandas/core/internals.pyc\u001b[0m in \u001b[0;36mget\u001b[0;34m(self, item, fastpath)\u001b[0m\n\u001b[1;32m   3588\u001b[0m \u001b[0;34m\u001b[0m\u001b[0m\n\u001b[1;32m   3589\u001b[0m             \u001b[0;32mif\u001b[0m \u001b[0;32mnot\u001b[0m \u001b[0misnull\u001b[0m\u001b[0;34m(\u001b[0m\u001b[0mitem\u001b[0m\u001b[0;34m)\u001b[0m\u001b[0;34m:\u001b[0m\u001b[0;34m\u001b[0m\u001b[0m\n\u001b[0;32m-> 3590\u001b[0;31m                 \u001b[0mloc\u001b[0m \u001b[0;34m=\u001b[0m \u001b[0mself\u001b[0m\u001b[0;34m.\u001b[0m\u001b[0mitems\u001b[0m\u001b[0;34m.\u001b[0m\u001b[0mget_loc\u001b[0m\u001b[0;34m(\u001b[0m\u001b[0mitem\u001b[0m\u001b[0;34m)\u001b[0m\u001b[0;34m\u001b[0m\u001b[0m\n\u001b[0m\u001b[1;32m   3591\u001b[0m             \u001b[0;32melse\u001b[0m\u001b[0;34m:\u001b[0m\u001b[0;34m\u001b[0m\u001b[0m\n\u001b[1;32m   3592\u001b[0m                 \u001b[0mindexer\u001b[0m \u001b[0;34m=\u001b[0m \u001b[0mnp\u001b[0m\u001b[0;34m.\u001b[0m\u001b[0marange\u001b[0m\u001b[0;34m(\u001b[0m\u001b[0mlen\u001b[0m\u001b[0;34m(\u001b[0m\u001b[0mself\u001b[0m\u001b[0;34m.\u001b[0m\u001b[0mitems\u001b[0m\u001b[0;34m)\u001b[0m\u001b[0;34m)\u001b[0m\u001b[0;34m[\u001b[0m\u001b[0misnull\u001b[0m\u001b[0;34m(\u001b[0m\u001b[0mself\u001b[0m\u001b[0;34m.\u001b[0m\u001b[0mitems\u001b[0m\u001b[0;34m)\u001b[0m\u001b[0;34m]\u001b[0m\u001b[0;34m\u001b[0m\u001b[0m\n",
      "\u001b[0;32m/home/tyagi/anaconda/lib/python2.7/site-packages/pandas/core/indexes/base.pyc\u001b[0m in \u001b[0;36mget_loc\u001b[0;34m(self, key, method, tolerance)\u001b[0m\n\u001b[1;32m   2393\u001b[0m                 \u001b[0;32mreturn\u001b[0m \u001b[0mself\u001b[0m\u001b[0;34m.\u001b[0m\u001b[0m_engine\u001b[0m\u001b[0;34m.\u001b[0m\u001b[0mget_loc\u001b[0m\u001b[0;34m(\u001b[0m\u001b[0mkey\u001b[0m\u001b[0;34m)\u001b[0m\u001b[0;34m\u001b[0m\u001b[0m\n\u001b[1;32m   2394\u001b[0m             \u001b[0;32mexcept\u001b[0m \u001b[0mKeyError\u001b[0m\u001b[0;34m:\u001b[0m\u001b[0;34m\u001b[0m\u001b[0m\n\u001b[0;32m-> 2395\u001b[0;31m                 \u001b[0;32mreturn\u001b[0m \u001b[0mself\u001b[0m\u001b[0;34m.\u001b[0m\u001b[0m_engine\u001b[0m\u001b[0;34m.\u001b[0m\u001b[0mget_loc\u001b[0m\u001b[0;34m(\u001b[0m\u001b[0mself\u001b[0m\u001b[0;34m.\u001b[0m\u001b[0m_maybe_cast_indexer\u001b[0m\u001b[0;34m(\u001b[0m\u001b[0mkey\u001b[0m\u001b[0;34m)\u001b[0m\u001b[0;34m)\u001b[0m\u001b[0;34m\u001b[0m\u001b[0m\n\u001b[0m\u001b[1;32m   2396\u001b[0m \u001b[0;34m\u001b[0m\u001b[0m\n\u001b[1;32m   2397\u001b[0m         \u001b[0mindexer\u001b[0m \u001b[0;34m=\u001b[0m \u001b[0mself\u001b[0m\u001b[0;34m.\u001b[0m\u001b[0mget_indexer\u001b[0m\u001b[0;34m(\u001b[0m\u001b[0;34m[\u001b[0m\u001b[0mkey\u001b[0m\u001b[0;34m]\u001b[0m\u001b[0;34m,\u001b[0m \u001b[0mmethod\u001b[0m\u001b[0;34m=\u001b[0m\u001b[0mmethod\u001b[0m\u001b[0;34m,\u001b[0m \u001b[0mtolerance\u001b[0m\u001b[0;34m=\u001b[0m\u001b[0mtolerance\u001b[0m\u001b[0;34m)\u001b[0m\u001b[0;34m\u001b[0m\u001b[0m\n",
      "\u001b[0;32mpandas/_libs/index.pyx\u001b[0m in \u001b[0;36mpandas._libs.index.IndexEngine.get_loc (pandas/_libs/index.c:5239)\u001b[0;34m()\u001b[0m\n",
      "\u001b[0;32mpandas/_libs/index.pyx\u001b[0m in \u001b[0;36mpandas._libs.index.IndexEngine.get_loc (pandas/_libs/index.c:5085)\u001b[0;34m()\u001b[0m\n",
      "\u001b[0;32mpandas/_libs/hashtable_class_helper.pxi\u001b[0m in \u001b[0;36mpandas._libs.hashtable.PyObjectHashTable.get_item (pandas/_libs/hashtable.c:20405)\u001b[0;34m()\u001b[0m\n",
      "\u001b[0;32mpandas/_libs/hashtable_class_helper.pxi\u001b[0m in \u001b[0;36mpandas._libs.hashtable.PyObjectHashTable.get_item (pandas/_libs/hashtable.c:20359)\u001b[0;34m()\u001b[0m\n",
      "\u001b[0;31mKeyError\u001b[0m: 61539"
     ]
    }
   ],
   "source": [
    "percentages_invalid = []\n",
    "\n",
    "for eclass in classes:\n",
    "    invalid_count = 0\n",
    "    for transcript_idx in eclass[1:-1]:\n",
    "        if transcripts[int(transcript_idx)] in invalid_ts:\n",
    "            invalid_count += 1\n",
    "    percentage_invalid = (invalid_count*100)/float(eclass[0])\n",
    "    percentages_invalid.append(percentage_invalid)"
   ]
  },
  {
   "cell_type": "code",
   "execution_count": 123,
   "metadata": {},
   "outputs": [
    {
     "data": {
      "text/plain": [
       "<matplotlib.text.Text at 0x111ddd7d0>"
      ]
     },
     "execution_count": 123,
     "metadata": {},
     "output_type": "execute_result"
    },
    {
     "data": {
      "image/png": "[encoded data removed]",
      "text/plain": [
       "<matplotlib.figure.Figure at 0x1129eddd0>"
      ]
     },
     "metadata": {},
     "output_type": "display_data"
    }
   ],
   "source": [
    "plt.rcParams['figure.figsize'] = (15, 6)\n",
    "plt.grid()\n",
    "pd.Series(percentages_invalid).hist(bins=100)\n",
    "plt.title('Distribution of percentage of invalid transcripts for all equivalence classes')"
   ]
  },
  {
   "cell_type": "markdown",
   "metadata": {},
   "source": [
    "### 5. Number of classes valid and invalid transcripts belong to "
   ]
  },
  {
   "cell_type": "markdown",
   "metadata": {},
   "source": [
    "#### 5.1. Approach 1\n",
    "Creating a new property for each transcript: the number of equivalence classes it belongs to."
   ]
  },
  {
   "cell_type": "code",
   "execution_count": 33,
   "metadata": {
    "collapsed": true
   },
   "outputs": [],
   "source": [
    "all_ts = [int(transcript_idx) for eclass in classes for transcript_idx in eclass[1:-1]]\n",
    "ts_eclass_counts = pd.DataFrame(pd.Series(all_ts).value_counts(), columns=['eclass_cnt'])"
   ]
  },
  {
   "cell_type": "code",
   "execution_count": 34,
   "metadata": {
    "collapsed": true
   },
   "outputs": [],
   "source": [
    "transcripts = pd.DataFrame(transcripts, columns=['transcript'])\n",
    "merged = pd.merge(ts_eclass_counts, transcripts, left_index=True, right_index=True)"
   ]
  },
  {
   "cell_type": "code",
   "execution_count": 35,
   "metadata": {
    "collapsed": true
   },
   "outputs": [],
   "source": [
    "merged.index = merged['transcript']; del merged['transcript']"
   ]
  },
  {
   "cell_type": "code",
   "execution_count": 36,
   "metadata": {
    "collapsed": true
   },
   "outputs": [],
   "source": [
    "data['eclass_cnt'] = merged['eclass_cnt']"
   ]
  },
  {
   "cell_type": "code",
   "execution_count": 37,
   "metadata": {
    "collapsed": true
   },
   "outputs": [],
   "source": [
    "data['eclass_cnt'] = data['eclass_cnt'].fillna(0)"
   ]
  },
  {
   "cell_type": "code",
   "execution_count": 38,
   "metadata": {},
   "outputs": [
    {
     "data": {
      "text/plain": [
       "<matplotlib.legend.Legend at 0x7fe69749a250>"
      ]
     },
     "execution_count": 38,
     "metadata": {},
     "output_type": "execute_result"
    },
    {
     "data": {
      "image/png": "[encoded data removed]",
      "text/plain": [
       "<matplotlib.figure.Figure at 0x7fe6975bd5d0>"
      ]
     },
     "metadata": {},
     "output_type": "display_data"
    }
   ],
   "source": [
    "fig, axs = plt.subplots(1,2, sharey=True, sharex=True)\n",
    "# fig.set_size_inches(15,15)\n",
    "\n",
    "prop = 'eclass_cnt'\n",
    "\n",
    "ax1 = data[data['invalid']][prop].hist(ax=axs[0], log=True, color='darkred')#.apply(lambda x: log(x+1))\n",
    "ax1.legend(['Log count of equivalence classes, for invalid transcripts'])\n",
    "\n",
    "ax = data[~data['invalid']][prop].hist(ax=axs[1], log=True, color='darkgreen')\n",
    "ax.legend(['Log count of equivalence classes, for valid transcripts'])"
   ]
  },
  {
   "cell_type": "markdown",
   "metadata": {},
   "source": [
    "#### 5.2. Approach 2"
   ]
  },
  {
   "cell_type": "code",
   "execution_count": 81,
   "metadata": {},
   "outputs": [
    {
     "data": {
      "text/html": [
       "<div>\n",
       "<style>\n",
       "    .dataframe thead tr:only-child th {\n",
       "        text-align: right;\n",
       "    }\n",
       "\n",
       "    .dataframe thead th {\n",
       "        text-align: left;\n",
       "    }\n",
       "\n",
       "    .dataframe tbody tr th {\n",
       "        vertical-align: top;\n",
       "    }\n",
       "</style>\n",
       "<table border=\"1\" class=\"dataframe\">\n",
       "  <thead>\n",
       "    <tr style=\"text-align: right;\">\n",
       "      <th></th>\n",
       "      <th>eclass_cnt</th>\n",
       "    </tr>\n",
       "    <tr>\n",
       "      <th>transcript</th>\n",
       "      <th></th>\n",
       "    </tr>\n",
       "  </thead>\n",
       "  <tbody>\n",
       "    <tr>\n",
       "      <th>ENST00000369202</th>\n",
       "      <td>225</td>\n",
       "    </tr>\n",
       "    <tr>\n",
       "      <th>ENST00000369339</th>\n",
       "      <td>189</td>\n",
       "    </tr>\n",
       "    <tr>\n",
       "      <th>ENST00000605176</th>\n",
       "      <td>188</td>\n",
       "    </tr>\n",
       "    <tr>\n",
       "      <th>ENST00000342960</th>\n",
       "      <td>187</td>\n",
       "    </tr>\n",
       "    <tr>\n",
       "      <th>ENST00000369365</th>\n",
       "      <td>168</td>\n",
       "    </tr>\n",
       "  </tbody>\n",
       "</table>\n",
       "</div>"
      ],
      "text/plain": [
       "                 eclass_cnt\n",
       "transcript                 \n",
       "ENST00000369202         225\n",
       "ENST00000369339         189\n",
       "ENST00000605176         188\n",
       "ENST00000342960         187\n",
       "ENST00000369365         168"
      ]
     },
     "execution_count": 81,
     "metadata": {},
     "output_type": "execute_result"
    }
   ],
   "source": [
    "merged.head()"
   ]
  },
  {
   "cell_type": "code",
   "execution_count": 79,
   "metadata": {},
   "outputs": [
    {
     "ename": "SyntaxError",
     "evalue": "invalid syntax (<ipython-input-79-80c425a55669>, line 1)",
     "output_type": "error",
     "traceback": [
      "\u001b[0;36m  File \u001b[0;32m\"<ipython-input-79-80c425a55669>\"\u001b[0;36m, line \u001b[0;32m1\u001b[0m\n\u001b[0;31m    eq_df.groupby('transcript').apply(lambda x: )\u001b[0m\n\u001b[0m                                                ^\u001b[0m\n\u001b[0;31mSyntaxError\u001b[0m\u001b[0;31m:\u001b[0m invalid syntax\n"
     ]
    }
   ],
   "source": [
    "eq_df.groupby('transcript').apply(lambda x: )"
   ]
  },
  {
   "cell_type": "code",
   "execution_count": 45,
   "metadata": {},
   "outputs": [
    {
     "data": {
      "text/plain": [
       "<matplotlib.axes._subplots.AxesSubplot at 0x7fe6974ee650>"
      ]
     },
     "execution_count": 45,
     "metadata": {},
     "output_type": "execute_result"
    },
    {
     "data": {
      "image/png": "[encoded data removed]",
      "text/plain": [
       "<matplotlib.figure.Figure at 0x7fe69449cfd0>"
      ]
     },
     "metadata": {},
     "output_type": "display_data"
    }
   ],
   "source": [
    "merged.groupby('transcript').apply(lambda x: x[x['invalid']]['eclass_id'].unique().shape[0]).apply(lambda x: log(x+1)).hist(alpha=0.6, color='darkred')\n",
    "merged.groupby('transcript').apply(lambda x: x[~x['invalid']]['eclass_id'].unique().shape[0]).apply(lambda x: log(x+1)).hist(alpha=0.6, color='darkgreen')"
   ]
  },
  {
   "cell_type": "markdown",
   "metadata": {
    "collapsed": true
   },
   "source": [
    "### Sum of numreads weighted by size of equivalent classes it belongs to\n",
    "Digging deeper into equivalence classes, we tried to give each transcript a weight based on the average number of reads that come from it. To calculate the weight, we use the below formula.\n",
    "\n",
    "Suppose transcript **$T_{1}$** appears in equivalence classes **$E_{1}$** and **$E_{2}$**. Class **$E_{1}$** has number of reads **$R_{1}$** and class **$E_{2}$** has number of reads **$R_{2}$** with number of members **$N_{1}$** and **$N_{2}$** respectively. So:\n",
    "\n",
    "Weight of **$T_{1}$** = **($R_{1}$/$N_{1}$ + $R_{2}$/$N_{2}$)**"
   ]
  },
  {
   "cell_type": "code",
   "execution_count": 46,
   "metadata": {},
   "outputs": [],
   "source": [
    "weightedreads = merged.groupby('transcript').apply(lambda x: sum(x['numreads'])).reset_index()\n",
    "# plt.scatter(weightedreads, ['NumReads'])\n"
   ]
  },
  {
   "cell_type": "code",
   "execution_count": 47,
   "metadata": {
    "collapsed": true
   },
   "outputs": [],
   "source": [
    "weightedreads.columns = ['transcript', 'wreads']"
   ]
  },
  {
   "cell_type": "code",
   "execution_count": 48,
   "metadata": {
    "collapsed": true
   },
   "outputs": [],
   "source": [
    "wr_merged = pd.merge(data, weightedreads, left_index=True, right_on=['transcript'])"
   ]
  },
  {
   "cell_type": "code",
   "execution_count": 49,
   "metadata": {},
   "outputs": [
    {
     "data": {
      "text/plain": [
       "<matplotlib.collections.PathCollection at 0x7fe6942ab490>"
      ]
     },
     "execution_count": 49,
     "metadata": {},
     "output_type": "execute_result"
    },
    {
     "data": {
      "image/png": "[encoded data removed]",
      "text/plain": [
       "<matplotlib.figure.Figure at 0x7fe694485c90>"
      ]
     },
     "metadata": {},
     "output_type": "display_data"
    }
   ],
   "source": [
    "plt.scatter(wr_merged['NumReads'], wr_merged['wreads'])"
   ]
  },
  {
   "cell_type": "code",
   "execution_count": 50,
   "metadata": {},
   "outputs": [
    {
     "data": {
      "text/plain": [
       "<matplotlib.collections.PathCollection at 0x7fe6941e4290>"
      ]
     },
     "execution_count": 50,
     "metadata": {},
     "output_type": "execute_result"
    },
    {
     "data": {
      "image/png": "[encoded data removed]",
      "text/plain": [
       "<matplotlib.figure.Figure at 0x7fe69440d610>"
      ]
     },
     "metadata": {},
     "output_type": "display_data"
    }
   ],
   "source": [
    "plt.scatter(wr_merged['NumReads'].apply(lambda x: log(x) if x!=0 else log(0.001)), wr_merged['wreads'].apply(lambda x: log(x) if x!=0 else log(0.001)))"
   ]
  },
  {
   "cell_type": "code",
   "execution_count": 51,
   "metadata": {},
   "outputs": [],
   "source": [
    "invalid = merged[merged['invalid']]\n",
    "valid = merged[~merged['invalid']]"
   ]
  },
  {
   "cell_type": "code",
   "execution_count": 55,
   "metadata": {},
   "outputs": [
    {
     "data": {
      "text/html": [
       "<div>\n",
       "<style>\n",
       "    .dataframe thead tr:only-child th {\n",
       "        text-align: right;\n",
       "    }\n",
       "\n",
       "    .dataframe thead th {\n",
       "        text-align: left;\n",
       "    }\n",
       "\n",
       "    .dataframe tbody tr th {\n",
       "        vertical-align: top;\n",
       "    }\n",
       "</style>\n",
       "<table border=\"1\" class=\"dataframe\">\n",
       "  <thead>\n",
       "    <tr style=\"text-align: right;\">\n",
       "      <th></th>\n",
       "      <th>0</th>\n",
       "      <th>1</th>\n",
       "      <th>2</th>\n",
       "      <th>3</th>\n",
       "      <th>4</th>\n",
       "      <th>5</th>\n",
       "      <th>6</th>\n",
       "      <th>7</th>\n",
       "      <th>8</th>\n",
       "      <th>9</th>\n",
       "      <th>...</th>\n",
       "      <th>invalid</th>\n",
       "      <th>mape</th>\n",
       "      <th>mae_n</th>\n",
       "      <th>Length</th>\n",
       "      <th>EffectiveLength</th>\n",
       "      <th>TPM</th>\n",
       "      <th>NumReads</th>\n",
       "      <th>eclass_cnt</th>\n",
       "      <th>transcript</th>\n",
       "      <th>wreads</th>\n",
       "    </tr>\n",
       "  </thead>\n",
       "  <tbody>\n",
       "    <tr>\n",
       "      <th>9693</th>\n",
       "      <td>19.272902</td>\n",
       "      <td>21.122520</td>\n",
       "      <td>21.754805</td>\n",
       "      <td>22.437591</td>\n",
       "      <td>22.674037</td>\n",
       "      <td>23.822094</td>\n",
       "      <td>24.348252</td>\n",
       "      <td>24.387028</td>\n",
       "      <td>25.785329</td>\n",
       "      <td>26.017682</td>\n",
       "      <td>...</td>\n",
       "      <td>False</td>\n",
       "      <td>16.997120</td>\n",
       "      <td>0.145752</td>\n",
       "      <td>1420</td>\n",
       "      <td>1220.991</td>\n",
       "      <td>1.180968</td>\n",
       "      <td>46.855146</td>\n",
       "      <td>3.0</td>\n",
       "      <td>ENST00000382369</td>\n",
       "      <td>125</td>\n",
       "    </tr>\n",
       "    <tr>\n",
       "      <th>6510</th>\n",
       "      <td>13.465284</td>\n",
       "      <td>15.456381</td>\n",
       "      <td>16.625515</td>\n",
       "      <td>17.269747</td>\n",
       "      <td>19.044385</td>\n",
       "      <td>19.792498</td>\n",
       "      <td>20.374741</td>\n",
       "      <td>20.605138</td>\n",
       "      <td>20.910507</td>\n",
       "      <td>21.264112</td>\n",
       "      <td>...</td>\n",
       "      <td>False</td>\n",
       "      <td>22.998302</td>\n",
       "      <td>0.203210</td>\n",
       "      <td>1575</td>\n",
       "      <td>1375.991</td>\n",
       "      <td>0.912080</td>\n",
       "      <td>40.780781</td>\n",
       "      <td>4.0</td>\n",
       "      <td>ENST00000360321</td>\n",
       "      <td>129</td>\n",
       "    </tr>\n",
       "    <tr>\n",
       "      <th>11047</th>\n",
       "      <td>40.970483</td>\n",
       "      <td>45.874537</td>\n",
       "      <td>46.154529</td>\n",
       "      <td>46.272003</td>\n",
       "      <td>47.886339</td>\n",
       "      <td>48.150061</td>\n",
       "      <td>48.583841</td>\n",
       "      <td>50.326164</td>\n",
       "      <td>52.084900</td>\n",
       "      <td>53.358409</td>\n",
       "      <td>...</td>\n",
       "      <td>False</td>\n",
       "      <td>22.850545</td>\n",
       "      <td>0.330594</td>\n",
       "      <td>1022</td>\n",
       "      <td>822.991</td>\n",
       "      <td>2.705958</td>\n",
       "      <td>72.364073</td>\n",
       "      <td>3.0</td>\n",
       "      <td>ENST00000400269</td>\n",
       "      <td>109</td>\n",
       "    </tr>\n",
       "    <tr>\n",
       "      <th>9692</th>\n",
       "      <td>1921.000000</td>\n",
       "      <td>1928.000000</td>\n",
       "      <td>1932.000000</td>\n",
       "      <td>1940.000000</td>\n",
       "      <td>1940.000000</td>\n",
       "      <td>1943.000000</td>\n",
       "      <td>1943.000000</td>\n",
       "      <td>1950.000000</td>\n",
       "      <td>1953.000000</td>\n",
       "      <td>1961.000000</td>\n",
       "      <td>...</td>\n",
       "      <td>True</td>\n",
       "      <td>23.266114</td>\n",
       "      <td>2.550620</td>\n",
       "      <td>3229</td>\n",
       "      <td>3029.991</td>\n",
       "      <td>20.638372</td>\n",
       "      <td>2032.000000</td>\n",
       "      <td>1.0</td>\n",
       "      <td>ENST00000382352</td>\n",
       "      <td>2032</td>\n",
       "    </tr>\n",
       "    <tr>\n",
       "      <th>5401</th>\n",
       "      <td>1886.000000</td>\n",
       "      <td>1896.000000</td>\n",
       "      <td>1903.000000</td>\n",
       "      <td>1905.000000</td>\n",
       "      <td>1905.000000</td>\n",
       "      <td>1913.000000</td>\n",
       "      <td>1916.000000</td>\n",
       "      <td>1920.000000</td>\n",
       "      <td>1920.000000</td>\n",
       "      <td>1920.000000</td>\n",
       "      <td>...</td>\n",
       "      <td>True</td>\n",
       "      <td>28.786912</td>\n",
       "      <td>3.464313</td>\n",
       "      <td>4627</td>\n",
       "      <td>4427.991</td>\n",
       "      <td>13.886148</td>\n",
       "      <td>1998.000000</td>\n",
       "      <td>2.0</td>\n",
       "      <td>ENST00000342665</td>\n",
       "      <td>1998</td>\n",
       "    </tr>\n",
       "  </tbody>\n",
       "</table>\n",
       "<p>5 rows × 217 columns</p>\n",
       "</div>"
      ],
      "text/plain": [
       "                 0            1            2            3            4  \\\n",
       "9693     19.272902    21.122520    21.754805    22.437591    22.674037   \n",
       "6510     13.465284    15.456381    16.625515    17.269747    19.044385   \n",
       "11047    40.970483    45.874537    46.154529    46.272003    47.886339   \n",
       "9692   1921.000000  1928.000000  1932.000000  1940.000000  1940.000000   \n",
       "5401   1886.000000  1896.000000  1903.000000  1905.000000  1905.000000   \n",
       "\n",
       "                 5            6            7            8            9  \\\n",
       "9693     23.822094    24.348252    24.387028    25.785329    26.017682   \n",
       "6510     19.792498    20.374741    20.605138    20.910507    21.264112   \n",
       "11047    48.150061    48.583841    50.326164    52.084900    53.358409   \n",
       "9692   1943.000000  1943.000000  1950.000000  1953.000000  1961.000000   \n",
       "5401   1913.000000  1916.000000  1920.000000  1920.000000  1920.000000   \n",
       "\n",
       "        ...    invalid       mape     mae_n  Length  EffectiveLength  \\\n",
       "9693    ...      False  16.997120  0.145752    1420         1220.991   \n",
       "6510    ...      False  22.998302  0.203210    1575         1375.991   \n",
       "11047   ...      False  22.850545  0.330594    1022          822.991   \n",
       "9692    ...       True  23.266114  2.550620    3229         3029.991   \n",
       "5401    ...       True  28.786912  3.464313    4627         4427.991   \n",
       "\n",
       "             TPM     NumReads  eclass_cnt       transcript  wreads  \n",
       "9693    1.180968    46.855146         3.0  ENST00000382369     125  \n",
       "6510    0.912080    40.780781         4.0  ENST00000360321     129  \n",
       "11047   2.705958    72.364073         3.0  ENST00000400269     109  \n",
       "9692   20.638372  2032.000000         1.0  ENST00000382352    2032  \n",
       "5401   13.886148  1998.000000         2.0  ENST00000342665    1998  \n",
       "\n",
       "[5 rows x 217 columns]"
      ]
     },
     "execution_count": 55,
     "metadata": {},
     "output_type": "execute_result"
    }
   ],
   "source": [
    "wr_merged.head()"
   ]
  },
  {
   "cell_type": "code",
   "execution_count": 52,
   "metadata": {},
   "outputs": [
    {
     "ename": "KeyError",
     "evalue": "'overlap'",
     "output_type": "error",
     "traceback": [
      "\u001b[0;31m---------------------------------------------------------------------------\u001b[0m",
      "\u001b[0;31mKeyError\u001b[0m                                  Traceback (most recent call last)",
      "\u001b[0;32m<ipython-input-52-4d7f8703f8db>\u001b[0m in \u001b[0;36m<module>\u001b[0;34m()\u001b[0m\n\u001b[0;32m----> 1\u001b[0;31m \u001b[0mvalid\u001b[0m\u001b[0;34m.\u001b[0m\u001b[0mgroupby\u001b[0m\u001b[0;34m(\u001b[0m\u001b[0;34m'transcript'\u001b[0m\u001b[0;34m)\u001b[0m\u001b[0;34m.\u001b[0m\u001b[0mapply\u001b[0m\u001b[0;34m(\u001b[0m\u001b[0;32mlambda\u001b[0m \u001b[0mx\u001b[0m\u001b[0;34m:\u001b[0m \u001b[0msum\u001b[0m\u001b[0;34m(\u001b[0m\u001b[0mx\u001b[0m\u001b[0;34m[\u001b[0m\u001b[0;34m'overlap'\u001b[0m\u001b[0;34m]\u001b[0m\u001b[0;34m)\u001b[0m\u001b[0;34m/\u001b[0m\u001b[0mlen\u001b[0m\u001b[0;34m(\u001b[0m\u001b[0mx\u001b[0m\u001b[0;34m)\u001b[0m\u001b[0;34m)\u001b[0m\u001b[0;34m.\u001b[0m\u001b[0mapply\u001b[0m\u001b[0;34m(\u001b[0m\u001b[0mlog\u001b[0m\u001b[0;34m)\u001b[0m\u001b[0;34m.\u001b[0m\u001b[0mhist\u001b[0m\u001b[0;34m(\u001b[0m\u001b[0malpha\u001b[0m\u001b[0;34m=\u001b[0m\u001b[0;36m0.5\u001b[0m\u001b[0;34m,\u001b[0m \u001b[0mbins\u001b[0m\u001b[0;34m=\u001b[0m\u001b[0;36m50\u001b[0m\u001b[0;34m,\u001b[0m \u001b[0mcolor\u001b[0m\u001b[0;34m=\u001b[0m\u001b[0;34m'darkgreen'\u001b[0m\u001b[0;34m)\u001b[0m\u001b[0;34m\u001b[0m\u001b[0m\n\u001b[0m\u001b[1;32m      2\u001b[0m \u001b[0minvalid\u001b[0m\u001b[0;34m.\u001b[0m\u001b[0mgroupby\u001b[0m\u001b[0;34m(\u001b[0m\u001b[0;34m'transcript'\u001b[0m\u001b[0;34m)\u001b[0m\u001b[0;34m.\u001b[0m\u001b[0mapply\u001b[0m\u001b[0;34m(\u001b[0m\u001b[0;32mlambda\u001b[0m \u001b[0mx\u001b[0m\u001b[0;34m:\u001b[0m \u001b[0msum\u001b[0m\u001b[0;34m(\u001b[0m\u001b[0mx\u001b[0m\u001b[0;34m[\u001b[0m\u001b[0;34m'overlap'\u001b[0m\u001b[0;34m]\u001b[0m\u001b[0;34m)\u001b[0m\u001b[0;34m/\u001b[0m\u001b[0mlen\u001b[0m\u001b[0;34m(\u001b[0m\u001b[0mx\u001b[0m\u001b[0;34m)\u001b[0m\u001b[0;34m)\u001b[0m\u001b[0;34m.\u001b[0m\u001b[0mapply\u001b[0m\u001b[0;34m(\u001b[0m\u001b[0mlog\u001b[0m\u001b[0;34m)\u001b[0m\u001b[0;34m.\u001b[0m\u001b[0mhist\u001b[0m\u001b[0;34m(\u001b[0m\u001b[0malpha\u001b[0m\u001b[0;34m=\u001b[0m\u001b[0;36m0.5\u001b[0m\u001b[0;34m,\u001b[0m \u001b[0mbins\u001b[0m\u001b[0;34m=\u001b[0m\u001b[0;36m50\u001b[0m\u001b[0;34m,\u001b[0m \u001b[0mcolor\u001b[0m\u001b[0;34m=\u001b[0m\u001b[0;34m'darkred'\u001b[0m\u001b[0;34m)\u001b[0m\u001b[0;34m\u001b[0m\u001b[0m\n",
      "\u001b[0;32m/home/tyagi/anaconda/lib/python2.7/site-packages/pandas/core/groupby.pyc\u001b[0m in \u001b[0;36mapply\u001b[0;34m(self, func, *args, **kwargs)\u001b[0m\n\u001b[1;32m    714\u001b[0m         \u001b[0;31m# ignore SettingWithCopy here in case the user mutates\u001b[0m\u001b[0;34m\u001b[0m\u001b[0;34m\u001b[0m\u001b[0m\n\u001b[1;32m    715\u001b[0m         \u001b[0;32mwith\u001b[0m \u001b[0moption_context\u001b[0m\u001b[0;34m(\u001b[0m\u001b[0;34m'mode.chained_assignment'\u001b[0m\u001b[0;34m,\u001b[0m \u001b[0mNone\u001b[0m\u001b[0;34m)\u001b[0m\u001b[0;34m:\u001b[0m\u001b[0;34m\u001b[0m\u001b[0m\n\u001b[0;32m--> 716\u001b[0;31m             \u001b[0;32mreturn\u001b[0m \u001b[0mself\u001b[0m\u001b[0;34m.\u001b[0m\u001b[0m_python_apply_general\u001b[0m\u001b[0;34m(\u001b[0m\u001b[0mf\u001b[0m\u001b[0;34m)\u001b[0m\u001b[0;34m\u001b[0m\u001b[0m\n\u001b[0m\u001b[1;32m    717\u001b[0m \u001b[0;34m\u001b[0m\u001b[0m\n\u001b[1;32m    718\u001b[0m     \u001b[0;32mdef\u001b[0m \u001b[0m_python_apply_general\u001b[0m\u001b[0;34m(\u001b[0m\u001b[0mself\u001b[0m\u001b[0;34m,\u001b[0m \u001b[0mf\u001b[0m\u001b[0;34m)\u001b[0m\u001b[0;34m:\u001b[0m\u001b[0;34m\u001b[0m\u001b[0m\n",
      "\u001b[0;32m/home/tyagi/anaconda/lib/python2.7/site-packages/pandas/core/groupby.pyc\u001b[0m in \u001b[0;36m_python_apply_general\u001b[0;34m(self, f)\u001b[0m\n\u001b[1;32m    718\u001b[0m     \u001b[0;32mdef\u001b[0m \u001b[0m_python_apply_general\u001b[0m\u001b[0;34m(\u001b[0m\u001b[0mself\u001b[0m\u001b[0;34m,\u001b[0m \u001b[0mf\u001b[0m\u001b[0;34m)\u001b[0m\u001b[0;34m:\u001b[0m\u001b[0;34m\u001b[0m\u001b[0m\n\u001b[1;32m    719\u001b[0m         keys, values, mutated = self.grouper.apply(f, self._selected_obj,\n\u001b[0;32m--> 720\u001b[0;31m                                                    self.axis)\n\u001b[0m\u001b[1;32m    721\u001b[0m \u001b[0;34m\u001b[0m\u001b[0m\n\u001b[1;32m    722\u001b[0m         return self._wrap_applied_output(\n",
      "\u001b[0;32m/home/tyagi/anaconda/lib/python2.7/site-packages/pandas/core/groupby.pyc\u001b[0m in \u001b[0;36mapply\u001b[0;34m(self, f, data, axis)\u001b[0m\n\u001b[1;32m   1727\u001b[0m             \u001b[0;31m# group might be modified\u001b[0m\u001b[0;34m\u001b[0m\u001b[0;34m\u001b[0m\u001b[0m\n\u001b[1;32m   1728\u001b[0m             \u001b[0mgroup_axes\u001b[0m \u001b[0;34m=\u001b[0m \u001b[0m_get_axes\u001b[0m\u001b[0;34m(\u001b[0m\u001b[0mgroup\u001b[0m\u001b[0;34m)\u001b[0m\u001b[0;34m\u001b[0m\u001b[0m\n\u001b[0;32m-> 1729\u001b[0;31m             \u001b[0mres\u001b[0m \u001b[0;34m=\u001b[0m \u001b[0mf\u001b[0m\u001b[0;34m(\u001b[0m\u001b[0mgroup\u001b[0m\u001b[0;34m)\u001b[0m\u001b[0;34m\u001b[0m\u001b[0m\n\u001b[0m\u001b[1;32m   1730\u001b[0m             \u001b[0;32mif\u001b[0m \u001b[0;32mnot\u001b[0m \u001b[0m_is_indexed_like\u001b[0m\u001b[0;34m(\u001b[0m\u001b[0mres\u001b[0m\u001b[0;34m,\u001b[0m \u001b[0mgroup_axes\u001b[0m\u001b[0;34m)\u001b[0m\u001b[0;34m:\u001b[0m\u001b[0;34m\u001b[0m\u001b[0m\n\u001b[1;32m   1731\u001b[0m                 \u001b[0mmutated\u001b[0m \u001b[0;34m=\u001b[0m \u001b[0mTrue\u001b[0m\u001b[0;34m\u001b[0m\u001b[0m\n",
      "\u001b[0;32m<ipython-input-52-4d7f8703f8db>\u001b[0m in \u001b[0;36m<lambda>\u001b[0;34m(x)\u001b[0m\n\u001b[0;32m----> 1\u001b[0;31m \u001b[0mvalid\u001b[0m\u001b[0;34m.\u001b[0m\u001b[0mgroupby\u001b[0m\u001b[0;34m(\u001b[0m\u001b[0;34m'transcript'\u001b[0m\u001b[0;34m)\u001b[0m\u001b[0;34m.\u001b[0m\u001b[0mapply\u001b[0m\u001b[0;34m(\u001b[0m\u001b[0;32mlambda\u001b[0m \u001b[0mx\u001b[0m\u001b[0;34m:\u001b[0m \u001b[0msum\u001b[0m\u001b[0;34m(\u001b[0m\u001b[0mx\u001b[0m\u001b[0;34m[\u001b[0m\u001b[0;34m'overlap'\u001b[0m\u001b[0;34m]\u001b[0m\u001b[0;34m)\u001b[0m\u001b[0;34m/\u001b[0m\u001b[0mlen\u001b[0m\u001b[0;34m(\u001b[0m\u001b[0mx\u001b[0m\u001b[0;34m)\u001b[0m\u001b[0;34m)\u001b[0m\u001b[0;34m.\u001b[0m\u001b[0mapply\u001b[0m\u001b[0;34m(\u001b[0m\u001b[0mlog\u001b[0m\u001b[0;34m)\u001b[0m\u001b[0;34m.\u001b[0m\u001b[0mhist\u001b[0m\u001b[0;34m(\u001b[0m\u001b[0malpha\u001b[0m\u001b[0;34m=\u001b[0m\u001b[0;36m0.5\u001b[0m\u001b[0;34m,\u001b[0m \u001b[0mbins\u001b[0m\u001b[0;34m=\u001b[0m\u001b[0;36m50\u001b[0m\u001b[0;34m,\u001b[0m \u001b[0mcolor\u001b[0m\u001b[0;34m=\u001b[0m\u001b[0;34m'darkgreen'\u001b[0m\u001b[0;34m)\u001b[0m\u001b[0;34m\u001b[0m\u001b[0m\n\u001b[0m\u001b[1;32m      2\u001b[0m \u001b[0minvalid\u001b[0m\u001b[0;34m.\u001b[0m\u001b[0mgroupby\u001b[0m\u001b[0;34m(\u001b[0m\u001b[0;34m'transcript'\u001b[0m\u001b[0;34m)\u001b[0m\u001b[0;34m.\u001b[0m\u001b[0mapply\u001b[0m\u001b[0;34m(\u001b[0m\u001b[0;32mlambda\u001b[0m \u001b[0mx\u001b[0m\u001b[0;34m:\u001b[0m \u001b[0msum\u001b[0m\u001b[0;34m(\u001b[0m\u001b[0mx\u001b[0m\u001b[0;34m[\u001b[0m\u001b[0;34m'overlap'\u001b[0m\u001b[0;34m]\u001b[0m\u001b[0;34m)\u001b[0m\u001b[0;34m/\u001b[0m\u001b[0mlen\u001b[0m\u001b[0;34m(\u001b[0m\u001b[0mx\u001b[0m\u001b[0;34m)\u001b[0m\u001b[0;34m)\u001b[0m\u001b[0;34m.\u001b[0m\u001b[0mapply\u001b[0m\u001b[0;34m(\u001b[0m\u001b[0mlog\u001b[0m\u001b[0;34m)\u001b[0m\u001b[0;34m.\u001b[0m\u001b[0mhist\u001b[0m\u001b[0;34m(\u001b[0m\u001b[0malpha\u001b[0m\u001b[0;34m=\u001b[0m\u001b[0;36m0.5\u001b[0m\u001b[0;34m,\u001b[0m \u001b[0mbins\u001b[0m\u001b[0;34m=\u001b[0m\u001b[0;36m50\u001b[0m\u001b[0;34m,\u001b[0m \u001b[0mcolor\u001b[0m\u001b[0;34m=\u001b[0m\u001b[0;34m'darkred'\u001b[0m\u001b[0;34m)\u001b[0m\u001b[0;34m\u001b[0m\u001b[0m\n",
      "\u001b[0;32m/home/tyagi/anaconda/lib/python2.7/site-packages/pandas/core/frame.pyc\u001b[0m in \u001b[0;36m__getitem__\u001b[0;34m(self, key)\u001b[0m\n\u001b[1;32m   2060\u001b[0m             \u001b[0;32mreturn\u001b[0m \u001b[0mself\u001b[0m\u001b[0;34m.\u001b[0m\u001b[0m_getitem_multilevel\u001b[0m\u001b[0;34m(\u001b[0m\u001b[0mkey\u001b[0m\u001b[0;34m)\u001b[0m\u001b[0;34m\u001b[0m\u001b[0m\n\u001b[1;32m   2061\u001b[0m         \u001b[0;32melse\u001b[0m\u001b[0;34m:\u001b[0m\u001b[0;34m\u001b[0m\u001b[0m\n\u001b[0;32m-> 2062\u001b[0;31m             \u001b[0;32mreturn\u001b[0m \u001b[0mself\u001b[0m\u001b[0;34m.\u001b[0m\u001b[0m_getitem_column\u001b[0m\u001b[0;34m(\u001b[0m\u001b[0mkey\u001b[0m\u001b[0;34m)\u001b[0m\u001b[0;34m\u001b[0m\u001b[0m\n\u001b[0m\u001b[1;32m   2063\u001b[0m \u001b[0;34m\u001b[0m\u001b[0m\n\u001b[1;32m   2064\u001b[0m     \u001b[0;32mdef\u001b[0m \u001b[0m_getitem_column\u001b[0m\u001b[0;34m(\u001b[0m\u001b[0mself\u001b[0m\u001b[0;34m,\u001b[0m \u001b[0mkey\u001b[0m\u001b[0;34m)\u001b[0m\u001b[0;34m:\u001b[0m\u001b[0;34m\u001b[0m\u001b[0m\n",
      "\u001b[0;32m/home/tyagi/anaconda/lib/python2.7/site-packages/pandas/core/frame.pyc\u001b[0m in \u001b[0;36m_getitem_column\u001b[0;34m(self, key)\u001b[0m\n\u001b[1;32m   2067\u001b[0m         \u001b[0;31m# get column\u001b[0m\u001b[0;34m\u001b[0m\u001b[0;34m\u001b[0m\u001b[0m\n\u001b[1;32m   2068\u001b[0m         \u001b[0;32mif\u001b[0m \u001b[0mself\u001b[0m\u001b[0;34m.\u001b[0m\u001b[0mcolumns\u001b[0m\u001b[0;34m.\u001b[0m\u001b[0mis_unique\u001b[0m\u001b[0;34m:\u001b[0m\u001b[0;34m\u001b[0m\u001b[0m\n\u001b[0;32m-> 2069\u001b[0;31m             \u001b[0;32mreturn\u001b[0m \u001b[0mself\u001b[0m\u001b[0;34m.\u001b[0m\u001b[0m_get_item_cache\u001b[0m\u001b[0;34m(\u001b[0m\u001b[0mkey\u001b[0m\u001b[0;34m)\u001b[0m\u001b[0;34m\u001b[0m\u001b[0m\n\u001b[0m\u001b[1;32m   2070\u001b[0m \u001b[0;34m\u001b[0m\u001b[0m\n\u001b[1;32m   2071\u001b[0m         \u001b[0;31m# duplicate columns & possible reduce dimensionality\u001b[0m\u001b[0;34m\u001b[0m\u001b[0;34m\u001b[0m\u001b[0m\n",
      "\u001b[0;32m/home/tyagi/anaconda/lib/python2.7/site-packages/pandas/core/generic.pyc\u001b[0m in \u001b[0;36m_get_item_cache\u001b[0;34m(self, item)\u001b[0m\n\u001b[1;32m   1532\u001b[0m         \u001b[0mres\u001b[0m \u001b[0;34m=\u001b[0m \u001b[0mcache\u001b[0m\u001b[0;34m.\u001b[0m\u001b[0mget\u001b[0m\u001b[0;34m(\u001b[0m\u001b[0mitem\u001b[0m\u001b[0;34m)\u001b[0m\u001b[0;34m\u001b[0m\u001b[0m\n\u001b[1;32m   1533\u001b[0m         \u001b[0;32mif\u001b[0m \u001b[0mres\u001b[0m \u001b[0;32mis\u001b[0m \u001b[0mNone\u001b[0m\u001b[0;34m:\u001b[0m\u001b[0;34m\u001b[0m\u001b[0m\n\u001b[0;32m-> 1534\u001b[0;31m             \u001b[0mvalues\u001b[0m \u001b[0;34m=\u001b[0m \u001b[0mself\u001b[0m\u001b[0;34m.\u001b[0m\u001b[0m_data\u001b[0m\u001b[0;34m.\u001b[0m\u001b[0mget\u001b[0m\u001b[0;34m(\u001b[0m\u001b[0mitem\u001b[0m\u001b[0;34m)\u001b[0m\u001b[0;34m\u001b[0m\u001b[0m\n\u001b[0m\u001b[1;32m   1535\u001b[0m             \u001b[0mres\u001b[0m \u001b[0;34m=\u001b[0m \u001b[0mself\u001b[0m\u001b[0;34m.\u001b[0m\u001b[0m_box_item_values\u001b[0m\u001b[0;34m(\u001b[0m\u001b[0mitem\u001b[0m\u001b[0;34m,\u001b[0m \u001b[0mvalues\u001b[0m\u001b[0;34m)\u001b[0m\u001b[0;34m\u001b[0m\u001b[0m\n\u001b[1;32m   1536\u001b[0m             \u001b[0mcache\u001b[0m\u001b[0;34m[\u001b[0m\u001b[0mitem\u001b[0m\u001b[0;34m]\u001b[0m \u001b[0;34m=\u001b[0m \u001b[0mres\u001b[0m\u001b[0;34m\u001b[0m\u001b[0m\n",
      "\u001b[0;32m/home/tyagi/anaconda/lib/python2.7/site-packages/pandas/core/internals.pyc\u001b[0m in \u001b[0;36mget\u001b[0;34m(self, item, fastpath)\u001b[0m\n\u001b[1;32m   3588\u001b[0m \u001b[0;34m\u001b[0m\u001b[0m\n\u001b[1;32m   3589\u001b[0m             \u001b[0;32mif\u001b[0m \u001b[0;32mnot\u001b[0m \u001b[0misnull\u001b[0m\u001b[0;34m(\u001b[0m\u001b[0mitem\u001b[0m\u001b[0;34m)\u001b[0m\u001b[0;34m:\u001b[0m\u001b[0;34m\u001b[0m\u001b[0m\n\u001b[0;32m-> 3590\u001b[0;31m                 \u001b[0mloc\u001b[0m \u001b[0;34m=\u001b[0m \u001b[0mself\u001b[0m\u001b[0;34m.\u001b[0m\u001b[0mitems\u001b[0m\u001b[0;34m.\u001b[0m\u001b[0mget_loc\u001b[0m\u001b[0;34m(\u001b[0m\u001b[0mitem\u001b[0m\u001b[0;34m)\u001b[0m\u001b[0;34m\u001b[0m\u001b[0m\n\u001b[0m\u001b[1;32m   3591\u001b[0m             \u001b[0;32melse\u001b[0m\u001b[0;34m:\u001b[0m\u001b[0;34m\u001b[0m\u001b[0m\n\u001b[1;32m   3592\u001b[0m                 \u001b[0mindexer\u001b[0m \u001b[0;34m=\u001b[0m \u001b[0mnp\u001b[0m\u001b[0;34m.\u001b[0m\u001b[0marange\u001b[0m\u001b[0;34m(\u001b[0m\u001b[0mlen\u001b[0m\u001b[0;34m(\u001b[0m\u001b[0mself\u001b[0m\u001b[0;34m.\u001b[0m\u001b[0mitems\u001b[0m\u001b[0;34m)\u001b[0m\u001b[0;34m)\u001b[0m\u001b[0;34m[\u001b[0m\u001b[0misnull\u001b[0m\u001b[0;34m(\u001b[0m\u001b[0mself\u001b[0m\u001b[0;34m.\u001b[0m\u001b[0mitems\u001b[0m\u001b[0;34m)\u001b[0m\u001b[0;34m]\u001b[0m\u001b[0;34m\u001b[0m\u001b[0m\n",
      "\u001b[0;32m/home/tyagi/anaconda/lib/python2.7/site-packages/pandas/core/indexes/base.pyc\u001b[0m in \u001b[0;36mget_loc\u001b[0;34m(self, key, method, tolerance)\u001b[0m\n\u001b[1;32m   2393\u001b[0m                 \u001b[0;32mreturn\u001b[0m \u001b[0mself\u001b[0m\u001b[0;34m.\u001b[0m\u001b[0m_engine\u001b[0m\u001b[0;34m.\u001b[0m\u001b[0mget_loc\u001b[0m\u001b[0;34m(\u001b[0m\u001b[0mkey\u001b[0m\u001b[0;34m)\u001b[0m\u001b[0;34m\u001b[0m\u001b[0m\n\u001b[1;32m   2394\u001b[0m             \u001b[0;32mexcept\u001b[0m \u001b[0mKeyError\u001b[0m\u001b[0;34m:\u001b[0m\u001b[0;34m\u001b[0m\u001b[0m\n\u001b[0;32m-> 2395\u001b[0;31m                 \u001b[0;32mreturn\u001b[0m \u001b[0mself\u001b[0m\u001b[0;34m.\u001b[0m\u001b[0m_engine\u001b[0m\u001b[0;34m.\u001b[0m\u001b[0mget_loc\u001b[0m\u001b[0;34m(\u001b[0m\u001b[0mself\u001b[0m\u001b[0;34m.\u001b[0m\u001b[0m_maybe_cast_indexer\u001b[0m\u001b[0;34m(\u001b[0m\u001b[0mkey\u001b[0m\u001b[0;34m)\u001b[0m\u001b[0;34m)\u001b[0m\u001b[0;34m\u001b[0m\u001b[0m\n\u001b[0m\u001b[1;32m   2396\u001b[0m \u001b[0;34m\u001b[0m\u001b[0m\n\u001b[1;32m   2397\u001b[0m         \u001b[0mindexer\u001b[0m \u001b[0;34m=\u001b[0m \u001b[0mself\u001b[0m\u001b[0;34m.\u001b[0m\u001b[0mget_indexer\u001b[0m\u001b[0;34m(\u001b[0m\u001b[0;34m[\u001b[0m\u001b[0mkey\u001b[0m\u001b[0;34m]\u001b[0m\u001b[0;34m,\u001b[0m \u001b[0mmethod\u001b[0m\u001b[0;34m=\u001b[0m\u001b[0mmethod\u001b[0m\u001b[0;34m,\u001b[0m \u001b[0mtolerance\u001b[0m\u001b[0;34m=\u001b[0m\u001b[0mtolerance\u001b[0m\u001b[0;34m)\u001b[0m\u001b[0;34m\u001b[0m\u001b[0m\n",
      "\u001b[0;32mpandas/_libs/index.pyx\u001b[0m in \u001b[0;36mpandas._libs.index.IndexEngine.get_loc (pandas/_libs/index.c:5239)\u001b[0;34m()\u001b[0m\n",
      "\u001b[0;32mpandas/_libs/index.pyx\u001b[0m in \u001b[0;36mpandas._libs.index.IndexEngine.get_loc (pandas/_libs/index.c:5085)\u001b[0;34m()\u001b[0m\n",
      "\u001b[0;32mpandas/_libs/hashtable_class_helper.pxi\u001b[0m in \u001b[0;36mpandas._libs.hashtable.PyObjectHashTable.get_item (pandas/_libs/hashtable.c:20405)\u001b[0;34m()\u001b[0m\n",
      "\u001b[0;32mpandas/_libs/hashtable_class_helper.pxi\u001b[0m in \u001b[0;36mpandas._libs.hashtable.PyObjectHashTable.get_item (pandas/_libs/hashtable.c:20359)\u001b[0;34m()\u001b[0m\n",
      "\u001b[0;31mKeyError\u001b[0m: 'overlap'"
     ]
    }
   ],
   "source": [
    "valid.groupby('transcript').apply(lambda x: sum(x['overlap'])/len(x)).apply(log).hist(alpha=0.5, bins=50, color='darkgreen')\n",
    "invalid.groupby('transcript').apply(lambda x: sum(x['overlap'])/len(x)).apply(log).hist(alpha=0.5, bins=50, color='darkred')"
   ]
  },
  {
   "cell_type": "code",
   "execution_count": 158,
   "metadata": {},
   "outputs": [
    {
     "data": {
      "text/plain": [
       "<matplotlib.axes._subplots.AxesSubplot at 0x134db4690>"
      ]
     },
     "execution_count": 158,
     "metadata": {},
     "output_type": "execute_result"
    },
    {
     "data": {
      "image/png": "[encoded data removed]",
      "text/plain": [
       "<matplotlib.figure.Figure at 0x134d67390>"
      ]
     },
     "metadata": {},
     "output_type": "display_data"
    }
   ],
   "source": [
    "valid.groupby('transcript').apply(lambda x: sum(x['eclass_size'])/len(x)).apply(log).hist(alpha=0.5, bins=100)\n",
    "invalid.groupby('transcript').apply(lambda x: sum(x['eclass_size'])/len(x)).apply(log).hist(alpha=0.5, bins=100)"
   ]
  },
  {
   "cell_type": "code",
   "execution_count": 172,
   "metadata": {},
   "outputs": [
    {
     "data": {
      "text/plain": [
       "<matplotlib.axes._subplots.AxesSubplot at 0x142109090>"
      ]
     },
     "execution_count": 172,
     "metadata": {},
     "output_type": "execute_result"
    },
    {
     "data": {
      "image/png": "[encoded data removed]",
      "text/plain": [
       "<matplotlib.figure.Figure at 0x141beec50>"
      ]
     },
     "metadata": {},
     "output_type": "display_data"
    }
   ],
   "source": [
    "data['truth'].apply(lambda x: log(x+1)).hist(alpha=0.5, bins=100)\n",
    "data['max'].apply(lambda x: log(x+1)).hist(alpha=0.5, bins=100)"
   ]
  },
  {
   "cell_type": "code",
   "execution_count": null,
   "metadata": {
    "collapsed": true
   },
   "outputs": [],
   "source": [
    "eq_df_uniques = eq_df[['eclass_id', 'eclass_len', 'overlap']].drop_duplicates()\n",
    "\n",
    "from math import log \n",
    "\n",
    "plt.rcParams['figure.figsize'] = (15, 6)\n",
    "plt.scatter(eq_df_uniques['eclass_len'], eq_df_uniques['overlap'].apply(lambda x: log(x+1)), alpha=1, s=30)\n",
    "plt.grid()\n",
    "plt.xlabel('Length of equivalent classes')\n",
    "plt.ylabel('Overlap of equivalent classes')\n",
    "plt.title(\"Relationship between length and overlap of equivalent classes\")\n",
    "plt.show()"
   ]
  },
  {
   "cell_type": "code",
   "execution_count": null,
   "metadata": {
    "collapsed": true
   },
   "outputs": [],
   "source": [
    "eq_df[eq_df['eclass_len'] == 1]['overlap'].apply(log).hist()"
   ]
  },
  {
   "cell_type": "code",
   "execution_count": 157,
   "metadata": {},
   "outputs": [
    {
     "data": {
      "text/plain": [
       "<matplotlib.axes._subplots.AxesSubplot at 0x12a646150>"
      ]
     },
     "execution_count": 157,
     "metadata": {},
     "output_type": "execute_result"
    },
    {
     "data": {
      "image/png": "[encoded data removed]",
      "text/plain": [
       "<matplotlib.figure.Figure at 0x12673d250>"
      ]
     },
     "metadata": {},
     "output_type": "display_data"
    }
   ],
   "source": [
    "data[data['invalid']]['quality'].apply(lambda x: log(x+1)).hist(alpha=0.5, bins=100)\n",
    "data[~data['invalid']]['quality'].apply(lambda x: log(x+1)).hist(alpha=0.5, bins=100)"
   ]
  },
  {
   "cell_type": "code",
   "execution_count": 55,
   "metadata": {
    "scrolled": true
   },
   "outputs": [
    {
     "data": {
      "text/html": [
       "<div style=\"max-height:1000px;max-width:1500px;overflow:auto;\">\n",
       "<table border=\"1\" class=\"dataframe\">\n",
       "  <thead>\n",
       "    <tr style=\"text-align: right;\">\n",
       "      <th></th>\n",
       "      <th>erroneous</th>\n",
       "      <th>truth</th>\n",
       "      <th>quality</th>\n",
       "      <th>quality2</th>\n",
       "    </tr>\n",
       "  </thead>\n",
       "  <tbody>\n",
       "    <tr>\n",
       "      <th>ENST00000608495</th>\n",
       "      <td>True</td>\n",
       "      <td>1</td>\n",
       "      <td>20000.000000</td>\n",
       "      <td>100.000000</td>\n",
       "    </tr>\n",
       "    <tr>\n",
       "      <th>ENST00000382369</th>\n",
       "      <td>False</td>\n",
       "      <td>55</td>\n",
       "      <td>4732.443537</td>\n",
       "      <td>16.997120</td>\n",
       "    </tr>\n",
       "    <tr>\n",
       "      <th>ENST00000360321</th>\n",
       "      <td>False</td>\n",
       "      <td>54</td>\n",
       "      <td>5150.160300</td>\n",
       "      <td>22.998302</td>\n",
       "    </tr>\n",
       "    <tr>\n",
       "      <th>ENST00000400269</th>\n",
       "      <td>False</td>\n",
       "      <td>92</td>\n",
       "      <td>4639.511821</td>\n",
       "      <td>22.850545</td>\n",
       "    </tr>\n",
       "    <tr>\n",
       "      <th>ENST00000382352</th>\n",
       "      <td>True</td>\n",
       "      <td>2653</td>\n",
       "      <td>4653.222767</td>\n",
       "      <td>23.266114</td>\n",
       "    </tr>\n",
       "    <tr>\n",
       "      <th>ENST00000342665</th>\n",
       "      <td>True</td>\n",
       "      <td>2804</td>\n",
       "      <td>5757.382311</td>\n",
       "      <td>28.786912</td>\n",
       "    </tr>\n",
       "    <tr>\n",
       "      <th>ENST00000609179</th>\n",
       "      <td>True</td>\n",
       "      <td>261</td>\n",
       "      <td>5947.126437</td>\n",
       "      <td>29.735632</td>\n",
       "    </tr>\n",
       "    <tr>\n",
       "      <th>ENST00000217233</th>\n",
       "      <td>True</td>\n",
       "      <td>382</td>\n",
       "      <td>5935.956118</td>\n",
       "      <td>29.679781</td>\n",
       "    </tr>\n",
       "    <tr>\n",
       "      <th>ENST00000449710</th>\n",
       "      <td>True</td>\n",
       "      <td>350</td>\n",
       "      <td>6630.657128</td>\n",
       "      <td>33.153286</td>\n",
       "    </tr>\n",
       "    <tr>\n",
       "      <th>ENST00000422053</th>\n",
       "      <td>True</td>\n",
       "      <td>259</td>\n",
       "      <td>4691.683835</td>\n",
       "      <td>23.435034</td>\n",
       "    </tr>\n",
       "    <tr>\n",
       "      <th>ENST00000411647</th>\n",
       "      <td>True</td>\n",
       "      <td>892</td>\n",
       "      <td>4693.193238</td>\n",
       "      <td>23.465966</td>\n",
       "    </tr>\n",
       "    <tr>\n",
       "      <th>ENST00000354200</th>\n",
       "      <td>True</td>\n",
       "      <td>945</td>\n",
       "      <td>4234.603175</td>\n",
       "      <td>21.173016</td>\n",
       "    </tr>\n",
       "    <tr>\n",
       "      <th>ENST00000217244</th>\n",
       "      <td>True</td>\n",
       "      <td>3857</td>\n",
       "      <td>1555.105538</td>\n",
       "      <td>7.775528</td>\n",
       "    </tr>\n",
       "    <tr>\n",
       "      <th>ENST00000460062</th>\n",
       "      <td>False</td>\n",
       "      <td>186</td>\n",
       "      <td>1613.881338</td>\n",
       "      <td>6.414593</td>\n",
       "    </tr>\n",
       "    <tr>\n",
       "      <th>ENST00000608066</th>\n",
       "      <td>False</td>\n",
       "      <td>49</td>\n",
       "      <td>3914.537641</td>\n",
       "      <td>16.393486</td>\n",
       "    </tr>\n",
       "    <tr>\n",
       "      <th>ENST00000381962</th>\n",
       "      <td>True</td>\n",
       "      <td>730</td>\n",
       "      <td>3604.109589</td>\n",
       "      <td>18.020548</td>\n",
       "    </tr>\n",
       "    <tr>\n",
       "      <th>ENST00000246104</th>\n",
       "      <td>False</td>\n",
       "      <td>6</td>\n",
       "      <td>8583.333333</td>\n",
       "      <td>35.750000</td>\n",
       "    </tr>\n",
       "    <tr>\n",
       "      <th>ENST00000541082</th>\n",
       "      <td>False</td>\n",
       "      <td>72</td>\n",
       "      <td>10622.124099</td>\n",
       "      <td>50.549204</td>\n",
       "    </tr>\n",
       "    <tr>\n",
       "      <th>ENST00000381939</th>\n",
       "      <td>False</td>\n",
       "      <td>49</td>\n",
       "      <td>11114.206450</td>\n",
       "      <td>53.248831</td>\n",
       "    </tr>\n",
       "    <tr>\n",
       "      <th>ENST00000505691</th>\n",
       "      <td>False</td>\n",
       "      <td>61</td>\n",
       "      <td>3441.998744</td>\n",
       "      <td>15.321793</td>\n",
       "    </tr>\n",
       "    <tr>\n",
       "      <th>ENST00000381899</th>\n",
       "      <td>True</td>\n",
       "      <td>972</td>\n",
       "      <td>4811.173323</td>\n",
       "      <td>24.055867</td>\n",
       "    </tr>\n",
       "    <tr>\n",
       "      <th>ENST00000435720</th>\n",
       "      <td>True</td>\n",
       "      <td>28</td>\n",
       "      <td>6545.499038</td>\n",
       "      <td>32.369714</td>\n",
       "    </tr>\n",
       "    <tr>\n",
       "      <th>ENST00000381898</th>\n",
       "      <td>True</td>\n",
       "      <td>826</td>\n",
       "      <td>4526.112751</td>\n",
       "      <td>22.630564</td>\n",
       "    </tr>\n",
       "    <tr>\n",
       "      <th>ENST00000381894</th>\n",
       "      <td>False</td>\n",
       "      <td>2</td>\n",
       "      <td>12300.000000</td>\n",
       "      <td>51.000000</td>\n",
       "    </tr>\n",
       "    <tr>\n",
       "      <th>ENST00000381873</th>\n",
       "      <td>False</td>\n",
       "      <td>13</td>\n",
       "      <td>19627.843418</td>\n",
       "      <td>46.493690</td>\n",
       "    </tr>\n",
       "    <tr>\n",
       "      <th>ENST00000381867</th>\n",
       "      <td>False</td>\n",
       "      <td>79</td>\n",
       "      <td>6648.681276</td>\n",
       "      <td>32.264784</td>\n",
       "    </tr>\n",
       "    <tr>\n",
       "      <th>ENST00000381808</th>\n",
       "      <td>True</td>\n",
       "      <td>44</td>\n",
       "      <td>5843.181818</td>\n",
       "      <td>29.147727</td>\n",
       "    </tr>\n",
       "    <tr>\n",
       "      <th>ENST00000537552</th>\n",
       "      <td>True</td>\n",
       "      <td>1</td>\n",
       "      <td>20000.000000</td>\n",
       "      <td>100.000000</td>\n",
       "    </tr>\n",
       "    <tr>\n",
       "      <th>ENST00000381715</th>\n",
       "      <td>True</td>\n",
       "      <td>1217</td>\n",
       "      <td>3221.059037</td>\n",
       "      <td>16.102204</td>\n",
       "    </tr>\n",
       "    <tr>\n",
       "      <th>ENST00000400137</th>\n",
       "      <td>True</td>\n",
       "      <td>7745</td>\n",
       "      <td>2789.926243</td>\n",
       "      <td>13.949631</td>\n",
       "    </tr>\n",
       "    <tr>\n",
       "      <th>...</th>\n",
       "      <td>...</td>\n",
       "      <td>...</td>\n",
       "      <td>...</td>\n",
       "      <td>...</td>\n",
       "    </tr>\n",
       "    <tr>\n",
       "      <th>ENST00000299543</th>\n",
       "      <td>False</td>\n",
       "      <td>44</td>\n",
       "      <td>9752.450716</td>\n",
       "      <td>0.454351</td>\n",
       "    </tr>\n",
       "    <tr>\n",
       "      <th>ENST00000075430</th>\n",
       "      <td>True</td>\n",
       "      <td>647</td>\n",
       "      <td>7084.479172</td>\n",
       "      <td>35.422396</td>\n",
       "    </tr>\n",
       "    <tr>\n",
       "      <th>ENST00000590381</th>\n",
       "      <td>True</td>\n",
       "      <td>1137</td>\n",
       "      <td>6604.590345</td>\n",
       "      <td>33.022952</td>\n",
       "    </tr>\n",
       "    <tr>\n",
       "      <th>ENST00000451882</th>\n",
       "      <td>True</td>\n",
       "      <td>99</td>\n",
       "      <td>4667.676768</td>\n",
       "      <td>23.287879</td>\n",
       "    </tr>\n",
       "    <tr>\n",
       "      <th>ENST00000269601</th>\n",
       "      <td>True</td>\n",
       "      <td>2655</td>\n",
       "      <td>3341.786020</td>\n",
       "      <td>16.708930</td>\n",
       "    </tr>\n",
       "    <tr>\n",
       "      <th>ENST00000588162</th>\n",
       "      <td>True</td>\n",
       "      <td>556</td>\n",
       "      <td>4785.335520</td>\n",
       "      <td>23.926678</td>\n",
       "    </tr>\n",
       "    <tr>\n",
       "      <th>ENST00000592957</th>\n",
       "      <td>True</td>\n",
       "      <td>415</td>\n",
       "      <td>4532.660818</td>\n",
       "      <td>22.663304</td>\n",
       "    </tr>\n",
       "    <tr>\n",
       "      <th>ENST00000306735</th>\n",
       "      <td>True</td>\n",
       "      <td>719</td>\n",
       "      <td>3037.254958</td>\n",
       "      <td>15.171235</td>\n",
       "    </tr>\n",
       "    <tr>\n",
       "      <th>ENST00000262197</th>\n",
       "      <td>True</td>\n",
       "      <td>579</td>\n",
       "      <td>5531.220111</td>\n",
       "      <td>27.656101</td>\n",
       "    </tr>\n",
       "    <tr>\n",
       "      <th>ENST00000568911</th>\n",
       "      <td>False</td>\n",
       "      <td>68</td>\n",
       "      <td>3148.714997</td>\n",
       "      <td>14.923514</td>\n",
       "    </tr>\n",
       "    <tr>\n",
       "      <th>ENST00000566810</th>\n",
       "      <td>False</td>\n",
       "      <td>1</td>\n",
       "      <td>18359.795438</td>\n",
       "      <td>23.798977</td>\n",
       "    </tr>\n",
       "    <tr>\n",
       "      <th>ENST00000564686</th>\n",
       "      <td>False</td>\n",
       "      <td>1</td>\n",
       "      <td>14700.000000</td>\n",
       "      <td>1.500000</td>\n",
       "    </tr>\n",
       "    <tr>\n",
       "      <th>ENST00000561195</th>\n",
       "      <td>False</td>\n",
       "      <td>1</td>\n",
       "      <td>15200.000000</td>\n",
       "      <td>13.000000</td>\n",
       "    </tr>\n",
       "    <tr>\n",
       "      <th>ENST00000586421</th>\n",
       "      <td>False</td>\n",
       "      <td>43</td>\n",
       "      <td>3493.251850</td>\n",
       "      <td>15.780108</td>\n",
       "    </tr>\n",
       "    <tr>\n",
       "      <th>ENST00000585422</th>\n",
       "      <td>False</td>\n",
       "      <td>2</td>\n",
       "      <td>13726.548694</td>\n",
       "      <td>27.536443</td>\n",
       "    </tr>\n",
       "    <tr>\n",
       "      <th>ENST00000589574</th>\n",
       "      <td>False</td>\n",
       "      <td>52</td>\n",
       "      <td>3302.524051</td>\n",
       "      <td>15.093894</td>\n",
       "    </tr>\n",
       "    <tr>\n",
       "      <th>ENST00000463384</th>\n",
       "      <td>True</td>\n",
       "      <td>120</td>\n",
       "      <td>4248.333333</td>\n",
       "      <td>21.166667</td>\n",
       "    </tr>\n",
       "    <tr>\n",
       "      <th>ENST00000361390</th>\n",
       "      <td>True</td>\n",
       "      <td>131391</td>\n",
       "      <td>2823.336454</td>\n",
       "      <td>14.116682</td>\n",
       "    </tr>\n",
       "    <tr>\n",
       "      <th>ENST00000361453</th>\n",
       "      <td>True</td>\n",
       "      <td>149407</td>\n",
       "      <td>1177.163051</td>\n",
       "      <td>5.885815</td>\n",
       "    </tr>\n",
       "    <tr>\n",
       "      <th>ENST00000361624</th>\n",
       "      <td>True</td>\n",
       "      <td>1149163</td>\n",
       "      <td>2261.838921</td>\n",
       "      <td>11.309195</td>\n",
       "    </tr>\n",
       "    <tr>\n",
       "      <th>ENST00000361739</th>\n",
       "      <td>True</td>\n",
       "      <td>390303</td>\n",
       "      <td>2565.354097</td>\n",
       "      <td>12.826770</td>\n",
       "    </tr>\n",
       "    <tr>\n",
       "      <th>ENST00000361851</th>\n",
       "      <td>False</td>\n",
       "      <td>8208</td>\n",
       "      <td>190.728558</td>\n",
       "      <td>0.417459</td>\n",
       "    </tr>\n",
       "    <tr>\n",
       "      <th>ENST00000361899</th>\n",
       "      <td>True</td>\n",
       "      <td>245189</td>\n",
       "      <td>1573.498811</td>\n",
       "      <td>7.867494</td>\n",
       "    </tr>\n",
       "    <tr>\n",
       "      <th>ENST00000362079</th>\n",
       "      <td>True</td>\n",
       "      <td>396553</td>\n",
       "      <td>2310.489897</td>\n",
       "      <td>11.552449</td>\n",
       "    </tr>\n",
       "    <tr>\n",
       "      <th>ENST00000361227</th>\n",
       "      <td>True</td>\n",
       "      <td>32006</td>\n",
       "      <td>712.844467</td>\n",
       "      <td>3.564222</td>\n",
       "    </tr>\n",
       "    <tr>\n",
       "      <th>ENST00000361335</th>\n",
       "      <td>True</td>\n",
       "      <td>24918</td>\n",
       "      <td>1908.210932</td>\n",
       "      <td>9.541055</td>\n",
       "    </tr>\n",
       "    <tr>\n",
       "      <th>ENST00000361381</th>\n",
       "      <td>True</td>\n",
       "      <td>455346</td>\n",
       "      <td>1697.397364</td>\n",
       "      <td>8.486987</td>\n",
       "    </tr>\n",
       "    <tr>\n",
       "      <th>ENST00000361567</th>\n",
       "      <td>True</td>\n",
       "      <td>231952</td>\n",
       "      <td>1909.382976</td>\n",
       "      <td>9.546915</td>\n",
       "    </tr>\n",
       "    <tr>\n",
       "      <th>ENST00000361681</th>\n",
       "      <td>True</td>\n",
       "      <td>78271</td>\n",
       "      <td>1472.662928</td>\n",
       "      <td>7.363315</td>\n",
       "    </tr>\n",
       "    <tr>\n",
       "      <th>ENST00000361789</th>\n",
       "      <td>True</td>\n",
       "      <td>177731</td>\n",
       "      <td>2518.165655</td>\n",
       "      <td>12.590828</td>\n",
       "    </tr>\n",
       "  </tbody>\n",
       "</table>\n",
       "<p>26889 rows × 4 columns</p>\n",
       "</div>"
      ],
      "text/plain": [
       "                erroneous    truth       quality    quality2\n",
       "ENST00000608495      True        1  20000.000000  100.000000\n",
       "ENST00000382369     False       55   4732.443537   16.997120\n",
       "ENST00000360321     False       54   5150.160300   22.998302\n",
       "ENST00000400269     False       92   4639.511821   22.850545\n",
       "ENST00000382352      True     2653   4653.222767   23.266114\n",
       "ENST00000342665      True     2804   5757.382311   28.786912\n",
       "ENST00000609179      True      261   5947.126437   29.735632\n",
       "ENST00000217233      True      382   5935.956118   29.679781\n",
       "ENST00000449710      True      350   6630.657128   33.153286\n",
       "ENST00000422053      True      259   4691.683835   23.435034\n",
       "ENST00000411647      True      892   4693.193238   23.465966\n",
       "ENST00000354200      True      945   4234.603175   21.173016\n",
       "ENST00000217244      True     3857   1555.105538    7.775528\n",
       "ENST00000460062     False      186   1613.881338    6.414593\n",
       "ENST00000608066     False       49   3914.537641   16.393486\n",
       "ENST00000381962      True      730   3604.109589   18.020548\n",
       "ENST00000246104     False        6   8583.333333   35.750000\n",
       "ENST00000541082     False       72  10622.124099   50.549204\n",
       "ENST00000381939     False       49  11114.206450   53.248831\n",
       "ENST00000505691     False       61   3441.998744   15.321793\n",
       "ENST00000381899      True      972   4811.173323   24.055867\n",
       "ENST00000435720      True       28   6545.499038   32.369714\n",
       "ENST00000381898      True      826   4526.112751   22.630564\n",
       "ENST00000381894     False        2  12300.000000   51.000000\n",
       "ENST00000381873     False       13  19627.843418   46.493690\n",
       "ENST00000381867     False       79   6648.681276   32.264784\n",
       "ENST00000381808      True       44   5843.181818   29.147727\n",
       "ENST00000537552      True        1  20000.000000  100.000000\n",
       "ENST00000381715      True     1217   3221.059037   16.102204\n",
       "ENST00000400137      True     7745   2789.926243   13.949631\n",
       "...                   ...      ...           ...         ...\n",
       "ENST00000299543     False       44   9752.450716    0.454351\n",
       "ENST00000075430      True      647   7084.479172   35.422396\n",
       "ENST00000590381      True     1137   6604.590345   33.022952\n",
       "ENST00000451882      True       99   4667.676768   23.287879\n",
       "ENST00000269601      True     2655   3341.786020   16.708930\n",
       "ENST00000588162      True      556   4785.335520   23.926678\n",
       "ENST00000592957      True      415   4532.660818   22.663304\n",
       "ENST00000306735      True      719   3037.254958   15.171235\n",
       "ENST00000262197      True      579   5531.220111   27.656101\n",
       "ENST00000568911     False       68   3148.714997   14.923514\n",
       "ENST00000566810     False        1  18359.795438   23.798977\n",
       "ENST00000564686     False        1  14700.000000    1.500000\n",
       "ENST00000561195     False        1  15200.000000   13.000000\n",
       "ENST00000586421     False       43   3493.251850   15.780108\n",
       "ENST00000585422     False        2  13726.548694   27.536443\n",
       "ENST00000589574     False       52   3302.524051   15.093894\n",
       "ENST00000463384      True      120   4248.333333   21.166667\n",
       "ENST00000361390      True   131391   2823.336454   14.116682\n",
       "ENST00000361453      True   149407   1177.163051    5.885815\n",
       "ENST00000361624      True  1149163   2261.838921   11.309195\n",
       "ENST00000361739      True   390303   2565.354097   12.826770\n",
       "ENST00000361851     False     8208    190.728558    0.417459\n",
       "ENST00000361899      True   245189   1573.498811    7.867494\n",
       "ENST00000362079      True   396553   2310.489897   11.552449\n",
       "ENST00000361227      True    32006    712.844467    3.564222\n",
       "ENST00000361335      True    24918   1908.210932    9.541055\n",
       "ENST00000361381      True   455346   1697.397364    8.486987\n",
       "ENST00000361567      True   231952   1909.382976    9.546915\n",
       "ENST00000361681      True    78271   1472.662928    7.363315\n",
       "ENST00000361789      True   177731   2518.165655   12.590828\n",
       "\n",
       "[26889 rows x 4 columns]"
      ]
     },
     "execution_count": 55,
     "metadata": {},
     "output_type": "execute_result"
    }
   ],
   "source": [
    "data[['invalid', 'truth', 'quality', 'quality2']]"
   ]
  },
  {
   "cell_type": "code",
   "execution_count": 58,
   "metadata": {
    "scrolled": true
   },
   "outputs": [
    {
     "data": {
      "text/plain": [
       "'Minimum/Maximum error: -4731.84013587/100.0'"
      ]
     },
     "execution_count": 58,
     "metadata": {},
     "output_type": "execute_result"
    }
   ],
   "source": [
    "\"Minimum/Maximum error: %s/%s\" % (data['mape'].min(), data['mape'].max())"
   ]
  },
  {
   "cell_type": "code",
   "execution_count": null,
   "metadata": {
    "collapsed": true
   },
   "outputs": [],
   "source": []
  },
  {
   "cell_type": "code",
   "execution_count": 67,
   "metadata": {},
   "outputs": [
    {
     "data": {
      "text/plain": [
       "<matplotlib.collections.PathCollection at 0x11efc9190>"
      ]
     },
     "execution_count": 67,
     "metadata": {},
     "output_type": "execute_result"
    },
    {
     "data": {
      "image/png": "[encoded data removed]",
      "text/plain": [
       "<matplotlib.figure.Figure at 0x10cf320d0>"
      ]
     },
     "metadata": {},
     "output_type": "display_data"
    }
   ],
   "source": [
    "plt.scatter(data['truth'].apply(log), data['mape'].apply(log))"
   ]
  },
  {
   "cell_type": "code",
   "execution_count": 60,
   "metadata": {
    "collapsed": true
   },
   "outputs": [],
   "source": [
    "plt.scatter?"
   ]
  },
  {
   "cell_type": "code",
   "execution_count": 65,
   "metadata": {
    "collapsed": true
   },
   "outputs": [],
   "source": [
    "eq_classes_count = eq_df.groupby('transcript').apply(lambda x: x['eclass_id'].unique().shape[0])"
   ]
  },
  {
   "cell_type": "code",
   "execution_count": 66,
   "metadata": {},
   "outputs": [
    {
     "data": {
      "text/plain": [
       "transcript\n",
       "ENST00000000233     2\n",
       "ENST00000000412     3\n",
       "ENST00000000442     8\n",
       "ENST00000001008     2\n",
       "ENST00000002125     9\n",
       "ENST00000002165     3\n",
       "ENST00000002501     3\n",
       "ENST00000002596     2\n",
       "ENST00000003084     1\n",
       "ENST00000003100     2\n",
       "ENST00000003302    14\n",
       "ENST00000003583     2\n",
       "ENST00000003912     1\n",
       "ENST00000004103     5\n",
       "ENST00000004980     9\n",
       "ENST00000004982     2\n",
       "ENST00000005082    12\n",
       "ENST00000005178     1\n",
       "ENST00000005257     2\n",
       "ENST00000005259     1\n",
       "ENST00000005260     2\n",
       "ENST00000005284     1\n",
       "ENST00000005286     9\n",
       "ENST00000005340     4\n",
       "ENST00000005374     5\n",
       "ENST00000005386     4\n",
       "ENST00000005558     1\n",
       "ENST00000006053     4\n",
       "ENST00000006251     7\n",
       "ENST00000006275     5\n",
       "                   ..\n",
       "ENST00000610127     2\n",
       "ENST00000610128     1\n",
       "ENST00000610130     1\n",
       "ENST00000610139     2\n",
       "ENST00000610140     6\n",
       "ENST00000610144     8\n",
       "ENST00000610153     5\n",
       "ENST00000610154     3\n",
       "ENST00000610158     1\n",
       "ENST00000610162     1\n",
       "ENST00000610171     1\n",
       "ENST00000610177     1\n",
       "ENST00000610179     3\n",
       "ENST00000610180    41\n",
       "ENST00000610185     1\n",
       "ENST00000610186     5\n",
       "ENST00000610189    10\n",
       "ENST00000610196     3\n",
       "ENST00000610202     1\n",
       "ENST00000610220     1\n",
       "ENST00000610223     3\n",
       "ENST00000610245     3\n",
       "ENST00000610247    30\n",
       "ENST00000610252     1\n",
       "ENST00000610270     1\n",
       "ENST00000610272     4\n",
       "ENST00000610273     1\n",
       "ENST00000610276     1\n",
       "ENST00000610278     1\n",
       "ENST00000610279     1\n",
       "Length: 65711, dtype: int64"
      ]
     },
     "execution_count": 66,
     "metadata": {},
     "output_type": "execute_result"
    }
   ],
   "source": [
    "eq_classes_count"
   ]
  },
  {
   "cell_type": "code",
   "execution_count": 20,
   "metadata": {},
   "outputs": [
    {
     "data": {
      "text/plain": [
       "((26889, 214), (121649, 10), (324478, 4), 202829, 94760)"
      ]
     },
     "execution_count": 20,
     "metadata": {},
     "output_type": "execute_result"
    }
   ],
   "source": [
    "data.shape, merged.shape, eq_df.shape, 324478-121649, 121649-26889"
   ]
  },
  {
   "cell_type": "code",
   "execution_count": 24,
   "metadata": {},
   "outputs": [
    {
     "data": {
      "text/html": [
       "<div style=\"max-height:1000px;max-width:1500px;overflow:auto;\">\n",
       "<table border=\"1\" class=\"dataframe\">\n",
       "  <thead>\n",
       "    <tr style=\"text-align: right;\">\n",
       "      <th></th>\n",
       "      <th>eclass_id</th>\n",
       "      <th>eclass_size</th>\n",
       "      <th>transcript</th>\n",
       "      <th>numreads</th>\n",
       "      <th>invalid</th>\n",
       "      <th>min</th>\n",
       "      <th>max</th>\n",
       "      <th>std</th>\n",
       "      <th>truth</th>\n",
       "      <th>mape</th>\n",
       "    </tr>\n",
       "  </thead>\n",
       "  <tbody>\n",
       "    <tr>\n",
       "      <th>0</th>\n",
       "      <td>0</td>\n",
       "      <td>1</td>\n",
       "      <td>ENST00000375898</td>\n",
       "      <td>385</td>\n",
       "      <td>True</td>\n",
       "      <td>329.000000</td>\n",
       "      <td>434.000000</td>\n",
       "      <td>19.682014</td>\n",
       "      <td>462</td>\n",
       "      <td>16.237013</td>\n",
       "    </tr>\n",
       "    <tr>\n",
       "      <th>2</th>\n",
       "      <td>1</td>\n",
       "      <td>4</td>\n",
       "      <td>ENST00000563559</td>\n",
       "      <td>47</td>\n",
       "      <td>True</td>\n",
       "      <td>1271.113536</td>\n",
       "      <td>1481.382832</td>\n",
       "      <td>37.884988</td>\n",
       "      <td>1473</td>\n",
       "      <td>6.225029</td>\n",
       "    </tr>\n",
       "    <tr>\n",
       "      <th>89810</th>\n",
       "      <td>24518</td>\n",
       "      <td>5</td>\n",
       "      <td>ENST00000563559</td>\n",
       "      <td>25</td>\n",
       "      <td>True</td>\n",
       "      <td>1271.113536</td>\n",
       "      <td>1481.382832</td>\n",
       "      <td>37.884988</td>\n",
       "      <td>1473</td>\n",
       "      <td>6.225029</td>\n",
       "    </tr>\n",
       "    <tr>\n",
       "      <th>101516</th>\n",
       "      <td>27786</td>\n",
       "      <td>5</td>\n",
       "      <td>ENST00000563559</td>\n",
       "      <td>657</td>\n",
       "      <td>True</td>\n",
       "      <td>1271.113536</td>\n",
       "      <td>1481.382832</td>\n",
       "      <td>37.884988</td>\n",
       "      <td>1473</td>\n",
       "      <td>6.225029</td>\n",
       "    </tr>\n",
       "    <tr>\n",
       "      <th>127144</th>\n",
       "      <td>34956</td>\n",
       "      <td>3</td>\n",
       "      <td>ENST00000563559</td>\n",
       "      <td>25</td>\n",
       "      <td>True</td>\n",
       "      <td>1271.113536</td>\n",
       "      <td>1481.382832</td>\n",
       "      <td>37.884988</td>\n",
       "      <td>1473</td>\n",
       "      <td>6.225029</td>\n",
       "    </tr>\n",
       "  </tbody>\n",
       "</table>\n",
       "</div>"
      ],
      "text/plain": [
       "        eclass_id  eclass_size       transcript  numreads invalid  \\\n",
       "0               0            1  ENST00000375898       385    True   \n",
       "2               1            4  ENST00000563559        47    True   \n",
       "89810       24518            5  ENST00000563559        25    True   \n",
       "101516      27786            5  ENST00000563559       657    True   \n",
       "127144      34956            3  ENST00000563559        25    True   \n",
       "\n",
       "                min          max        std  truth       mape  \n",
       "0        329.000000   434.000000  19.682014    462  16.237013  \n",
       "2       1271.113536  1481.382832  37.884988   1473   6.225029  \n",
       "89810   1271.113536  1481.382832  37.884988   1473   6.225029  \n",
       "101516  1271.113536  1481.382832  37.884988   1473   6.225029  \n",
       "127144  1271.113536  1481.382832  37.884988   1473   6.225029  "
      ]
     },
     "execution_count": 24,
     "metadata": {},
     "output_type": "execute_result"
    }
   ],
   "source": [
    "merged.head()"
   ]
  },
  {
   "cell_type": "code",
   "execution_count": 23,
   "metadata": {},
   "outputs": [
    {
     "data": {
      "text/html": [
       "<div style=\"max-height:1000px;max-width:1500px;overflow:auto;\">\n",
       "<table border=\"1\" class=\"dataframe\">\n",
       "  <thead>\n",
       "    <tr style=\"text-align: right;\">\n",
       "      <th></th>\n",
       "      <th>Length</th>\n",
       "      <th>EffectiveLength</th>\n",
       "      <th>TPM</th>\n",
       "      <th>NumReads</th>\n",
       "    </tr>\n",
       "    <tr>\n",
       "      <th>Name</th>\n",
       "      <th></th>\n",
       "      <th></th>\n",
       "      <th></th>\n",
       "      <th></th>\n",
       "    </tr>\n",
       "  </thead>\n",
       "  <tbody>\n",
       "    <tr>\n",
       "      <th>ENST00000382410</th>\n",
       "      <td>587</td>\n",
       "      <td>388.005</td>\n",
       "      <td>0</td>\n",
       "      <td>0</td>\n",
       "    </tr>\n",
       "    <tr>\n",
       "      <th>ENST00000382398</th>\n",
       "      <td>655</td>\n",
       "      <td>456.001</td>\n",
       "      <td>0</td>\n",
       "      <td>0</td>\n",
       "    </tr>\n",
       "    <tr>\n",
       "      <th>ENST00000382388</th>\n",
       "      <td>514</td>\n",
       "      <td>315.007</td>\n",
       "      <td>0</td>\n",
       "      <td>0</td>\n",
       "    </tr>\n",
       "    <tr>\n",
       "      <th>ENST00000334391</th>\n",
       "      <td>373</td>\n",
       "      <td>174.012</td>\n",
       "      <td>0</td>\n",
       "      <td>0</td>\n",
       "    </tr>\n",
       "    <tr>\n",
       "      <th>ENST00000246105</th>\n",
       "      <td>698</td>\n",
       "      <td>499.000</td>\n",
       "      <td>0</td>\n",
       "      <td>0</td>\n",
       "    </tr>\n",
       "  </tbody>\n",
       "</table>\n",
       "</div>"
      ],
      "text/plain": [
       "                 Length  EffectiveLength  TPM  NumReads\n",
       "Name                                                   \n",
       "ENST00000382410     587          388.005    0         0\n",
       "ENST00000382398     655          456.001    0         0\n",
       "ENST00000382388     514          315.007    0         0\n",
       "ENST00000334391     373          174.012    0         0\n",
       "ENST00000246105     698          499.000    0         0"
      ]
     },
     "execution_count": 23,
     "metadata": {},
     "output_type": "execute_result"
    }
   ],
   "source": [
    "quant.head()"
   ]
  },
  {
   "cell_type": "code",
   "execution_count": 25,
   "metadata": {
    "collapsed": true
   },
   "outputs": [],
   "source": [
    "merged2 = pd.merge(merged, quant, left_on='transcript', right_index=True)"
   ]
  },
  {
   "cell_type": "code",
   "execution_count": 28,
   "metadata": {
    "scrolled": true
   },
   "outputs": [
    {
     "data": {
      "text/html": [
       "<div style=\"max-height:1000px;max-width:1500px;overflow:auto;\">\n",
       "<table border=\"1\" class=\"dataframe\">\n",
       "  <thead>\n",
       "    <tr style=\"text-align: right;\">\n",
       "      <th></th>\n",
       "      <th>eclass_id</th>\n",
       "      <th>eclass_size</th>\n",
       "      <th>transcript</th>\n",
       "      <th>numreads</th>\n",
       "      <th>invalid</th>\n",
       "      <th>min</th>\n",
       "      <th>max</th>\n",
       "      <th>std</th>\n",
       "      <th>truth</th>\n",
       "      <th>mape</th>\n",
       "      <th>Length</th>\n",
       "      <th>EffectiveLength</th>\n",
       "      <th>TPM</th>\n",
       "      <th>NumReads</th>\n",
       "    </tr>\n",
       "  </thead>\n",
       "  <tbody>\n",
       "    <tr>\n",
       "      <th>0</th>\n",
       "      <td>0</td>\n",
       "      <td>1</td>\n",
       "      <td>ENST00000375898</td>\n",
       "      <td>385</td>\n",
       "      <td>True</td>\n",
       "      <td>329.000000</td>\n",
       "      <td>434.000000</td>\n",
       "      <td>19.682014</td>\n",
       "      <td>462</td>\n",
       "      <td>16.237013</td>\n",
       "      <td>5338</td>\n",
       "      <td>5138.991</td>\n",
       "      <td>2.305557</td>\n",
       "      <td>385.000000</td>\n",
       "    </tr>\n",
       "    <tr>\n",
       "      <th>2</th>\n",
       "      <td>1</td>\n",
       "      <td>4</td>\n",
       "      <td>ENST00000563559</td>\n",
       "      <td>47</td>\n",
       "      <td>True</td>\n",
       "      <td>1271.113536</td>\n",
       "      <td>1481.382832</td>\n",
       "      <td>37.884988</td>\n",
       "      <td>1473</td>\n",
       "      <td>6.225029</td>\n",
       "      <td>2128</td>\n",
       "      <td>1928.991</td>\n",
       "      <td>22.055163</td>\n",
       "      <td>1382.443488</td>\n",
       "    </tr>\n",
       "    <tr>\n",
       "      <th>89810</th>\n",
       "      <td>24518</td>\n",
       "      <td>5</td>\n",
       "      <td>ENST00000563559</td>\n",
       "      <td>25</td>\n",
       "      <td>True</td>\n",
       "      <td>1271.113536</td>\n",
       "      <td>1481.382832</td>\n",
       "      <td>37.884988</td>\n",
       "      <td>1473</td>\n",
       "      <td>6.225029</td>\n",
       "      <td>2128</td>\n",
       "      <td>1928.991</td>\n",
       "      <td>22.055163</td>\n",
       "      <td>1382.443488</td>\n",
       "    </tr>\n",
       "    <tr>\n",
       "      <th>101516</th>\n",
       "      <td>27786</td>\n",
       "      <td>5</td>\n",
       "      <td>ENST00000563559</td>\n",
       "      <td>657</td>\n",
       "      <td>True</td>\n",
       "      <td>1271.113536</td>\n",
       "      <td>1481.382832</td>\n",
       "      <td>37.884988</td>\n",
       "      <td>1473</td>\n",
       "      <td>6.225029</td>\n",
       "      <td>2128</td>\n",
       "      <td>1928.991</td>\n",
       "      <td>22.055163</td>\n",
       "      <td>1382.443488</td>\n",
       "    </tr>\n",
       "    <tr>\n",
       "      <th>127144</th>\n",
       "      <td>34956</td>\n",
       "      <td>3</td>\n",
       "      <td>ENST00000563559</td>\n",
       "      <td>25</td>\n",
       "      <td>True</td>\n",
       "      <td>1271.113536</td>\n",
       "      <td>1481.382832</td>\n",
       "      <td>37.884988</td>\n",
       "      <td>1473</td>\n",
       "      <td>6.225029</td>\n",
       "      <td>2128</td>\n",
       "      <td>1928.991</td>\n",
       "      <td>22.055163</td>\n",
       "      <td>1382.443488</td>\n",
       "    </tr>\n",
       "  </tbody>\n",
       "</table>\n",
       "</div>"
      ],
      "text/plain": [
       "        eclass_id  eclass_size       transcript  numreads invalid  \\\n",
       "0               0            1  ENST00000375898       385    True   \n",
       "2               1            4  ENST00000563559        47    True   \n",
       "89810       24518            5  ENST00000563559        25    True   \n",
       "101516      27786            5  ENST00000563559       657    True   \n",
       "127144      34956            3  ENST00000563559        25    True   \n",
       "\n",
       "                min          max        std  truth       mape  Length  \\\n",
       "0        329.000000   434.000000  19.682014    462  16.237013    5338   \n",
       "2       1271.113536  1481.382832  37.884988   1473   6.225029    2128   \n",
       "89810   1271.113536  1481.382832  37.884988   1473   6.225029    2128   \n",
       "101516  1271.113536  1481.382832  37.884988   1473   6.225029    2128   \n",
       "127144  1271.113536  1481.382832  37.884988   1473   6.225029    2128   \n",
       "\n",
       "        EffectiveLength        TPM     NumReads  \n",
       "0              5138.991   2.305557   385.000000  \n",
       "2              1928.991  22.055163  1382.443488  \n",
       "89810          1928.991  22.055163  1382.443488  \n",
       "101516         1928.991  22.055163  1382.443488  \n",
       "127144         1928.991  22.055163  1382.443488  "
      ]
     },
     "execution_count": 28,
     "metadata": {},
     "output_type": "execute_result"
    }
   ],
   "source": [
    "merged2.head()"
   ]
  },
  {
   "cell_type": "markdown",
   "metadata": {},
   "source": [
    "## Classification"
   ]
  },
  {
   "cell_type": "code",
   "execution_count": 183,
   "metadata": {
    "collapsed": true
   },
   "outputs": [],
   "source": [
    "grobj = merged2.groupby('transcript')\n",
    "\n",
    "X_y = pd.DataFrame(index=set(merged2['transcript']))\n",
    "\n",
    "X_y['num_classes'] = grobj.apply(lambda x: x['eclass_id'].unique().shape[0]).apply(log)\n",
    "\n",
    "X_y['feature2'] = grobj.apply(lambda x: sum(x['eclass_size'])/len(x)).apply(log)\n",
    "X_y['feature3'] = grobj.apply(lambda x: sum(x['eclass_size'])).apply(log)\n",
    "X_y['feature4'] = grobj.apply(lambda x: sum(x['numreads'])/len(x)).apply(log)\n",
    "X_y['weighted_reads'] = grobj.apply(lambda x: sum(x['numreads']/x['eclass_size'])).apply(log)\n",
    "X_y['nu_other_trs'] = grobj.apply(lambda x: sum(x['eclass_size'])).apply(log)\n",
    "\n",
    "X_y['avg_class_length'] = grobj.apply(lambda x: sum(x['Length'])/len(x)).apply(log)\n",
    "X_y['avg_class_elength'] = grobj.apply(lambda x: sum(x['EffectiveLength'])/len(x)).apply(log)\n",
    "X_y['avg_class_tpm'] = grobj.apply(lambda x: sum(x['TPM'])/len(x)).apply(lambda x: log(x+1))\n",
    "X_y['avg_class_numreads'] = grobj.apply(lambda x: sum(x['NumReads'])/len(x)).apply(lambda x: log(x+1))\n",
    "\n",
    "X_y['min'] = data_mins\n",
    "X_y['maxs'] = data_maxs\n",
    "X_y['mean'] = data_means\n",
    "X_y['std'] = data_std\n",
    "\n",
    "X_y['truth'] = data['truth']\n",
    "X_y['invalid'] = data['invalid']\n",
    "X_y['mape'] = data['mape']\n",
    "X_y['mae_n'] = data['mae_n']"
   ]
  },
  {
   "cell_type": "code",
   "execution_count": 208,
   "metadata": {},
   "outputs": [
    {
     "data": {
      "text/plain": [
       "(8.0440003308664529, 0.087502775326086746)"
      ]
     },
     "execution_count": 208,
     "metadata": {},
     "output_type": "execute_result"
    }
   ],
   "source": [
    "from sklearn.linear_model import LinearRegression\n",
    "from sklearn.preprocessing import scale\n",
    "from sklearn.model_selection import train_test_split\n",
    "from sklearn.metrics import classification_report, mean_squared_error, r2_score \n",
    "from sklearn.utils import shuffle\n",
    "from sklearn.naive_bayes import GaussianNB\n",
    "from sklearn.svm import SVC, SVR\n",
    "\n",
    "X = X_y[X_y.columns[:-4]]\n",
    "y_mape = X_y['mape']\n",
    "y_mae_n = X_y['mae_n']\n",
    "y_truth = X_y['truth']\n",
    "y_invalid = X_y['invalid']\n",
    "\n",
    "X_s = pd.DataFrame(scale(X), columns=X.columns)\n",
    "\n",
    "X_s, y_mae_n = shuffle(X_s, y_mae_n)\n",
    "\n",
    "X_train, X_test, y_train, y_test = train_test_split(X_s, y_mae_n, test_size=0.3)\n",
    "\n",
    "# clf = LinearRegression()\n",
    "clf = SVR()\n",
    "# clf = SVC()\n",
    "clf.fit(X_train, y_train)\n",
    "pred = clf.predict(X_test)\n",
    "mean_squared_error(y_test, pred), r2_score(y_test, pred)\n",
    "# print classification_report(y_test, pred)"
   ]
  },
  {
   "cell_type": "markdown",
   "metadata": {},
   "source": [
    "## akjdfb"
   ]
  },
  {
   "cell_type": "code",
   "execution_count": 180,
   "metadata": {},
   "outputs": [
    {
     "name": "stdout",
     "output_type": "stream",
     "text": [
      "             precision    recall  f1-score   support\n",
      "\n",
      "      False       0.76      0.78      0.77      3992\n",
      "       True       0.78      0.76      0.77      4075\n",
      "\n",
      "avg / total       0.77      0.77      0.77      8067\n",
      "\n"
     ]
    }
   ],
   "source": [
    "from sklearn.linear_model import LinearRegression\n",
    "from sklearn.preprocessing import scale\n",
    "from sklearn.model_selection import train_test_split\n",
    "from sklearn.metrics import classification_report, mean_squared_error, r2_score \n",
    "from sklearn.utils import shuffle\n",
    "from sklearn.naive_bayes import GaussianNB\n",
    "from scipy import stats\n",
    "# X = X_y[X_y.columns[:-4]]\n",
    "# y_mape = X_y['mape']\n",
    "# y_mae_n = X_y['mae_n']\n",
    "# y_truth = X_y['truth']\n",
    "# y_invalid = X_y['invalid']\n",
    "\n",
    "# X_s = pd.DataFrame(scale(X), columns=X.columns)\n",
    "\n",
    "# X_s, y_mape = shuffle(X_s, y_invalid)\n",
    "\n",
    "X = data[['NumReads']]\n",
    "X['NumReads'] = X['NumReads'].apply(lambda x: log(x+1))\n",
    "X_train, X_test, y_train, y_test = train_test_split(X, data['invalid'], test_size=0.3)\n",
    "\n",
    "# clf = LinearRegression()\n",
    "clf = GausqsianNB()\n",
    "clf.fit(X_train, y_train)\n",
    "pred = clf.predict(X_test)\n",
    "# mean_squared_error(y_test, pred), r2_score(y_test, pred)\n",
    "\n",
    "print classification_report(y_test, pred)"
   ]
  }
 ],
 "metadata": {
  "kernelspec": {
   "display_name": "Python 2",
   "language": "python",
   "name": "python2"
  },
  "language_info": {
   "codemirror_mode": {
    "name": "ipython",
    "version": 2
   },
   "file_extension": ".py",
   "mimetype": "text/x-python",
   "name": "python",
   "nbconvert_exporter": "python",
   "pygments_lexer": "ipython2",
   "version": "2.7.13"
  }
 },
 "nbformat": 4,
 "nbformat_minor": 1
}
